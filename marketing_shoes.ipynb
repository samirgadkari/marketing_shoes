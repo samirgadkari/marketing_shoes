{
 "cells": [
  {
   "cell_type": "markdown",
   "metadata": {},
   "source": [
    "### Overview\n",
    "This dataset was obtained from  https://data.world/datafiniti/mens-shoe-prices\n",
    "\n",
    "Find interesting information in this dataset from a marketing point of view.\n",
    "\n",
    "Marketing physical products (like shoes) requires us to find:\n",
    "  - Price per unit\n",
    "  - Number of units sold\n",
    "These values are then used to decide price elasticity, and from that set our company's pricing policy.\n",
    "\n",
    "This dataset has prices found for particular shoes on internet websites. It does not include the number of units sold, but can give us an idea of the price points of various competitors selling the same shoe."
   ]
  },
  {
   "cell_type": "code",
   "execution_count": 1,
   "metadata": {
    "ExecuteTime": {
     "end_time": "2021-01-04T00:11:17.545390Z",
     "start_time": "2021-01-04T00:11:16.886272Z"
    }
   },
   "outputs": [],
   "source": [
    "from decouple import config\n",
    "import os\n",
    "import pandas as pd\n",
    "import numpy as np\n",
    "import matplotlib.pyplot as plt"
   ]
  },
  {
   "cell_type": "code",
   "execution_count": 2,
   "metadata": {
    "ExecuteTime": {
     "end_time": "2021-01-04T00:11:18.071929Z",
     "start_time": "2021-01-04T00:11:17.547583Z"
    }
   },
   "outputs": [
    {
     "name": "stderr",
     "output_type": "stream",
     "text": [
      "/Library/Frameworks/Python.framework/Versions/3.8/lib/python3.8/site-packages/IPython/core/interactiveshell.py:3145: DtypeWarning: Columns (39,45) have mixed types.Specify dtype option on import or set low_memory=False.\n",
      "  has_raised = await self.run_ast_nodes(code_ast.body, cell_name,\n"
     ]
    },
    {
     "data": {
      "text/html": [
       "<div>\n",
       "<style scoped>\n",
       "    .dataframe tbody tr th:only-of-type {\n",
       "        vertical-align: middle;\n",
       "    }\n",
       "\n",
       "    .dataframe tbody tr th {\n",
       "        vertical-align: top;\n",
       "    }\n",
       "\n",
       "    .dataframe thead th {\n",
       "        text-align: right;\n",
       "    }\n",
       "</style>\n",
       "<table border=\"1\" class=\"dataframe\">\n",
       "  <thead>\n",
       "    <tr style=\"text-align: right;\">\n",
       "      <th></th>\n",
       "      <th>id</th>\n",
       "      <th>asins</th>\n",
       "      <th>brand</th>\n",
       "      <th>categories</th>\n",
       "      <th>colors</th>\n",
       "      <th>count</th>\n",
       "      <th>dateadded</th>\n",
       "      <th>dateupdated</th>\n",
       "      <th>descriptions</th>\n",
       "      <th>dimension</th>\n",
       "      <th>...</th>\n",
       "      <th>prices_warranty</th>\n",
       "      <th>quantities</th>\n",
       "      <th>reviews</th>\n",
       "      <th>sizes</th>\n",
       "      <th>skus</th>\n",
       "      <th>sourceurls</th>\n",
       "      <th>upc</th>\n",
       "      <th>vin</th>\n",
       "      <th>websiteids</th>\n",
       "      <th>weight</th>\n",
       "    </tr>\n",
       "  </thead>\n",
       "  <tbody>\n",
       "    <tr>\n",
       "      <th>0</th>\n",
       "      <td>AVpfHrJ6ilAPnD_xVXOI</td>\n",
       "      <td>NaN</td>\n",
       "      <td>Josmo</td>\n",
       "      <td>Clothing,Shoes,Men's Shoes,All Men's Shoes</td>\n",
       "      <td>NaN</td>\n",
       "      <td>NaN</td>\n",
       "      <td>2016-11-07T00:45:12Z</td>\n",
       "      <td>2016-11-07T00:45:12Z</td>\n",
       "      <td>[{\"dateSeen\":[\"2016-11-07T00:45:12Z\"],\"sourceU...</td>\n",
       "      <td>NaN</td>\n",
       "      <td>...</td>\n",
       "      <td>NaN</td>\n",
       "      <td>NaN</td>\n",
       "      <td>NaN</td>\n",
       "      <td>NaN</td>\n",
       "      <td>NaN</td>\n",
       "      <td>https://www.walmart.com/ip/Josmo-8190-Plain-In...</td>\n",
       "      <td>699302044036</td>\n",
       "      <td>NaN</td>\n",
       "      <td>NaN</td>\n",
       "      <td>NaN</td>\n",
       "    </tr>\n",
       "    <tr>\n",
       "      <th>1</th>\n",
       "      <td>AVpfHrJ6ilAPnD_xVXOI</td>\n",
       "      <td>NaN</td>\n",
       "      <td>Josmo</td>\n",
       "      <td>Clothing,Shoes,Men's Shoes,All Men's Shoes</td>\n",
       "      <td>NaN</td>\n",
       "      <td>NaN</td>\n",
       "      <td>2016-11-07T00:45:12Z</td>\n",
       "      <td>2016-11-07T00:45:12Z</td>\n",
       "      <td>[{\"dateSeen\":[\"2016-11-07T00:45:12Z\"],\"sourceU...</td>\n",
       "      <td>NaN</td>\n",
       "      <td>...</td>\n",
       "      <td>NaN</td>\n",
       "      <td>NaN</td>\n",
       "      <td>NaN</td>\n",
       "      <td>NaN</td>\n",
       "      <td>NaN</td>\n",
       "      <td>https://www.walmart.com/ip/Josmo-8190-Plain-In...</td>\n",
       "      <td>699302044036</td>\n",
       "      <td>NaN</td>\n",
       "      <td>NaN</td>\n",
       "      <td>NaN</td>\n",
       "    </tr>\n",
       "    <tr>\n",
       "      <th>2</th>\n",
       "      <td>AVpfHsWP1cnluZ0-eVZ7</td>\n",
       "      <td>NaN</td>\n",
       "      <td>SERVUS BY HONEYWELL</td>\n",
       "      <td>All Men's Shoes,Shoes,Men's Shoes,Clothing</td>\n",
       "      <td>NaN</td>\n",
       "      <td>NaN</td>\n",
       "      <td>2016-06-14T04:29:57Z</td>\n",
       "      <td>2016-07-09T20:26:48Z</td>\n",
       "      <td>[{\"dateSeen\":[\"2016-07-09T20:26:48Z\"],\"sourceU...</td>\n",
       "      <td>NaN</td>\n",
       "      <td>...</td>\n",
       "      <td>NaN</td>\n",
       "      <td>NaN</td>\n",
       "      <td>NaN</td>\n",
       "      <td>NaN</td>\n",
       "      <td>NaN</td>\n",
       "      <td>http://www.walmart.com/ip/Studs-Shoe-Large-Pr-...</td>\n",
       "      <td>NaN</td>\n",
       "      <td>NaN</td>\n",
       "      <td>NaN</td>\n",
       "      <td>NaN</td>\n",
       "    </tr>\n",
       "    <tr>\n",
       "      <th>3</th>\n",
       "      <td>AVpfHsWP1cnluZ0-eVZ7</td>\n",
       "      <td>NaN</td>\n",
       "      <td>SERVUS BY HONEYWELL</td>\n",
       "      <td>All Men's Shoes,Shoes,Men's Shoes,Clothing</td>\n",
       "      <td>NaN</td>\n",
       "      <td>NaN</td>\n",
       "      <td>2016-06-14T04:29:57Z</td>\n",
       "      <td>2016-07-09T20:26:48Z</td>\n",
       "      <td>[{\"dateSeen\":[\"2016-07-09T20:26:48Z\"],\"sourceU...</td>\n",
       "      <td>NaN</td>\n",
       "      <td>...</td>\n",
       "      <td>NaN</td>\n",
       "      <td>NaN</td>\n",
       "      <td>NaN</td>\n",
       "      <td>NaN</td>\n",
       "      <td>NaN</td>\n",
       "      <td>http://www.walmart.com/ip/Studs-Shoe-Large-Pr-...</td>\n",
       "      <td>NaN</td>\n",
       "      <td>NaN</td>\n",
       "      <td>NaN</td>\n",
       "      <td>NaN</td>\n",
       "    </tr>\n",
       "    <tr>\n",
       "      <th>4</th>\n",
       "      <td>AVpfHsWP1cnluZ0-eVZ7</td>\n",
       "      <td>NaN</td>\n",
       "      <td>SERVUS BY HONEYWELL</td>\n",
       "      <td>All Men's Shoes,Shoes,Men's Shoes,Clothing</td>\n",
       "      <td>NaN</td>\n",
       "      <td>NaN</td>\n",
       "      <td>2016-06-14T04:29:57Z</td>\n",
       "      <td>2016-07-09T20:26:48Z</td>\n",
       "      <td>[{\"dateSeen\":[\"2016-07-09T20:26:48Z\"],\"sourceU...</td>\n",
       "      <td>NaN</td>\n",
       "      <td>...</td>\n",
       "      <td>NaN</td>\n",
       "      <td>NaN</td>\n",
       "      <td>NaN</td>\n",
       "      <td>NaN</td>\n",
       "      <td>NaN</td>\n",
       "      <td>http://www.walmart.com/ip/Studs-Shoe-Large-Pr-...</td>\n",
       "      <td>NaN</td>\n",
       "      <td>NaN</td>\n",
       "      <td>NaN</td>\n",
       "      <td>NaN</td>\n",
       "    </tr>\n",
       "  </tbody>\n",
       "</table>\n",
       "<p>5 rows × 48 columns</p>\n",
       "</div>"
      ],
      "text/plain": [
       "                     id asins                brand  \\\n",
       "0  AVpfHrJ6ilAPnD_xVXOI   NaN                Josmo   \n",
       "1  AVpfHrJ6ilAPnD_xVXOI   NaN                Josmo   \n",
       "2  AVpfHsWP1cnluZ0-eVZ7   NaN  SERVUS BY HONEYWELL   \n",
       "3  AVpfHsWP1cnluZ0-eVZ7   NaN  SERVUS BY HONEYWELL   \n",
       "4  AVpfHsWP1cnluZ0-eVZ7   NaN  SERVUS BY HONEYWELL   \n",
       "\n",
       "                                   categories colors  count  \\\n",
       "0  Clothing,Shoes,Men's Shoes,All Men's Shoes    NaN    NaN   \n",
       "1  Clothing,Shoes,Men's Shoes,All Men's Shoes    NaN    NaN   \n",
       "2  All Men's Shoes,Shoes,Men's Shoes,Clothing    NaN    NaN   \n",
       "3  All Men's Shoes,Shoes,Men's Shoes,Clothing    NaN    NaN   \n",
       "4  All Men's Shoes,Shoes,Men's Shoes,Clothing    NaN    NaN   \n",
       "\n",
       "              dateadded           dateupdated  \\\n",
       "0  2016-11-07T00:45:12Z  2016-11-07T00:45:12Z   \n",
       "1  2016-11-07T00:45:12Z  2016-11-07T00:45:12Z   \n",
       "2  2016-06-14T04:29:57Z  2016-07-09T20:26:48Z   \n",
       "3  2016-06-14T04:29:57Z  2016-07-09T20:26:48Z   \n",
       "4  2016-06-14T04:29:57Z  2016-07-09T20:26:48Z   \n",
       "\n",
       "                                        descriptions dimension  ...  \\\n",
       "0  [{\"dateSeen\":[\"2016-11-07T00:45:12Z\"],\"sourceU...       NaN  ...   \n",
       "1  [{\"dateSeen\":[\"2016-11-07T00:45:12Z\"],\"sourceU...       NaN  ...   \n",
       "2  [{\"dateSeen\":[\"2016-07-09T20:26:48Z\"],\"sourceU...       NaN  ...   \n",
       "3  [{\"dateSeen\":[\"2016-07-09T20:26:48Z\"],\"sourceU...       NaN  ...   \n",
       "4  [{\"dateSeen\":[\"2016-07-09T20:26:48Z\"],\"sourceU...       NaN  ...   \n",
       "\n",
       "   prices_warranty quantities  reviews sizes  skus  \\\n",
       "0              NaN        NaN      NaN   NaN   NaN   \n",
       "1              NaN        NaN      NaN   NaN   NaN   \n",
       "2              NaN        NaN      NaN   NaN   NaN   \n",
       "3              NaN        NaN      NaN   NaN   NaN   \n",
       "4              NaN        NaN      NaN   NaN   NaN   \n",
       "\n",
       "                                          sourceurls           upc  vin  \\\n",
       "0  https://www.walmart.com/ip/Josmo-8190-Plain-In...  699302044036  NaN   \n",
       "1  https://www.walmart.com/ip/Josmo-8190-Plain-In...  699302044036  NaN   \n",
       "2  http://www.walmart.com/ip/Studs-Shoe-Large-Pr-...           NaN  NaN   \n",
       "3  http://www.walmart.com/ip/Studs-Shoe-Large-Pr-...           NaN  NaN   \n",
       "4  http://www.walmart.com/ip/Studs-Shoe-Large-Pr-...           NaN  NaN   \n",
       "\n",
       "  websiteids weight  \n",
       "0        NaN    NaN  \n",
       "1        NaN    NaN  \n",
       "2        NaN    NaN  \n",
       "3        NaN    NaN  \n",
       "4        NaN    NaN  \n",
       "\n",
       "[5 rows x 48 columns]"
      ]
     },
     "execution_count": 2,
     "metadata": {},
     "output_type": "execute_result"
    }
   ],
   "source": [
    "dataset_path = os.path.join(config('DATASETS'),\n",
    "                            'mens_shoe_prices.csv')\n",
    "df = pd.read_csv(dataset_path)\n",
    "df.head()\n",
    "# The mixed-types warning tells us we have work to do if we\n",
    "# use those columns. Good we don't need them so far."
   ]
  },
  {
   "cell_type": "markdown",
   "metadata": {},
   "source": [
    "The mixed-type warning tells us we have work to do if we use those columns. Good we don't need them so far."
   ]
  },
  {
   "cell_type": "markdown",
   "metadata": {},
   "source": [
    "### Understand the dataframe columns\n",
    "\n",
    "This involves finding out:\n",
    "  - What data is available\n",
    "  - How much data in each column is missing, and what should we do about it\n",
    "  - Do we want to fill in missing data for any column\n",
    "  - Do we need to change column dtype\n",
    "All of this is done with an eye towards getting information out of the dataframe. If we don't need to use a column, there is no need to fix missing values for it."
   ]
  },
  {
   "cell_type": "code",
   "execution_count": 3,
   "metadata": {
    "ExecuteTime": {
     "end_time": "2021-01-04T00:11:18.081536Z",
     "start_time": "2021-01-04T00:11:18.075669Z"
    }
   },
   "outputs": [
    {
     "data": {
      "text/plain": [
       "Index(['id', 'asins', 'brand', 'categories', 'colors', 'count', 'dateadded',\n",
       "       'dateupdated', 'descriptions', 'dimension', 'ean', 'features',\n",
       "       'flavors', 'imageurls', 'isbn', 'keys', 'manufacturer',\n",
       "       'manufacturernumber', 'merchants', 'name', 'prices_amountmin',\n",
       "       'prices_amountmax', 'prices_availability', 'prices_color',\n",
       "       'prices_condition', 'prices_count', 'prices_currency',\n",
       "       'prices_dateadded', 'prices_dateseen', 'prices_flavor', 'prices_issale',\n",
       "       'prices_merchant', 'prices_offer', 'prices_returnpolicy',\n",
       "       'prices_shipping', 'prices_size', 'prices_source', 'prices_sourceurls',\n",
       "       'prices_warranty', 'quantities', 'reviews', 'sizes', 'skus',\n",
       "       'sourceurls', 'upc', 'vin', 'websiteids', 'weight'],\n",
       "      dtype='object')"
      ]
     },
     "execution_count": 3,
     "metadata": {},
     "output_type": "execute_result"
    }
   ],
   "source": [
    "df.columns"
   ]
  },
  {
   "cell_type": "markdown",
   "metadata": {},
   "source": [
    "Find the columns with 'price' in it's name:"
   ]
  },
  {
   "cell_type": "code",
   "execution_count": 4,
   "metadata": {
    "ExecuteTime": {
     "end_time": "2021-01-04T00:11:18.090289Z",
     "start_time": "2021-01-04T00:11:18.084394Z"
    }
   },
   "outputs": [
    {
     "data": {
      "text/plain": [
       "['prices_amountmin',\n",
       " 'prices_amountmax',\n",
       " 'prices_availability',\n",
       " 'prices_color',\n",
       " 'prices_condition',\n",
       " 'prices_count',\n",
       " 'prices_currency',\n",
       " 'prices_dateadded',\n",
       " 'prices_dateseen',\n",
       " 'prices_flavor',\n",
       " 'prices_issale',\n",
       " 'prices_merchant',\n",
       " 'prices_offer',\n",
       " 'prices_returnpolicy',\n",
       " 'prices_shipping',\n",
       " 'prices_size',\n",
       " 'prices_source',\n",
       " 'prices_sourceurls',\n",
       " 'prices_warranty']"
      ]
     },
     "execution_count": 4,
     "metadata": {},
     "output_type": "execute_result"
    }
   ],
   "source": [
    "list(filter(lambda x: 'price' in x, df.columns))\n",
    "# This gives us a list of price columns we could use."
   ]
  },
  {
   "cell_type": "markdown",
   "metadata": {},
   "source": [
    "#### Do a quick overview of the columns in the dataframe"
   ]
  },
  {
   "cell_type": "code",
   "execution_count": 11,
   "metadata": {
    "ExecuteTime": {
     "end_time": "2021-01-04T00:11:18.314885Z",
     "start_time": "2021-01-04T00:11:18.245535Z"
    }
   },
   "outputs": [
    {
     "name": "stdout",
     "output_type": "stream",
     "text": [
      "NA values in id                  :  0.0\n",
      "NA values in asins               :  0.87\n",
      "NA values in brand               :  0.013\n",
      "NA values in categories          :  0.0\n",
      "NA values in colors              :  0.43\n",
      "NA values in count               :  1.0\n",
      "NA values in dateadded           :  0.0\n",
      "NA values in dateupdated         :  0.0\n",
      "NA values in descriptions        :  0.49\n",
      "NA values in dimension           :  0.85\n",
      "NA values in ean                 :  0.48\n",
      "NA values in features            :  0.28\n",
      "NA values in flavors             :  1.0\n",
      "NA values in imageurls           :  0.054\n",
      "NA values in isbn                :  1.0\n",
      "NA values in keys                :  0.0\n",
      "NA values in manufacturer        :  0.65\n",
      "NA values in manufacturernumber  :  0.22\n",
      "NA values in merchants           :  0.28\n",
      "NA values in name                :  0.0\n",
      "NA values in prices_amountmin    :  0.00052\n",
      "NA values in prices_amountmax    :  0.0\n",
      "NA values in prices_availability :  0.99\n",
      "NA values in prices_color        :  0.96\n",
      "NA values in prices_condition    :  0.35\n",
      "NA values in prices_count        :  1.0\n",
      "NA values in prices_currency     :  0.0039\n",
      "NA values in prices_dateadded    :  0.00077\n",
      "NA values in prices_dateseen     :  0.0013\n",
      "NA values in prices_flavor       :  1.0\n",
      "NA values in prices_issale       :  0.0034\n",
      "NA values in prices_merchant     :  0.29\n",
      "NA values in prices_offer        :  0.69\n",
      "NA values in prices_returnpolicy :  0.95\n",
      "NA values in prices_shipping     :  0.7\n",
      "NA values in prices_size         :  0.97\n",
      "NA values in prices_source       :  1.0\n",
      "NA values in prices_sourceurls   :  0.0055\n",
      "NA values in prices_warranty     :  0.99\n",
      "NA values in quantities          :  1.0\n",
      "NA values in reviews             :  0.91\n",
      "NA values in sizes               :  0.69\n",
      "NA values in skus                :  0.55\n",
      "NA values in sourceurls          :  0.0064\n",
      "NA values in upc                 :  0.44\n",
      "NA values in vin                 :  1.0\n",
      "NA values in websiteids          :  1.0\n",
      "NA values in weight              :  0.96\n"
     ]
    }
   ],
   "source": [
    "def percent_na(df, colname):\n",
    "    return df[colname].isna().sum() / df.shape[0]\n",
    "\n",
    "for colname in df.columns:\n",
    "    print(f'NA values in {colname:<20}: {percent_na(df, colname): .2}')"
   ]
  },
  {
   "cell_type": "markdown",
   "metadata": {},
   "source": [
    "We will ignore columns whose fraction of null values is high.\n",
    "It looks like most of these columns are not needed anyway."
   ]
  },
  {
   "cell_type": "code",
   "execution_count": 6,
   "metadata": {
    "ExecuteTime": {
     "end_time": "2021-01-04T00:11:18.114187Z",
     "start_time": "2021-01-04T00:11:18.105069Z"
    }
   },
   "outputs": [
    {
     "data": {
      "text/plain": [
       "array(['[{\"dateSeen\":[\"2016-11-07T00:45:12Z\"],\"name\":\"Unbeatablesale\"}]',\n",
       "       '[{\"dateSeen\":[\"2016-06-14T04:29:57Z\"],\"name\":\"Sim Supply Inc\"}]',\n",
       "       '[{\"dateSeen\":[\"2016-05-06T14:41:57Z\"],\"name\":\"Apparelsave\"}]',\n",
       "       '[{\"dateSeen\":[\"2016-11-15T12:45:09Z\"],\"name\":\"Apparelsave\"},{\"dateSeen\":[\"2016-11-15T12:45:09Z\"],\"name\":\"Bhfo, Inc.\"}]',\n",
       "       '[{\"dateSeen\":[\"2016-05-03T00:00:00Z\"],\"name\":\"Panda01689 - Ebay.com\"}]',\n",
       "       '[{\"dateSeen\":[\"2016-08-02T04:08:25Z\"],\"name\":\"Stand Up Ranchers\"}]',\n",
       "       '[{\"dateSeen\":[\"2017-01-07T20:51:20Z\"],\"name\":\"Designer Studio  Inc.\"}]',\n",
       "       '[{\"dateSeen\":[\"2016-11-10T09:32:40Z\"],\"name\":\"Walmart.com\"},{\"dateSeen\":[\"2015-10-28T00:00:00Z\"],\"name\":\"Vm Innovations - Ebay.com\"}]',\n",
       "       '[{\"dateSeen\":[\"2016-03-27T00:00:00Z\"],\"name\":\"Tradeallday1985 - Ebay.com\"}]',\n",
       "       '[{\"dateSeen\":[\"2016-11-11T09:50:34Z\"],\"name\":\"Apparelsave\"}]',\n",
       "       '[{\"dateSeen\":[\"2017-01-12T05:26:56Z\"],\"name\":\"Apparelsave\"}]',\n",
       "       '[{\"dateSeen\":[\"2016-03-29T00:00:00Z\"],\"name\":\"Mmasharp - Ebay.com\"}]',\n",
       "       '[{\"dateSeen\":[\"2015-11-09T13:05:34Z\"],\"name\":\"Virtual Exchanges Inc\"}]',\n",
       "       '[{\"dateSeen\":[\"2016-02-12T00:00:00Z\"],\"name\":\"High-quality-optics-from-italyhigh-quality-optics-from-italy - Ebay.com\"}]',\n",
       "       nan,\n",
       "       '[{\"dateSeen\":[\"2016-02-27T00:00:00Z\"],\"name\":\"Desportz - Ebay.com\"}]',\n",
       "       '[{\"dateSeen\":[\"2016-04-01T00:00:00Z\"],\"name\":\"Fanteller - Ebay.com\"}]',\n",
       "       '[{\"dateSeen\":[\"2016-04-28T00:00:00Z\"],\"name\":\"Amazon.ca\"}]',\n",
       "       '[{\"dateSeen\":[\"2017-01-12T06:13:15Z\"],\"name\":\"Apparelsave\"}]',\n",
       "       '[{\"dateSeen\":[\"2017-01-27T01:20:23Z\"],\"name\":\"Stand Up Ranchers\"}]',\n",
       "       '[{\"dateSeen\":[\"2017-01-07T20:51:20Z\"],\"name\":\"Apparelsave\"}]',\n",
       "       '[{\"dateSeen\":[\"2016-02-03T00:00:00Z\"],\"name\":\"Mens Bodega Uk\"},{\"dateSeen\":[\"2017-01-12T03:17:13Z\"],\"name\":\"Mensbodega\"}]',\n",
       "       '[{\"dateSeen\":[\"2016-06-18T00:00:00Z\"],\"name\":\"773adam773adam - Ebay.com\"}]',\n",
       "       '[{\"dateSeen\":[\"2017-01-27T01:20:22Z\"],\"name\":\"Shopping Blitz\"}]',\n",
       "       '[{\"dateSeen\":[\"2015-08-10T00:00:00Z\"],\"name\":\"Amazon.ca\"}]',\n",
       "       '[{\"dateSeen\":[\"2016-02-27T00:00:00Z\"],\"name\":\"Hannibalmed - Ebay.com\"}]',\n",
       "       '[{\"dateSeen\":[\"2017-01-20T18:57:45Z\"],\"name\":\"Brands R Us\"}]',\n",
       "       '[{\"dateSeen\":[\"2016-04-10T00:00:00Z\"],\"name\":\"11soccer03 - Ebay.com\"}]',\n",
       "       '[{\"dateSeen\":[\"2017-01-19T18:46:51Z\"],\"name\":\"Shopping Blitz\"}]',\n",
       "       '[{\"dateSeen\":[\"2016-11-15T13:13:18Z\"],\"name\":\"Apparelsave\"}]',\n",
       "       '[{\"dateSeen\":[\"2017-01-14T19:32:55Z\"],\"name\":\"Bhfo, Inc.\"}]',\n",
       "       '[{\"dateSeen\":[\"2016-10-04T00:00:00Z\"],\"name\":\"Omcs417omcs417 - Ebay.com\"}]',\n",
       "       '[{\"dateSeen\":[\"2016-10-05T16:55:23Z\"],\"name\":\"Shopping Blitz\"}]',\n",
       "       '[{\"dateSeen\":[\"2016-03-18T04:14:40Z\"],\"name\":\"Areatrend\"}]',\n",
       "       '[{\"dateSeen\":[\"2017-01-27T01:23:13Z\"],\"name\":\"Shoebacca Ltd.\"}]',\n",
       "       '[{\"dateSeen\":[\"2016-11-11T09:33:16Z\"],\"name\":\"Apparelsave\"}]',\n",
       "       '[{\"dateSeen\":[\"2017-01-19T18:46:38Z\"],\"name\":\"Street Moda\"}]',\n",
       "       '[{\"dateSeen\":[\"2016-02-12T00:00:00Z\"],\"name\":\"Mr_designermr_designer - Ebay.com\"},{\"dateSeen\":[\"2016-05-05T00:00:00Z\"],\"name\":\"Sunniesdirectaustralia - Ebay.com\"},{\"dateSeen\":[\"2016-02-12T00:00:00Z\"],\"name\":\"Your.favourite.store - Ebay.com\"}]',\n",
       "       '[{\"dateSeen\":[\"2016-04-01T00:00:00Z\"],\"name\":\"Redseafashion - Ebay.com\"}]',\n",
       "       '[{\"dateSeen\":[\"2016-10-05T16:55:09Z\"],\"name\":\"Unbeatablesale\"}]',\n",
       "       '[{\"dateSeen\":[\"2016-10-05T16:56:27Z\"],\"name\":\"Apparelsave\"}]',\n",
       "       '[{\"dateSeen\":[\"2016-11-06T23:58:56Z\"],\"name\":\"Zoro\"}]',\n",
       "       '[{\"dateSeen\":[\"2016-05-17T19:51:45Z\"],\"name\":\"Apparelsave\"}]',\n",
       "       '[{\"dateSeen\":[\"2016-02-12T00:00:00Z\"],\"name\":\"Wallevalenses - Ebay.com\"}]',\n",
       "       '[{\"dateSeen\":[\"2016-06-18T00:00:00Z\"],\"name\":\"Winnsports - Ebay.com\"}]',\n",
       "       '[{\"dateSeen\":[\"2016-05-17T00:00:00Z\"],\"name\":\"Heaven-sent-shop - Ebay.com\"}]',\n",
       "       '[{\"dateSeen\":[\"2016-10-05T16:55:49Z\"],\"name\":\"Virtual Exchanges Inc\"}]',\n",
       "       '[{\"dateSeen\":[\"2016-04-06T00:00:00Z\"],\"name\":\"Desertshoes - Ebay.com\"}]',\n",
       "       '[{\"dateSeen\":[\"2016-11-06T23:58:31Z\"],\"name\":\"Apparelsave\"}]',\n",
       "       '[{\"dateSeen\":[\"2016-04-06T00:00:00Z\"],\"name\":\"Victorioussales22 - Ebay.com\"}]',\n",
       "       '[{\"dateSeen\":[\"2017-01-12T06:14:32Z\"],\"name\":\"Areatrend\"}]',\n",
       "       '[{\"dateSeen\":[\"2016-11-15T13:13:48Z\"],\"name\":\"Apparelsave\"},{\"dateSeen\":[\"2016-11-15T13:13:48Z\"],\"name\":\"Shoenerds\"}]',\n",
       "       '[{\"dateSeen\":[\"2016-02-27T00:00:00Z\"],\"name\":\"Toys4world - Ebay.com\"}]',\n",
       "       '[{\"dateSeen\":[\"2016-10-05T22:22:36Z\"],\"name\":\"Zoro\"}]',\n",
       "       '[{\"dateSeen\":[\"2017-01-09T19:48:11Z\"],\"name\":\"Rbx Active\"}]',\n",
       "       '[{\"dateSeen\":[\"2017-01-09T20:24:33Z\"],\"name\":\"Apparelsave\"}]',\n",
       "       '[{\"dateSeen\":[\"2016-11-09T17:19:53Z\"],\"name\":\"Eyewear & Co.\"},{\"dateSeen\":[\"2016-02-12T00:00:00Z\"],\"name\":\"Urbansurfer-shop - Ebay.com\"}]',\n",
       "       '[{\"dateSeen\":[\"2017-01-09T19:45:26Z\"],\"name\":\"Shoenerds\"}]',\n",
       "       '[{\"dateSeen\":[\"2016-11-07T00:00:35Z\"],\"name\":\"Sim Supply Inc\"},{\"dateSeen\":[\"2016-11-07T00:00:35Z\"],\"name\":\"Supply The Home\"}]',\n",
       "       '[{\"dateSeen\":[\"2016-11-01T09:43:13Z\"],\"name\":\"Promax Commerce\"}]',\n",
       "       '[{\"dateSeen\":[\"2016-07-17T00:00:00Z\"],\"name\":\"Thesunglassdudeterry - Ebay.com\"}]',\n",
       "       '[{\"dateSeen\":[\"2017-01-12T06:13:10Z\"],\"name\":\"Apparelsave\"}]',\n",
       "       '[{\"dateSeen\":[\"2017-01-07T20:44:51Z\"],\"name\":\"Shoplet\"}]',\n",
       "       '[{\"dateSeen\":[\"2017-01-27T01:23:27Z\"],\"name\":\"Shoenerds\"}]',\n",
       "       '[{\"dateSeen\":[\"2017-01-12T06:16:09Z\"],\"name\":\"Upgrab\"}]',\n",
       "       '[{\"dateSeen\":[\"2017-01-14T19:32:29Z\"],\"name\":\"Walmart.com\"}]',\n",
       "       '[{\"dateSeen\":[\"2017-01-12T06:13:00Z\"],\"name\":\"Areatrend\"}]',\n",
       "       '[{\"dateSeen\":[\"2016-01-31T00:00:00Z\"],\"name\":\"Apparelsave - Ebay.com\"}]',\n",
       "       '[{\"dateSeen\":[\"2016-11-15T13:16:07Z\"],\"name\":\"Shoezoo\"}]',\n",
       "       '[{\"dateSeen\":[\"2016-03-21T00:00:00Z\"],\"name\":\"Reccos_3 - Ebay.com\"}]',\n",
       "       '[{\"dateSeen\":[\"2016-02-10T00:00:00Z\"],\"name\":\"Desirabledynamics - Ebay.com\"}]',\n",
       "       '[{\"dateSeen\":[\"2016-11-11T09:35:21Z\"],\"name\":\"Apparelsave\"}]',\n",
       "       '[{\"dateSeen\":[\"2017-01-09T19:45:13Z\"],\"name\":\"Fore Liquidation\"}]',\n",
       "       '[{\"dateSeen\":[\"2017-01-09T19:46:36Z\"],\"name\":\"Shoebacca Ltd.\"}]',\n",
       "       '[{\"dateSeen\":[\"2016-11-15T13:26:37Z\"],\"name\":\"Unbeatablesale\"}]',\n",
       "       '[{\"dateSeen\":[\"2017-01-12T06:18:24Z\"],\"name\":\"Suregrip Footwear\"}]',\n",
       "       '[{\"dateSeen\":[\"2016-04-06T00:00:00Z\"],\"name\":\"Littlesambita07littlesambita07 - Ebay.com\"}]',\n",
       "       '[{\"dateSeen\":[\"2017-01-17T19:02:23Z\"],\"name\":\"Walmart.com\"}]',\n",
       "       '[{\"dateSeen\":[\"2016-05-11T19:18:57Z\"],\"name\":\"Beltoutlet\"}]',\n",
       "       '[{\"dateSeen\":[\"2017-01-27T01:30:53Z\"],\"name\":\"Shoe Webster\"}]',\n",
       "       '[{\"dateSeen\":[\"2016-05-06T14:47:42Z\"],\"name\":\"Virtual Exchanges Inc\"}]',\n",
       "       '[{\"dateSeen\":[\"2016-04-11T00:00:00Z\"],\"name\":\"Asneakpeak - Ebay.com\"}]',\n",
       "       '[{\"dateSeen\":[\"2016-11-01T09:39:59Z\"],\"name\":\"Shoezoo\"}]',\n",
       "       '[{\"dateSeen\":[\"2016-11-02T03:21:30Z\"],\"name\":\"Beltoutlet\"}]',\n",
       "       '[{\"dateSeen\":[\"2017-01-12T06:13:39Z\"],\"name\":\"Apparelsave\"}]',\n",
       "       '[{\"dateSeen\":[\"2016-11-07T00:00:17Z\"],\"name\":\"Apparelsave\"}]',\n",
       "       '[{\"country\":\"US\",\"dateSeen\":[\"2016-02-13T00:00:00Z\"],\"name\":\"Kmart\"},{\"dateSeen\":[\"2016-11-07T18:55:23Z\"],\"name\":\"Metro Jewelry\"}]',\n",
       "       '[{\"dateSeen\":[\"2016-10-03T00:00:00Z\"],\"name\":\"Etnshopperetnshopper - Ebay.com\"}]',\n",
       "       '[{\"dateSeen\":[\"2017-01-05T18:05:57Z\"],\"name\":\"Maxton & Company\"}]',\n",
       "       '[{\"dateSeen\":[\"2016-11-01T09:46:02Z\"],\"name\":\"Apparelsave\"}]',\n",
       "       '[{\"dateSeen\":[\"2016-04-10T00:00:00Z\"],\"name\":\"Blackhawk1624 - Ebay.com\"}]',\n",
       "       '[{\"dateSeen\":[\"2016-09-04T00:00:00Z\"],\"name\":\"Tlg0828tlg0828 - Ebay.com\"}]',\n",
       "       '[{\"dateSeen\":[\"2017-01-17T19:32:09Z\"],\"name\":\"Virtual Exchanges Inc\"},{\"dateSeen\":[\"2017-01-17T19:32:09Z\"],\"name\":\"Shoes N Fashion\"}]',\n",
       "       '[{\"dateSeen\":[\"2016-02-12T00:00:00Z\"],\"name\":\"Wellcomebuy - Ebay.com\"}]',\n",
       "       '[{\"dateSeen\":[\"2017-01-09T19:48:17Z\"],\"name\":\"Shoe Webster\"}]',\n",
       "       '[{\"dateSeen\":[\"2016-06-18T00:00:00Z\"],\"name\":\"Trendunited - Ebay.com\"}]',\n",
       "       '[{\"dateSeen\":[\"2016-11-15T13:15:59Z\"],\"name\":\"Apparelsave\"}]',\n",
       "       '[{\"dateSeen\":[\"2017-01-24T18:54:05Z\"],\"name\":\"Shoezoo\"}]',\n",
       "       '[{\"dateSeen\":[\"2016-02-21T14:34:27Z\"],\"name\":\"Botach Inc.\"}]',\n",
       "       '[{\"address\":\"1730 Minor Ave\",\"availability\":\"Yes\",\"city\":\"Seattle\",\"country\":\"US\",\"dateSeen\":[\"2015-07-18T05:00:00Z\"],\"name\":\"Shoes.com\",\"phone\":\"2068127800\",\"province\":\"AU-WA\"}]'],\n",
       "      dtype=object)"
      ]
     },
     "execution_count": 6,
     "metadata": {},
     "output_type": "execute_result"
    }
   ],
   "source": [
    "df.merchants.unique()[:100]"
   ]
  },
  {
   "cell_type": "markdown",
   "metadata": {
    "ExecuteTime": {
     "end_time": "2021-01-04T02:56:17.507049Z",
     "start_time": "2021-01-04T02:56:17.501860Z"
    }
   },
   "source": [
    "The merchants column looks promising. Maybe we can compare shoe prices between various merchants."
   ]
  },
  {
   "cell_type": "code",
   "execution_count": 7,
   "metadata": {
    "ExecuteTime": {
     "end_time": "2021-01-04T00:11:18.144795Z",
     "start_time": "2021-01-04T00:11:18.117215Z"
    }
   },
   "outputs": [
    {
     "data": {
      "text/plain": [
       "(1237, 1566)"
      ]
     },
     "execution_count": 7,
     "metadata": {},
     "output_type": "execute_result"
    }
   ],
   "source": [
    "merchant_names = pd.Series(df.merchants.unique()).str.extract(r'name\\\"\\:\\\"(.*?)\\\"\\}').loc[:,0].unique()\n",
    "merchant_names = pd.Series(merchant_names).dropna()\n",
    "ebay_merchant_names = merchant_names[merchant_names.str.contains('Ebay\\.com')]\n",
    "len(ebay_merchant_names), len(merchant_names)"
   ]
  },
  {
   "cell_type": "markdown",
   "metadata": {},
   "source": [
    "There are 1237 ebay merchants, out of a total of 1566 unique merchants.\n",
    "\n",
    "Are there any amazon merchants in the data?"
   ]
  },
  {
   "cell_type": "code",
   "execution_count": 8,
   "metadata": {
    "ExecuteTime": {
     "end_time": "2021-01-04T00:11:18.156958Z",
     "start_time": "2021-01-04T00:11:18.149612Z"
    }
   },
   "outputs": [
    {
     "data": {
      "text/plain": [
       "14         Amazon.ca\n",
       "273           Amazon\n",
       "403     Amazon.co.uk\n",
       "1425      Amazon.com\n",
       "dtype: object"
      ]
     },
     "execution_count": 8,
     "metadata": {},
     "output_type": "execute_result"
    }
   ],
   "source": [
    "amazon_merchant_names = merchant_names[merchant_names.str.contains('amazon', case=False)]\n",
    "amazon_merchant_names"
   ]
  },
  {
   "cell_type": "markdown",
   "metadata": {},
   "source": [
    "Let's compare how many item types are being sold by Amazon vs. EBay"
   ]
  },
  {
   "cell_type": "code",
   "execution_count": 99,
   "metadata": {
    "ExecuteTime": {
     "end_time": "2021-01-04T02:59:57.984883Z",
     "start_time": "2021-01-04T02:59:57.919830Z"
    }
   },
   "outputs": [
    {
     "name": "stdout",
     "output_type": "stream",
     "text": [
      "Number of item types sold by Amazon: 378\n",
      "Number of item types sold by Ebay: 3926\n"
     ]
    }
   ],
   "source": [
    "print(f'Number of item types sold by Amazon: {df.merchants.str.contains(\"amazon\", case=False).sum()}')\n",
    "print(f'Number of item types sold by Ebay: {df.merchants.str.contains(\"ebay\", case=False).sum()}')"
   ]
  },
  {
   "cell_type": "code",
   "execution_count": 107,
   "metadata": {
    "ExecuteTime": {
     "end_time": "2021-01-04T03:05:37.513955Z",
     "start_time": "2021-01-04T03:05:37.499757Z"
    }
   },
   "outputs": [
    {
     "name": "stdout",
     "output_type": "stream",
     "text": [
      "[{\"dateSeen\":[\"2016-11-07T00:45:12Z\"],\"name\":\"Unbeatablesale\"}] nan\n",
      "[{\"dateSeen\":[\"2016-11-07T00:45:12Z\"],\"name\":\"Unbeatablesale\"}] UnbeatableSale - Walmart.com\n",
      "[{\"dateSeen\":[\"2016-06-14T04:29:57Z\"],\"name\":\"Sim Supply Inc\"}] SIM Supply Inc - Walmart.com\n",
      "[{\"dateSeen\":[\"2016-06-14T04:29:57Z\"],\"name\":\"Sim Supply Inc\"}] SIM Supply Inc - Walmart.com\n",
      "[{\"dateSeen\":[\"2016-06-14T04:29:57Z\"],\"name\":\"Sim Supply Inc\"}] SIM Supply Inc - Walmart.com\n",
      "[{\"dateSeen\":[\"2016-06-14T04:29:57Z\"],\"name\":\"Sim Supply Inc\"}] SIM Supply Inc - Walmart.com\n",
      "[{\"dateSeen\":[\"2016-06-14T04:29:57Z\"],\"name\":\"Sim Supply Inc\"}] SIM Supply Inc - Walmart.com\n",
      "[{\"dateSeen\":[\"2016-06-14T04:29:57Z\"],\"name\":\"Sim Supply Inc\"}] SIM Supply Inc - Walmart.com\n",
      "[{\"dateSeen\":[\"2016-06-14T04:29:57Z\"],\"name\":\"Sim Supply Inc\"}] SIM Supply Inc - Walmart.com\n",
      "[{\"dateSeen\":[\"2016-06-14T04:29:57Z\"],\"name\":\"Sim Supply Inc\"}] SIM Supply Inc - Walmart.com\n",
      "[{\"dateSeen\":[\"2016-05-06T14:41:57Z\"],\"name\":\"Apparelsave\"}] ApparelSave - Walmart.com\n",
      "[{\"dateSeen\":[\"2016-05-06T14:41:57Z\"],\"name\":\"Apparelsave\"}] ApparelSave - Walmart.com\n",
      "[{\"dateSeen\":[\"2016-05-06T14:41:57Z\"],\"name\":\"Apparelsave\"}] ApparelSave - Walmart.com\n",
      "[{\"dateSeen\":[\"2016-11-15T12:45:09Z\"],\"name\":\"Apparelsave\"},{\"dateSeen\":[\"2016-11-15T12:45:09Z\"],\"name\":\"Bhfo, Inc.\"}] BHFO, Inc. - Walmart.com\n",
      "[{\"dateSeen\":[\"2016-11-15T12:45:09Z\"],\"name\":\"Apparelsave\"},{\"dateSeen\":[\"2016-11-15T12:45:09Z\"],\"name\":\"Bhfo, Inc.\"}] BHFO, Inc. - Walmart.com\n",
      "[{\"dateSeen\":[\"2016-11-15T12:45:09Z\"],\"name\":\"Apparelsave\"},{\"dateSeen\":[\"2016-11-15T12:45:09Z\"],\"name\":\"Bhfo, Inc.\"}] ApparelSave - Walmart.com\n",
      "[{\"dateSeen\":[\"2016-11-15T12:45:09Z\"],\"name\":\"Apparelsave\"},{\"dateSeen\":[\"2016-11-15T12:45:09Z\"],\"name\":\"Bhfo, Inc.\"}] ApparelSave - Walmart.com\n",
      "[{\"dateSeen\":[\"2016-11-15T12:45:09Z\"],\"name\":\"Apparelsave\"},{\"dateSeen\":[\"2016-11-15T12:45:09Z\"],\"name\":\"Bhfo, Inc.\"}] ApparelSave - Walmart.com\n",
      "[{\"dateSeen\":[\"2016-05-03T00:00:00Z\"],\"name\":\"Panda01689 - Ebay.com\"}] nan\n",
      "[{\"dateSeen\":[\"2016-08-02T04:08:25Z\"],\"name\":\"Stand Up Ranchers\"}] STAND UP Ranchers - Walmart.com\n",
      "[{\"dateSeen\":[\"2017-01-07T20:51:20Z\"],\"name\":\"Designer Studio  Inc.\"}] nan\n",
      "[{\"dateSeen\":[\"2017-01-07T20:51:20Z\"],\"name\":\"Designer Studio  Inc.\"}] Designer Studio  Inc. - Walmart.com\n",
      "[{\"dateSeen\":[\"2016-11-10T09:32:40Z\"],\"name\":\"Walmart.com\"},{\"dateSeen\":[\"2015-10-28T00:00:00Z\"],\"name\":\"Vm Innovations - Ebay.com\"}] nan\n",
      "[{\"dateSeen\":[\"2016-11-10T09:32:40Z\"],\"name\":\"Walmart.com\"},{\"dateSeen\":[\"2015-10-28T00:00:00Z\"],\"name\":\"Vm Innovations - Ebay.com\"}] nan\n",
      "[{\"dateSeen\":[\"2016-11-10T09:32:40Z\"],\"name\":\"Walmart.com\"},{\"dateSeen\":[\"2015-10-28T00:00:00Z\"],\"name\":\"Vm Innovations - Ebay.com\"}] nan\n",
      "[{\"dateSeen\":[\"2016-03-27T00:00:00Z\"],\"name\":\"Tradeallday1985 - Ebay.com\"}] nan\n",
      "[{\"dateSeen\":[\"2016-11-11T09:50:34Z\"],\"name\":\"Apparelsave\"}] nan\n",
      "[{\"dateSeen\":[\"2016-11-11T09:50:34Z\"],\"name\":\"Apparelsave\"}] ApparelSave - Walmart.com\n",
      "[{\"dateSeen\":[\"2017-01-12T05:26:56Z\"],\"name\":\"Apparelsave\"}] ApparelSave - Walmart.com\n",
      "[{\"dateSeen\":[\"2017-01-12T05:26:56Z\"],\"name\":\"Apparelsave\"}] ApparelSave - Walmart.com\n",
      "[{\"dateSeen\":[\"2017-01-12T05:26:56Z\"],\"name\":\"Apparelsave\"}] ApparelSave - Walmart.com\n",
      "[{\"dateSeen\":[\"2017-01-12T05:26:56Z\"],\"name\":\"Apparelsave\"}] ApparelSave - Walmart.com\n",
      "[{\"dateSeen\":[\"2016-03-29T00:00:00Z\"],\"name\":\"Mmasharp - Ebay.com\"}] nan\n",
      "[{\"dateSeen\":[\"2015-11-09T13:05:34Z\"],\"name\":\"Virtual Exchanges Inc\"}] nan\n",
      "[{\"dateSeen\":[\"2015-11-09T13:05:34Z\"],\"name\":\"Virtual Exchanges Inc\"}] Virtual Exchanges Inc - Walmart.com\n",
      "[{\"dateSeen\":[\"2016-02-12T00:00:00Z\"],\"name\":\"High-quality-optics-from-italyhigh-quality-optics-from-italy - Ebay.com\"}] nan\n",
      "[{\"dateSeen\":[\"2016-03-29T00:00:00Z\"],\"name\":\"Mmasharp - Ebay.com\"}] nan\n",
      "nan Unique Bargains\n",
      "nan Unique Bargains\n",
      "[{\"dateSeen\":[\"2016-02-27T00:00:00Z\"],\"name\":\"Desportz - Ebay.com\"}] nan\n",
      "[{\"dateSeen\":[\"2016-04-01T00:00:00Z\"],\"name\":\"Fanteller - Ebay.com\"}] nan\n",
      "[{\"dateSeen\":[\"2016-04-28T00:00:00Z\"],\"name\":\"Amazon.ca\"}] Amazon.ca\n",
      "[{\"dateSeen\":[\"2017-01-12T06:13:15Z\"],\"name\":\"Apparelsave\"}] nan\n",
      "[{\"dateSeen\":[\"2017-01-12T06:13:15Z\"],\"name\":\"Apparelsave\"}] ApparelSave - Walmart.com\n",
      "[{\"dateSeen\":[\"2017-01-12T06:13:15Z\"],\"name\":\"Apparelsave\"}] ApparelSave - Walmart.com\n",
      "[{\"dateSeen\":[\"2017-01-12T06:13:15Z\"],\"name\":\"Apparelsave\"}] ApparelSave - Walmart.com\n",
      "[{\"dateSeen\":[\"2017-01-27T01:20:23Z\"],\"name\":\"Stand Up Ranchers\"}] STAND UP Ranchers - Walmart.com\n",
      "[{\"dateSeen\":[\"2017-01-07T20:51:20Z\"],\"name\":\"Apparelsave\"}] nan\n",
      "[{\"dateSeen\":[\"2017-01-07T20:51:20Z\"],\"name\":\"Apparelsave\"}] nan\n",
      "[{\"dateSeen\":[\"2017-01-07T20:51:20Z\"],\"name\":\"Apparelsave\"}] nan\n",
      "[{\"dateSeen\":[\"2017-01-07T20:51:20Z\"],\"name\":\"Apparelsave\"}] ApparelSave - Walmart.com\n",
      "nan nan\n",
      "[{\"dateSeen\":[\"2016-02-03T00:00:00Z\"],\"name\":\"Mens Bodega Uk\"},{\"dateSeen\":[\"2017-01-12T03:17:13Z\"],\"name\":\"Mensbodega\"}] Mens Bodega UK\n",
      "[{\"dateSeen\":[\"2016-02-03T00:00:00Z\"],\"name\":\"Mens Bodega Uk\"},{\"dateSeen\":[\"2017-01-12T03:17:13Z\"],\"name\":\"Mensbodega\"}] Mens Bodega UK\n",
      "[{\"dateSeen\":[\"2016-02-03T00:00:00Z\"],\"name\":\"Mens Bodega Uk\"},{\"dateSeen\":[\"2017-01-12T03:17:13Z\"],\"name\":\"Mensbodega\"}] MensBodega - Walmart.com\n",
      "[{\"dateSeen\":[\"2016-06-18T00:00:00Z\"],\"name\":\"773adam773adam - Ebay.com\"}] nan\n",
      "[{\"dateSeen\":[\"2016-06-18T00:00:00Z\"],\"name\":\"773adam773adam - Ebay.com\"}] 773adam773adam - Ebay.com\n",
      "[{\"dateSeen\":[\"2016-06-18T00:00:00Z\"],\"name\":\"773adam773adam - Ebay.com\"}] 773adam773adam - Ebay.com\n",
      "[{\"dateSeen\":[\"2017-01-27T01:20:22Z\"],\"name\":\"Shopping Blitz\"}] Shopping Blitz - Walmart.com\n",
      "[{\"dateSeen\":[\"2015-08-10T00:00:00Z\"],\"name\":\"Amazon.ca\"}] Amazon.ca\n",
      "[{\"dateSeen\":[\"2016-02-27T00:00:00Z\"],\"name\":\"Hannibalmed - Ebay.com\"}] nan\n",
      "[{\"dateSeen\":[\"2017-01-20T18:57:45Z\"],\"name\":\"Brands R Us\"}] Brands R US - Walmart.com\n",
      "nan nan\n",
      "[{\"dateSeen\":[\"2016-04-10T00:00:00Z\"],\"name\":\"11soccer03 - Ebay.com\"}] nan\n",
      "[{\"dateSeen\":[\"2017-01-19T18:46:51Z\"],\"name\":\"Shopping Blitz\"}] Shopping Blitz - Walmart.com\n",
      "[{\"dateSeen\":[\"2017-01-19T18:46:51Z\"],\"name\":\"Shopping Blitz\"}] Shopping Blitz - Walmart.com\n",
      "[{\"dateSeen\":[\"2017-01-19T18:46:51Z\"],\"name\":\"Shopping Blitz\"}] Shopping Blitz - Walmart.com\n",
      "[{\"dateSeen\":[\"2016-11-15T13:13:18Z\"],\"name\":\"Apparelsave\"}] nan\n",
      "[{\"dateSeen\":[\"2016-11-15T13:13:18Z\"],\"name\":\"Apparelsave\"}] ApparelSave - Walmart.com\n",
      "[{\"dateSeen\":[\"2017-01-14T19:32:55Z\"],\"name\":\"Bhfo, Inc.\"}] BHFO, Inc. - Walmart.com\n",
      "[{\"dateSeen\":[\"2017-01-14T19:32:55Z\"],\"name\":\"Bhfo, Inc.\"}] BHFO, Inc. - Walmart.com\n",
      "nan Bestpricecenter.com\n",
      "[{\"dateSeen\":[\"2016-10-04T00:00:00Z\"],\"name\":\"Omcs417omcs417 - Ebay.com\"}] nan\n",
      "[{\"dateSeen\":[\"2016-10-05T16:55:23Z\"],\"name\":\"Shopping Blitz\"}] Shopping Blitz - Walmart.com\n",
      "[{\"dateSeen\":[\"2016-03-18T04:14:40Z\"],\"name\":\"Areatrend\"}] AreaTrend - Walmart.com\n",
      "[{\"dateSeen\":[\"2016-03-18T04:14:40Z\"],\"name\":\"Areatrend\"}] AreaTrend - Walmart.com\n",
      "[{\"dateSeen\":[\"2016-03-18T04:14:40Z\"],\"name\":\"Areatrend\"}] AreaTrend - Walmart.com\n",
      "[{\"dateSeen\":[\"2016-03-18T04:14:40Z\"],\"name\":\"Areatrend\"}] AreaTrend - Walmart.com\n",
      "[{\"dateSeen\":[\"2016-03-18T04:14:40Z\"],\"name\":\"Areatrend\"}] AreaTrend - Walmart.com\n",
      "nan nan\n",
      "nan Liquidators\n",
      "[{\"dateSeen\":[\"2017-01-27T01:23:13Z\"],\"name\":\"Shoebacca Ltd.\"}] SHOEBACCA LTD. - Walmart.com\n",
      "[{\"dateSeen\":[\"2016-11-11T09:33:16Z\"],\"name\":\"Apparelsave\"}] nan\n",
      "[{\"dateSeen\":[\"2016-11-11T09:33:16Z\"],\"name\":\"Apparelsave\"}] ApparelSave - Walmart.com\n",
      "[{\"dateSeen\":[\"2016-11-11T09:33:16Z\"],\"name\":\"Apparelsave\"}] ApparelSave - Walmart.com\n",
      "[{\"dateSeen\":[\"2017-01-19T18:46:38Z\"],\"name\":\"Street Moda\"}] nan\n",
      "[{\"dateSeen\":[\"2017-01-19T18:46:38Z\"],\"name\":\"Street Moda\"}] Street Moda - Walmart.com\n",
      "[{\"dateSeen\":[\"2017-01-19T18:46:38Z\"],\"name\":\"Street Moda\"}] Street Moda - Walmart.com\n",
      "[{\"dateSeen\":[\"2016-02-12T00:00:00Z\"],\"name\":\"Mr_designermr_designer - Ebay.com\"},{\"dateSeen\":[\"2016-05-05T00:00:00Z\"],\"name\":\"Sunniesdirectaustralia - Ebay.com\"},{\"dateSeen\":[\"2016-02-12T00:00:00Z\"],\"name\":\"Your.favourite.store - Ebay.com\"}] nan\n",
      "[{\"dateSeen\":[\"2016-02-12T00:00:00Z\"],\"name\":\"Mr_designermr_designer - Ebay.com\"},{\"dateSeen\":[\"2016-05-05T00:00:00Z\"],\"name\":\"Sunniesdirectaustralia - Ebay.com\"},{\"dateSeen\":[\"2016-02-12T00:00:00Z\"],\"name\":\"Your.favourite.store - Ebay.com\"}] nan\n",
      "[{\"dateSeen\":[\"2016-02-12T00:00:00Z\"],\"name\":\"Mr_designermr_designer - Ebay.com\"},{\"dateSeen\":[\"2016-05-05T00:00:00Z\"],\"name\":\"Sunniesdirectaustralia - Ebay.com\"},{\"dateSeen\":[\"2016-02-12T00:00:00Z\"],\"name\":\"Your.favourite.store - Ebay.com\"}] nan\n",
      "[{\"dateSeen\":[\"2016-04-01T00:00:00Z\"],\"name\":\"Redseafashion - Ebay.com\"}] redseafashion - Ebay.com\n",
      "[{\"dateSeen\":[\"2016-04-01T00:00:00Z\"],\"name\":\"Redseafashion - Ebay.com\"}] redseafashion - Ebay.com\n",
      "[{\"dateSeen\":[\"2016-04-01T00:00:00Z\"],\"name\":\"Redseafashion - Ebay.com\"}] redseafashion - Ebay.com\n",
      "[{\"dateSeen\":[\"2016-10-05T16:55:09Z\"],\"name\":\"Unbeatablesale\"}] nan\n",
      "[{\"dateSeen\":[\"2016-10-05T16:55:09Z\"],\"name\":\"Unbeatablesale\"}] UnbeatableSale - Walmart.com\n",
      "[{\"dateSeen\":[\"2016-10-05T16:56:27Z\"],\"name\":\"Apparelsave\"}] ApparelSave - Walmart.com\n",
      "[{\"dateSeen\":[\"2016-10-05T16:56:27Z\"],\"name\":\"Apparelsave\"}] ApparelSave - Walmart.com\n",
      "nan Bigsales\n",
      "nan Bigsales\n"
     ]
    }
   ],
   "source": [
    "for x, y in list(zip(df.merchants.values, df.prices_merchant.values))[:100]:\n",
    "    print(x, y)"
   ]
  },
  {
   "cell_type": "code",
   "execution_count": 104,
   "metadata": {
    "ExecuteTime": {
     "end_time": "2021-01-04T03:04:24.293593Z",
     "start_time": "2021-01-04T03:04:24.287212Z"
    }
   },
   "outputs": [
    {
     "data": {
      "text/plain": [
       "19387"
      ]
     },
     "execution_count": 104,
     "metadata": {},
     "output_type": "execute_result"
    }
   ],
   "source": [
    "len(df.prices_merchant.values)"
   ]
  },
  {
   "cell_type": "markdown",
   "metadata": {},
   "source": [
    "So almost 10x more items were on ebay compared with amazon"
   ]
  },
  {
   "cell_type": "code",
   "execution_count": 10,
   "metadata": {
    "ExecuteTime": {
     "end_time": "2021-01-04T00:11:18.242940Z",
     "start_time": "2021-01-04T00:11:18.226454Z"
    }
   },
   "outputs": [
    {
     "data": {
      "text/plain": [
       "NaN                                    0.285965\n",
       "ApparelSave - Walmart.com              0.103110\n",
       "Sears.com                              0.045701\n",
       "www.ralphlauren.com                    0.034766\n",
       "UnbeatableSale.com, Inc.               0.031361\n",
       "                                         ...   \n",
       "topdawg_187 - Ebay.com                 0.000052\n",
       "Mt.FUJI                                0.000052\n",
       "2006happyface - Ebay.com               0.000052\n",
       "J'colour Socks                         0.000052\n",
       "Timepiece Trading LLC - Walmart.com    0.000052\n",
       "Name: prices_merchant, Length: 756, dtype: float64"
      ]
     },
     "execution_count": 10,
     "metadata": {},
     "output_type": "execute_result"
    }
   ],
   "source": [
    "df['prices_merchant'].value_counts(normalize=True, dropna=False)\n",
    "# These are the names of a list of online merchants.\n",
    "# We don't need this column."
   ]
  },
  {
   "cell_type": "code",
   "execution_count": 12,
   "metadata": {
    "ExecuteTime": {
     "end_time": "2021-01-04T00:11:18.337237Z",
     "start_time": "2021-01-04T00:11:18.317313Z"
    }
   },
   "outputs": [
    {
     "name": "stdout",
     "output_type": "stream",
     "text": [
      "min and max: dateadded    2014-05-07T20:09:46Z\n",
      "dtype: object, dateadded    2017-02-04T19:56:53Z\n",
      "dtype: object\n",
      "min and max: dateupdated    2016-01-02T02:38:34Z\n",
      "dtype: object, dateupdated    2017-02-04T19:57:37Z\n",
      "dtype: object\n"
     ]
    }
   ],
   "source": [
    "print(f'min and max: {df[[\"dateadded\"]].min()}, {df[[\"dateadded\"]].max()}')\n",
    "print(f'min and max: {df[[\"dateupdated\"]].min()}, {df[[\"dateupdated\"]].max()}')\n",
    "# Looks like the range is not huge - the dateadded has a 3-yr range.\n",
    "# So, we can ignore inflation."
   ]
  },
  {
   "cell_type": "code",
   "execution_count": 18,
   "metadata": {
    "ExecuteTime": {
     "end_time": "2021-01-04T00:13:15.748143Z",
     "start_time": "2021-01-04T00:13:15.708187Z"
    }
   },
   "outputs": [
    {
     "name": "stdout",
     "output_type": "stream",
     "text": [
      "Number of unique shoe brands: 768\n"
     ]
    },
    {
     "data": {
      "text/plain": [
       "array(['Josmo', 'SERVUS BY HONEYWELL', 'NATIVE', 'MAUI AND SONS', nan,\n",
       "       'Twisted X', 'Lacoste', 'Generic', 'PUMA', 'Filament',\n",
       "       'Robert Wayne', 'Roper', 'Puentes Denver', 'Woolrich',\n",
       "       'SoftScience', 'Dr. Martens', 'Lanvin', 'Realtree', 'DC',\n",
       "       'Kenneth Cole', 'Nike', 'Stacy Adams', 'Cole Haan', 'Pakems',\n",
       "       'Oakley', 'Genuine Grip', \"Dr. Scholl's\", 'El Naturalista',\n",
       "       'New Balance', 'STC', 'RBX', 'New Balance Numeric', 'SKECHERS',\n",
       "       'Norcross Safety Prod', 'PRIMESOURCE, INC.', 'Medline', 'Jordan',\n",
       "       'Unbranded', 'Converse', 'Kenneth Cole Reaction', 'Dvs',\n",
       "       'Academie', 'Keuka SureGrip', 'Athletic Works', 'Old Friend',\n",
       "       'Fitflop', 'Isotoner', 'Tretorn', 'Metro Jewelry', 'Shoe Goo',\n",
       "       'TOMS', 'VANS', 'ONGUARD', 'Reebok', 'Tommy Hilfiger', 'Geox',\n",
       "       'Hush Puppies', 'Alpine Swiss', 'Kenneth Cole NY', 'Gameday Boots',\n",
       "       'Georgia Boot', 'Rider', 'Polo Ralph Lauren', 'Massimo Matteo',\n",
       "       'PACIFIC TRAIL', 'Hunter', 'Bates', 'Ridge Outdoors',\n",
       "       'Weatherproof', 'Project Emotion', 'Cashel', 'Smart Step',\n",
       "       'Propet', 'Mizuno', 'Wolverine Worldwide', 'Callaway',\n",
       "       'Gordon Rush', \"J's Awake\", 'Chippewa', 'Servus', 'Dockers',\n",
       "       'Gourmet', 'Work America', 'NCAA', 'Nocona', 'Casio', 'Nu-Source',\n",
       "       '3N2', 'PHAT FARM', 'Timberland', 'Florsheim', 'TOTES ISOTONER',\n",
       "       'NFL', 'Bedroom Athletics', 'Perry Ellis', 'Cold Front', 'Bar III',\n",
       "       'Fireside Casuals', 'VALUE BRAND', 'Onitsuka Tiger',\n",
       "       'Boss Hugo Boss', 'Baffin Inc', 'Ugg Australia',\n",
       "       'Vision Street Wear', 'Calcutta', 'Dickies', 'Eastland',\n",
       "       'Unique Bargains', 'Daxx', 'Care Apparel', 'Forum Novelties',\n",
       "       'Quiksilver', 'PUMA SAFETY SHOES', 'TONY LAMA BOOT CO.', 'Reef',\n",
       "       'WOLVERINE WORLDWIDE', 'Moneysworth & Best', 'City Hunter',\n",
       "       'Venom', 'Original S.W.A.T.', 'Coronado', 'Original SWAT',\n",
       "       'MUK LUKS', 'Rocky', 'Merrell', 'Air Jordan', 'Sanuk',\n",
       "       '3N2 Sports', 'POLO Ralph Lauren', 'Crocs', 'Blundstone',\n",
       "       'Saucony', 'Bearpaw', 'AND1', \"Rubie's Costumes\", 'Wishpets',\n",
       "       'The North Face', 'ELLIE SHOES', 'SHOES FOR CREWS', 'Wembley',\n",
       "       'Portwest', 'La Sportiva', 'ROYER', 'Gifts', 'Cushe', 'Zoot',\n",
       "       'Newton Running', 'Baffin', 'Mercanti Fiorentini', 'Mezlan',\n",
       "       'Generic Surplus', 'Coogi', 'Under Armour', 'Ridge Footwear',\n",
       "       'Diamondback', 'Signature by Levi Strauss & Co', 'Muck Boot',\n",
       "       'Clarks', 'HUF', 'LaCrosse', 'Sperry\",\"Sperry Top Sider', 'Heaton',\n",
       "       'Minnetonka', 'Scarpa', 'Gola', 'Timex', 'Sabatier',\n",
       "       'J. Lindeberg', 'Leg Avenue', 'FootJoy', '29 Porter Rd',\n",
       "       'Bata Shoe', 'Principle Plastics Inc', 'Ralph Lauren', 'Magnum',\n",
       "       'John Varvatos', 'Seavees', 'PleaserUSA',\n",
       "       'Nobles Health Care Products', 'H.S. Trask', 'Diesel Black Gold',\n",
       "       'Empire', 'Justin', 'Faded Glory', 'L.B. Evans', 'Deluxe Comfort',\n",
       "       'Bogs', 'Comfy Feet', 'My Team', 'Aeropostale', 'SKELLERUP',\n",
       "       'Keen', 'MOUNTAIN GEAR', 'Ogio', 'Flojos', 'Exustar', 'Spira',\n",
       "       'Bacco Bucci', 'Dan Post', 'Birkenstock', 'NBA', 'Vasque',\n",
       "       'TINGLEY RUBBER', 'Fox Outdoor Products', 'Columbia', 'Rothco',\n",
       "       'Scott', 'Animal Peds', 'MLB', 'Perry Ellis Portfolio', 'Grendene',\n",
       "       'Belvedere', 'Tingley', 'Despicable Me 2', 'IB EVA Slippers',\n",
       "       'Guide Gear', 'Danner', 'ECCO', 'Funtasma', 'WORK MASTER',\n",
       "       'Montrail', 'Ariat', 'Caterpillar', 'Frye', 'TSUBO',\n",
       "       'Levi Strauss', 'Moda Essentials', 'Northside', 'Emerica',\n",
       "       'Fallen', 'Chocolat Blu', 'Mark Nason', 'Hey Dude',\n",
       "       'Voodoo Tactical', 'Helly Hansen', 'Izod', 'Team Beans',\n",
       "       'Tru-spec', 'Charles By Charles David',\n",
       "       'THE ORIGINAL MUCK BOOT CO.', 'J`S AWAKE', 'Ben Sherman',\n",
       "       'Emporio Armani', 'Banded Gear', 'Crevo', \"Hogan by Tod's\",\n",
       "       'Forever Collectible', 'CCILU', 'Drew',\n",
       "       'JUSTIN ORIGINAL WORKBOOTS', 'adidas', 'ERGOMATES',\n",
       "       'Costa Del Mar', 'Wolverine', 'DDI', 'Bokos', 'Fila Work', 'Svs',\n",
       "       'Bzees', 'Townforst', 'Naot', 'Lamo', 'Vans Footwear',\n",
       "       'BC Footwear', 'Op', 'IMPACTO', 'J75 by Jump', 'Wells Lamont',\n",
       "       'Rockport Works', 'Dearfoams', 'Marc Ecko Cut & Sew',\n",
       "       'Rapid Dominance', 'Bobux', 'TRETORN', 'Creative Recreation',\n",
       "       'Morris Costumes', 'Alfani', 'Trevco', 'Rockport', 'Ferrini',\n",
       "       'Rasta Imposta', 'The Generic Man', 'OOFOS', 'Durango',\n",
       "       'Deer Stags', 'GOLDTOE', 'Unlisted Kenneth Cole', 'Disney',\n",
       "       'Laredo', 'SCRUB ZONE', 'Hoka', 'Itasca', 'Avia', 'Fila',\n",
       "       'DANIEL WELLINGTON', 'Kenneth Cole New York', 'Hi-Tec',\n",
       "       'Paul Green', 'Tsubo', 'World Famous Sports', 'Trugel',\n",
       "       'Giorgio Brutini', 'Viking', 'K-swiss', 'Xtratuf', 'Telic',\n",
       "       'Easy USA', 'Circa Joan & David', 'North Face', 'ASICS',\n",
       "       'GENERIC SURPLUS', 'Carrera', 'Boreal', 'Alpinestars', 'Dolomite',\n",
       "       'Tredsafe', 'Dr. Martens Air Wair', 'Steve Madden',\n",
       "       'Maelstrom Tactical', 'Gola Classics', 'Sport', 'Brinley Co.',\n",
       "       'Old West', 'London Fog', \"O'Neill\", 'Forever Collectibles',\n",
       "       'Bostonian', 'ALLIANCE MERCANTILE INC', 'Bruno Magli',\n",
       "       'Johnston & Murphy', \"O'neal\", 'Island Surf', 'Stetson',\n",
       "       'Slippers International', 'RANGER BY HONEYWELL', 'OGIO', 'Coool',\n",
       "       'totes', 'Kamik', 'Pajar', 'Attipas', 'Roadmate Boot Co.',\n",
       "       'Rafters', 'Teva', 'MUCK BOOTS', 'Golden Retriever Footwear',\n",
       "       'Stafford', 'Swear London', 'The Brand Felt Ltd', 'Tin Haul',\n",
       "       'Bradley Cradwell Inc', 'SILVERHOOKS', 'Tesh', 'Robert Graham',\n",
       "       'Genuine Dickies', 'Muck', 'Tempur-Pedic', 'Dan Post Boots',\n",
       "       'Alexanders', 'Aldo', 'Timberland Pro', 'Palladium', 'Swear',\n",
       "       \"Breckelle's\", 'NORCROSS SAFETY', 'Chinook Technical Outdoor',\n",
       "       'Herman Survivors', 'The Original SWAT Footwear Co', 'BLACKHAWK!',\n",
       "       'Justin Boots', '1031', 'Bed Stu', 'MuckBoot', 'C1rca', 'Sorel',\n",
       "       'Gold Toe', 'VIONIC BY ORTHAHEEL', 'Guinness', 'COSMAS JAVA',\n",
       "       'Brahma', 'Great Northern', \"Tod's\", 'Ozark Trail', 'Propper',\n",
       "       'Calvin Klein', 'Ermenegildo Zegna', 'Sebago', 'Etnies',\n",
       "       'Leg Avenue, Inc.', 'Volcom', 'Puss N Boots', 'Donald J Pliner',\n",
       "       'TA Sandal', 'Andrew Marc', 'Castle X Racewear', 'Polo', 'CLC',\n",
       "       'Red Wing', 'Reef Footwear', 'Natural World', 'RENAISSANC',\n",
       "       'Rugged Shark', 'Gucci', 'Touch Ups', 'Grenade', 'Andrew Stevens',\n",
       "       'Mintcraft\",\"Diamondback Fitness', '32north/Stabilicers',\n",
       "       'Minnetonka Men', 'Mephisto', 'Hawaiian Classics', 'Silver Lilly',\n",
       "       'AIR BALANCE', 'Wood N Stream', 'Benefit Wear', 'Adtec', 'Born',\n",
       "       'Lugz', 'Beberlis', 'Pleaser Shoes', 'Dije California',\n",
       "       'TIMBERLAND PRO', 'JAMBU', 'Acacia', '361 Degrees',\n",
       "       'Alessandro Monelli', 'Volley', 'HideAways by L.B. Evans',\n",
       "       'Gertex', 'Rainbow', 'Aeromax', 'Madden', 'Complete Medical',\n",
       "       'elope', 'Sperry', 'Rugged Blue', 'Tecs',\n",
       "       'Minnetonka Moccasin Company, Inc.', 'Kenneth Cole New Yor',\n",
       "       'Ray Ban', 'Noble Outfitters', 'Lucchese', 'Ralph Lauren Polo',\n",
       "       'Corona Tools', 'Bushnell', 'Icon', 'Evelots', 'BOC MENS',\n",
       "       'Weaver Leather', 'Cat Footwear', 'Testosterone Shoes',\n",
       "       '7 For All Mankind', 'SummitFashions', 'Boulet', 'Nunn Bush',\n",
       "       'Acorn', 'Hoka One One', 'UGG', 'Maison Martin Margiela',\n",
       "       '1883 by Wolverine', 'Dabuyu', 'Speedo', 'Aston Grey Collection',\n",
       "       'MEZLAN', 'AIR JORDAN', 'BOSS MFG COMPANY', 'Grabbers',\n",
       "       'PF FLYERS', 'Spring Step', 'Tommy Bahama', 'Nike\",\"AIR JORDAN',\n",
       "       'HABIT', 'Star Wars', 'Cycleur de Luxe', 'Rod Patrick', 'Firefly',\n",
       "       'Tony Lama', 'IRON AGE', \"RJ's Fuzzies\", 'Icebug', 'Plixio',\n",
       "       'Sole', 'Nautica', 'Treds', 'Studio Ink', 'Sendra Boots',\n",
       "       'Honeywell', 'NorCross', 'Cudas', 'Gootium', 'OluKai',\n",
       "       'Gravity Defyer', 'Halloween Resource Center, Inc.', 'Vionic',\n",
       "       'Cudas Footwear', 'Chass', 'Ridge', 'GBX', 'CAT', 'Modern Vintage',\n",
       "       'Adamsbuilt Fishing', 'Black Butler', 'RG Costumes', 'DAWGS',\n",
       "       'Electric Visual', 'Lakai', 'Puma Safety Shoes', 'WINTHROP',\n",
       "       'Rush by Gordon Rush', 'McRae Footwear', 'US Polo Assn',\n",
       "       'Kenetrek', 'Chrome', 'Oofos', 'Huf', 'Old Gringo',\n",
       "       'Original Penguin', 'Twisted X Boots', 'Broken T', 'Vito Rossi',\n",
       "       'Interceptor', 'BACKJOY', 'SOFT SCIENCE', 'Palm Beach Jewelry',\n",
       "       'Gorila', 'Spenco', 'Ameta', 'Chums', 'K2', 'Tom Ford', 'WISHPETS',\n",
       "       'Tactical 5.11', 'Ozone', 'Carhartt', 'Zanzara', 'Lowa',\n",
       "       'Norcross Safety', 'John Deere', 'P.W. Minor', 'PF Flyers',\n",
       "       'Brunello Cucinelli', 'PF-Flyers', '20-001707000', 'Cinch',\n",
       "       'KAZ HOME ENVIRONMENT', 'G ANTINI', 'SANDAL KING', 'Supra',\n",
       "       'Sharper Image', 'CTM', 'HUGO BOSS', 'Gianvito Rossi', 'Smiffys',\n",
       "       'Brooks', 'Croakies', 'Zorrie', 'Team Beans, L.L.C',\n",
       "       'Bling Jewelry', 'Masimo Capori', 'MIKO LOTTI',\n",
       "       'Holdup Suspender Company Inc', 'Nike SB', 'Toms Footwear',\n",
       "       'Saint Laurent', 'Principle Plastics', 'Masimo New York',\n",
       "       'Blackstone', 'Alexander McQueen By Puma', '5.11 Tactical',\n",
       "       'DF by Dearfoams', 'Golfstream Shoes', 'EasyCare',\n",
       "       'MADE Cam Newton', 'HMK', 'Demonia', 'Wmu', \"Joe's\", 'Rycore',\n",
       "       'funworld', 'Orthofeet', 'Sperry Top Sider', 'DrMartens',\n",
       "       'Moods of Norway', 'Dsquared2', 'Diesel',\n",
       "       'GOLDEN RETRIEVER OUTDOOR FOOTWEAR', 'Redback Boots', 'Alexander',\n",
       "       'Timberland Earthkeepers', 'CKX', 'Marc Joseph',\n",
       "       'Muck Boot Team J', 'Pali Hawaii', 'Franco', 'Totes Isotoner',\n",
       "       'Deadman Wonderland', 'Invicta', 'Springland',\n",
       "       'Fairly Odd Novelties', 'MIK\",\"Mik', 'Bugatchi', 'Sunville',\n",
       "       'Kinetic', 'Ranger', 'Oliberte', 'Skechers Work', 'G Antini',\n",
       "       'Rugged Country', 'Red Label By Giovanni', 'Red Camel',\n",
       "       'Academie Gear', 'Emu', 'Seiko', 'McRae Industrial', 'Magliner',\n",
       "       'Rango I&E Trading Inc', 'Miller', 'Alexander McQueen',\n",
       "       \"Professional's Choice\", 'GEORGIA', 'Nurse Mates', 'Osiris Shoes',\n",
       "       'Buks', 'Reebok Work', 'DRIVE NATION', 'Proline',\n",
       "       'Performance Tool', 'Inov-8', 'Fun Costumes', 'DS WORK\",\"DS Work',\n",
       "       'WINTER WALKING', 'Independent Boot Company', 'BEKINA',\n",
       "       'TESTOSTERONE SHOES\",\"Testosterone Shoes', 'Mancini',\n",
       "       'RJS Racing Equipment', 'Slipperooz by Deer Stags',\n",
       "       'RW by Robert Wayne', 'Y-3', 'J Shoes', 'SPERRY', 'Ellie', 'Trask',\n",
       "       'LEVIS', 'TENNECO MONROE', 'Stuhrling Original', 'Jobst',\n",
       "       'Mossy Oak', 'Zoot Sports', 'SOLE', 'Greatlookz Fashion', \"Levy's\",\n",
       "       'Dipsters', 'Venum', 'Marc Fisher', 'KODIAK', 'Adan', 'Khombu',\n",
       "       'Island Crafts', 'Robinson Outdoor Products',\n",
       "       'Marc New York By Andrew Marc', 'Wrangler', 'Made Cam Newton',\n",
       "       'KC Caps', 'P&W New York', 'Orlimar', 'River City Clocks',\n",
       "       'BIOWORLD', 'Serengeti Eyewear', 'Franco American Novelties',\n",
       "       'HOLIDAY', 'BRITISH KNIGHTS', 'Salvatore Exte', 'Weathertech',\n",
       "       'Berne', 'AND 1', 'Fred Perry', 'A. Testoni', 'SoftWalk',\n",
       "       'Alexanders Costumes', 'Chaco', 'G.H. Bass & Co.', 'Cammie',\n",
       "       'Rockport XCS', 'Benjamin Walk', 'Slipperooz', 'eS',\n",
       "       'Harry Potter', 'Vasque Footwear', 'Suncloud', 'Valenciennes',\n",
       "       'Sandal King', 'Marlin', 'Soda', 'Mechanix Wear', 'GUESS',\n",
       "       'Salomon', 'U.S Polo Assn.', 'AmeriLeather', 'COBIAN', 'OKABASHI',\n",
       "       'Corral', 'Roc usa', 'Altama', 'Best Desu', 'Sorel Footwear',\n",
       "       'HyTest by Wolverine', \"JOE'S\", 'NEOS OVERSHOE', 'Dc Shoes',\n",
       "       'Smoky', 'Timeless Toys', 'Armani Jeans', 'MAH',\n",
       "       'Allrounder By Mephisto', 'National Safety Apparel', 'MUCK BOOT',\n",
       "       'OTZ Shoes', 'Pearl Izumi', 'Faconnable', 'Darn Tough', 'Sloggers',\n",
       "       'Tissot', 'Jimmy Choo', 'Double H', 'MCM', 'Ahnu', 'Blue Tongue',\n",
       "       'Resolve By RW Footwear', 'AIR SPEED', 'Vince Camuto', 'Universal',\n",
       "       'Array', 'DeRoyal', 'RANSOM', 'Norcross Safety Products',\n",
       "       'Mason Shoe', 'Wilson', 'InCharacter Costumes', 'David Spencer',\n",
       "       'IB Pad', 'Vans Pro', 'Via Spiga', 'Andanines', 'DC Comics',\n",
       "       'Rogue', 'Klogs', 'UGG MENS', 'Legendary Whitetails',\n",
       "       'Outdoor Cap', 'GAMENESS', 'Redball', 'Dr. Sheepskin',\n",
       "       'Marc New York', 'Jordan\",\"Nike', 'Elastogel', 'Us Polo', 'Drake',\n",
       "       'Kickers', 'Vasyli', 'Urban Pipeline', 'Irish Setter', 'Altra',\n",
       "       'MF Western', 'Persol', \"Wood N' Stream\", 'Rainbow Sandals',\n",
       "       'Muck Boots', 'AH by Android Homme'], dtype=object)"
      ]
     },
     "execution_count": 18,
     "metadata": {},
     "output_type": "execute_result"
    }
   ],
   "source": [
    "shoe_brands = df.features.str.extract(r'Brand\\\"\\,\\\"value\\\"\\:\\[\\\"(.*?)\\\"\\]')\n",
    "print(f'Number of unique shoe brands: {shoe_brands.loc[:,0].nunique()}')\n",
    "shoe_brands.loc[:,0].unique()"
   ]
  },
  {
   "cell_type": "code",
   "execution_count": 19,
   "metadata": {
    "ExecuteTime": {
     "end_time": "2021-01-04T00:13:28.655549Z",
     "start_time": "2021-01-04T00:13:28.537733Z"
    },
    "scrolled": true
   },
   "outputs": [
    {
     "name": "stdout",
     "output_type": "stream",
     "text": [
      "Number of unique shoe brands: 744\n"
     ]
    },
    {
     "data": {
      "text/html": [
       "<div>\n",
       "<style scoped>\n",
       "    .dataframe tbody tr th:only-of-type {\n",
       "        vertical-align: middle;\n",
       "    }\n",
       "\n",
       "    .dataframe tbody tr th {\n",
       "        vertical-align: top;\n",
       "    }\n",
       "\n",
       "    .dataframe thead th {\n",
       "        text-align: right;\n",
       "    }\n",
       "</style>\n",
       "<table border=\"1\" class=\"dataframe\">\n",
       "  <thead>\n",
       "    <tr style=\"text-align: right;\">\n",
       "      <th></th>\n",
       "      <th>description</th>\n",
       "      <th>categories</th>\n",
       "      <th>prices_amountmin</th>\n",
       "      <th>prices_amountmax</th>\n",
       "      <th>prices_currency</th>\n",
       "      <th>features</th>\n",
       "      <th>merchants</th>\n",
       "      <th>brands</th>\n",
       "    </tr>\n",
       "  </thead>\n",
       "  <tbody>\n",
       "    <tr>\n",
       "      <th>0</th>\n",
       "      <td>Josmo 8190 Plain Infant Walking Shoes, Navy - ...</td>\n",
       "      <td>Clothing,Shoes,Men's Shoes,All Men's Shoes</td>\n",
       "      <td>39.89</td>\n",
       "      <td>39.89</td>\n",
       "      <td>USD</td>\n",
       "      <td>[{\"key\":\"Gender\",\"value\":[\"Men\"]},{\"key\":\"Shoe...</td>\n",
       "      <td>Unbeatablesale</td>\n",
       "      <td>josmo</td>\n",
       "    </tr>\n",
       "    <tr>\n",
       "      <th>1</th>\n",
       "      <td>Josmo 8190 Plain Infant Walking Shoes, Navy - ...</td>\n",
       "      <td>Clothing,Shoes,Men's Shoes,All Men's Shoes</td>\n",
       "      <td>51.99</td>\n",
       "      <td>51.99</td>\n",
       "      <td>USD</td>\n",
       "      <td>[{\"key\":\"Gender\",\"value\":[\"Men\"]},{\"key\":\"Shoe...</td>\n",
       "      <td>Unbeatablesale</td>\n",
       "      <td>josmo</td>\n",
       "    </tr>\n",
       "    <tr>\n",
       "      <th>2</th>\n",
       "      <td>Servus By Honeywell Shoe Studs Zsr101blmlg</td>\n",
       "      <td>All Men's Shoes,Shoes,Men's Shoes,Clothing</td>\n",
       "      <td>40.02</td>\n",
       "      <td>40.02</td>\n",
       "      <td>USD</td>\n",
       "      <td>[{\"key\":\"Gender\",\"value\":[\"Men\"]},{\"key\":\"Colo...</td>\n",
       "      <td>Sim Supply Inc</td>\n",
       "      <td>servus by honeywell</td>\n",
       "    </tr>\n",
       "    <tr>\n",
       "      <th>3</th>\n",
       "      <td>Servus By Honeywell Shoe Studs Zsr101blmlg</td>\n",
       "      <td>All Men's Shoes,Shoes,Men's Shoes,Clothing</td>\n",
       "      <td>50.31</td>\n",
       "      <td>50.31</td>\n",
       "      <td>USD</td>\n",
       "      <td>[{\"key\":\"Gender\",\"value\":[\"Men\"]},{\"key\":\"Colo...</td>\n",
       "      <td>Sim Supply Inc</td>\n",
       "      <td>servus by honeywell</td>\n",
       "    </tr>\n",
       "    <tr>\n",
       "      <th>4</th>\n",
       "      <td>Servus By Honeywell Shoe Studs Zsr101blmlg</td>\n",
       "      <td>All Men's Shoes,Shoes,Men's Shoes,Clothing</td>\n",
       "      <td>46.26</td>\n",
       "      <td>46.26</td>\n",
       "      <td>USD</td>\n",
       "      <td>[{\"key\":\"Gender\",\"value\":[\"Men\"]},{\"key\":\"Colo...</td>\n",
       "      <td>Sim Supply Inc</td>\n",
       "      <td>servus by honeywell</td>\n",
       "    </tr>\n",
       "  </tbody>\n",
       "</table>\n",
       "</div>"
      ],
      "text/plain": [
       "                                         description  \\\n",
       "0  Josmo 8190 Plain Infant Walking Shoes, Navy - ...   \n",
       "1  Josmo 8190 Plain Infant Walking Shoes, Navy - ...   \n",
       "2         Servus By Honeywell Shoe Studs Zsr101blmlg   \n",
       "3         Servus By Honeywell Shoe Studs Zsr101blmlg   \n",
       "4         Servus By Honeywell Shoe Studs Zsr101blmlg   \n",
       "\n",
       "                                   categories prices_amountmin  \\\n",
       "0  Clothing,Shoes,Men's Shoes,All Men's Shoes            39.89   \n",
       "1  Clothing,Shoes,Men's Shoes,All Men's Shoes            51.99   \n",
       "2  All Men's Shoes,Shoes,Men's Shoes,Clothing            40.02   \n",
       "3  All Men's Shoes,Shoes,Men's Shoes,Clothing            50.31   \n",
       "4  All Men's Shoes,Shoes,Men's Shoes,Clothing            46.26   \n",
       "\n",
       "  prices_amountmax prices_currency  \\\n",
       "0            39.89             USD   \n",
       "1            51.99             USD   \n",
       "2            40.02             USD   \n",
       "3            50.31             USD   \n",
       "4            46.26             USD   \n",
       "\n",
       "                                            features       merchants  \\\n",
       "0  [{\"key\":\"Gender\",\"value\":[\"Men\"]},{\"key\":\"Shoe...  Unbeatablesale   \n",
       "1  [{\"key\":\"Gender\",\"value\":[\"Men\"]},{\"key\":\"Shoe...  Unbeatablesale   \n",
       "2  [{\"key\":\"Gender\",\"value\":[\"Men\"]},{\"key\":\"Colo...  Sim Supply Inc   \n",
       "3  [{\"key\":\"Gender\",\"value\":[\"Men\"]},{\"key\":\"Colo...  Sim Supply Inc   \n",
       "4  [{\"key\":\"Gender\",\"value\":[\"Men\"]},{\"key\":\"Colo...  Sim Supply Inc   \n",
       "\n",
       "                brands  \n",
       "0                josmo  \n",
       "1                josmo  \n",
       "2  servus by honeywell  \n",
       "3  servus by honeywell  \n",
       "4  servus by honeywell  "
      ]
     },
     "execution_count": 19,
     "metadata": {},
     "output_type": "execute_result"
    }
   ],
   "source": [
    "# Although merchants are missing 28% of the values, we still want to see\n",
    "# what their price ranges are, so we select them as well.\n",
    "shoes = df[['name', 'categories', 'prices_amountmin', 'prices_amountmax', 'prices_currency', 'features', 'merchants']]\n",
    "\n",
    "# This is necessary if we're applying a function to the dataframe's rows.\n",
    "# Inside the function, we pass in a row.\n",
    "# If we try to access the row.name value, it returns the index value\n",
    "# of the row, rather than the name column's value.\n",
    "# So don't use name as the name of a column. In this case, we're using 'description'.\n",
    "shoes = shoes.rename(columns = {'name': 'description'})\n",
    "\n",
    "shoes.merchants = shoes.merchants.str.extract(r'name\\\"\\:\\\"(.*?)\\\"\\}')\n",
    "\n",
    "shoes['brands'] = shoes.features.str.extract(r'Brand\\\"\\,\\\"value\\\"\\:\\[\\\"(.*?)\\\"\\]').loc[:, 0].str.lower()\n",
    "print(f'Number of unique shoe brands: {shoes.brands.nunique()}') # Looks like we lost some brand names\n",
    "                                                                 # after we lowercased the names.\n",
    "                                                                 # Some brands must have had uppercase and lowercase\n",
    "                                                                 # names.\n",
    "\n",
    "shoes.head()"
   ]
  },
  {
   "cell_type": "code",
   "execution_count": 20,
   "metadata": {
    "ExecuteTime": {
     "end_time": "2021-01-04T00:13:28.663470Z",
     "start_time": "2021-01-04T00:13:28.658569Z"
    }
   },
   "outputs": [
    {
     "data": {
      "text/plain": [
       "(19387, 8)"
      ]
     },
     "execution_count": 20,
     "metadata": {},
     "output_type": "execute_result"
    }
   ],
   "source": [
    "shoes.shape"
   ]
  },
  {
   "cell_type": "code",
   "execution_count": 21,
   "metadata": {
    "ExecuteTime": {
     "end_time": "2021-01-04T00:13:28.677139Z",
     "start_time": "2021-01-04T00:13:28.667944Z"
    }
   },
   "outputs": [
    {
     "data": {
      "text/plain": [
       "USD                                                   0.955486\n",
       "AUD                                                   0.017434\n",
       "CAD                                                   0.015629\n",
       "EUR                                                   0.005519\n",
       "NaN                                                   0.003920\n",
       "GBP                                                   0.001135\n",
       "UnbeatableSale.com, Inc. - Walmart.com                0.000155\n",
       "PalmBeach Jewelry - Walmart.com                       0.000155\n",
       "New with box                                          0.000155\n",
       "new                                                   0.000155\n",
       "Wholesale Costume and Party Supplies - Walmart.com    0.000103\n",
       "SHOEBACCA LTD. - Walmart.com                          0.000052\n",
       "Shoes.com                                             0.000052\n",
       "New without tags                                      0.000052\n",
       "Name: prices_currency, dtype: float64"
      ]
     },
     "execution_count": 21,
     "metadata": {},
     "output_type": "execute_result"
    }
   ],
   "source": [
    "shoes.prices_currency.value_counts(dropna=False, normalize=True)\n",
    "# 95% of the currency is USD. Let's stick with it"
   ]
  },
  {
   "cell_type": "code",
   "execution_count": 22,
   "metadata": {
    "ExecuteTime": {
     "end_time": "2021-01-04T00:13:28.692922Z",
     "start_time": "2021-01-04T00:13:28.680757Z"
    }
   },
   "outputs": [
    {
     "data": {
      "text/plain": [
       "(18524, 8)"
      ]
     },
     "execution_count": 22,
     "metadata": {},
     "output_type": "execute_result"
    }
   ],
   "source": [
    "shoes = shoes[shoes.prices_currency == 'USD']\n",
    "shoes.shape"
   ]
  },
  {
   "cell_type": "code",
   "execution_count": 23,
   "metadata": {
    "ExecuteTime": {
     "end_time": "2021-01-04T00:13:28.711718Z",
     "start_time": "2021-01-04T00:13:28.695535Z"
    }
   },
   "outputs": [
    {
     "data": {
      "text/html": [
       "<div>\n",
       "<style scoped>\n",
       "    .dataframe tbody tr th:only-of-type {\n",
       "        vertical-align: middle;\n",
       "    }\n",
       "\n",
       "    .dataframe tbody tr th {\n",
       "        vertical-align: top;\n",
       "    }\n",
       "\n",
       "    .dataframe thead th {\n",
       "        text-align: right;\n",
       "    }\n",
       "</style>\n",
       "<table border=\"1\" class=\"dataframe\">\n",
       "  <thead>\n",
       "    <tr style=\"text-align: right;\">\n",
       "      <th></th>\n",
       "      <th>description</th>\n",
       "      <th>categories</th>\n",
       "      <th>prices_amountmin</th>\n",
       "      <th>prices_amountmax</th>\n",
       "      <th>features</th>\n",
       "      <th>merchants</th>\n",
       "      <th>brands</th>\n",
       "    </tr>\n",
       "  </thead>\n",
       "  <tbody>\n",
       "    <tr>\n",
       "      <th>0</th>\n",
       "      <td>Josmo 8190 Plain Infant Walking Shoes, Navy - ...</td>\n",
       "      <td>Clothing,Shoes,Men's Shoes,All Men's Shoes</td>\n",
       "      <td>39.89</td>\n",
       "      <td>39.89</td>\n",
       "      <td>[{\"key\":\"Gender\",\"value\":[\"Men\"]},{\"key\":\"Shoe...</td>\n",
       "      <td>Unbeatablesale</td>\n",
       "      <td>josmo</td>\n",
       "    </tr>\n",
       "    <tr>\n",
       "      <th>1</th>\n",
       "      <td>Josmo 8190 Plain Infant Walking Shoes, Navy - ...</td>\n",
       "      <td>Clothing,Shoes,Men's Shoes,All Men's Shoes</td>\n",
       "      <td>51.99</td>\n",
       "      <td>51.99</td>\n",
       "      <td>[{\"key\":\"Gender\",\"value\":[\"Men\"]},{\"key\":\"Shoe...</td>\n",
       "      <td>Unbeatablesale</td>\n",
       "      <td>josmo</td>\n",
       "    </tr>\n",
       "    <tr>\n",
       "      <th>2</th>\n",
       "      <td>Servus By Honeywell Shoe Studs Zsr101blmlg</td>\n",
       "      <td>All Men's Shoes,Shoes,Men's Shoes,Clothing</td>\n",
       "      <td>40.02</td>\n",
       "      <td>40.02</td>\n",
       "      <td>[{\"key\":\"Gender\",\"value\":[\"Men\"]},{\"key\":\"Colo...</td>\n",
       "      <td>Sim Supply Inc</td>\n",
       "      <td>servus by honeywell</td>\n",
       "    </tr>\n",
       "    <tr>\n",
       "      <th>3</th>\n",
       "      <td>Servus By Honeywell Shoe Studs Zsr101blmlg</td>\n",
       "      <td>All Men's Shoes,Shoes,Men's Shoes,Clothing</td>\n",
       "      <td>50.31</td>\n",
       "      <td>50.31</td>\n",
       "      <td>[{\"key\":\"Gender\",\"value\":[\"Men\"]},{\"key\":\"Colo...</td>\n",
       "      <td>Sim Supply Inc</td>\n",
       "      <td>servus by honeywell</td>\n",
       "    </tr>\n",
       "    <tr>\n",
       "      <th>4</th>\n",
       "      <td>Servus By Honeywell Shoe Studs Zsr101blmlg</td>\n",
       "      <td>All Men's Shoes,Shoes,Men's Shoes,Clothing</td>\n",
       "      <td>46.26</td>\n",
       "      <td>46.26</td>\n",
       "      <td>[{\"key\":\"Gender\",\"value\":[\"Men\"]},{\"key\":\"Colo...</td>\n",
       "      <td>Sim Supply Inc</td>\n",
       "      <td>servus by honeywell</td>\n",
       "    </tr>\n",
       "  </tbody>\n",
       "</table>\n",
       "</div>"
      ],
      "text/plain": [
       "                                         description  \\\n",
       "0  Josmo 8190 Plain Infant Walking Shoes, Navy - ...   \n",
       "1  Josmo 8190 Plain Infant Walking Shoes, Navy - ...   \n",
       "2         Servus By Honeywell Shoe Studs Zsr101blmlg   \n",
       "3         Servus By Honeywell Shoe Studs Zsr101blmlg   \n",
       "4         Servus By Honeywell Shoe Studs Zsr101blmlg   \n",
       "\n",
       "                                   categories prices_amountmin  \\\n",
       "0  Clothing,Shoes,Men's Shoes,All Men's Shoes            39.89   \n",
       "1  Clothing,Shoes,Men's Shoes,All Men's Shoes            51.99   \n",
       "2  All Men's Shoes,Shoes,Men's Shoes,Clothing            40.02   \n",
       "3  All Men's Shoes,Shoes,Men's Shoes,Clothing            50.31   \n",
       "4  All Men's Shoes,Shoes,Men's Shoes,Clothing            46.26   \n",
       "\n",
       "  prices_amountmax                                           features  \\\n",
       "0            39.89  [{\"key\":\"Gender\",\"value\":[\"Men\"]},{\"key\":\"Shoe...   \n",
       "1            51.99  [{\"key\":\"Gender\",\"value\":[\"Men\"]},{\"key\":\"Shoe...   \n",
       "2            40.02  [{\"key\":\"Gender\",\"value\":[\"Men\"]},{\"key\":\"Colo...   \n",
       "3            50.31  [{\"key\":\"Gender\",\"value\":[\"Men\"]},{\"key\":\"Colo...   \n",
       "4            46.26  [{\"key\":\"Gender\",\"value\":[\"Men\"]},{\"key\":\"Colo...   \n",
       "\n",
       "        merchants               brands  \n",
       "0  Unbeatablesale                josmo  \n",
       "1  Unbeatablesale                josmo  \n",
       "2  Sim Supply Inc  servus by honeywell  \n",
       "3  Sim Supply Inc  servus by honeywell  \n",
       "4  Sim Supply Inc  servus by honeywell  "
      ]
     },
     "execution_count": 23,
     "metadata": {},
     "output_type": "execute_result"
    }
   ],
   "source": [
    "# Now that we have a dataframe with only USD currency,\n",
    "# we can remove the prices_currency column\n",
    "shoes = shoes.drop('prices_currency', axis=1)\n",
    "shoes.head()"
   ]
  },
  {
   "cell_type": "code",
   "execution_count": 24,
   "metadata": {
    "ExecuteTime": {
     "end_time": "2021-01-04T00:13:28.725823Z",
     "start_time": "2021-01-04T00:13:28.713996Z"
    }
   },
   "outputs": [
    {
     "data": {
      "text/html": [
       "<div>\n",
       "<style scoped>\n",
       "    .dataframe tbody tr th:only-of-type {\n",
       "        vertical-align: middle;\n",
       "    }\n",
       "\n",
       "    .dataframe tbody tr th {\n",
       "        vertical-align: top;\n",
       "    }\n",
       "\n",
       "    .dataframe thead th {\n",
       "        text-align: right;\n",
       "    }\n",
       "</style>\n",
       "<table border=\"1\" class=\"dataframe\">\n",
       "  <thead>\n",
       "    <tr style=\"text-align: right;\">\n",
       "      <th></th>\n",
       "      <th>description</th>\n",
       "    </tr>\n",
       "  </thead>\n",
       "  <tbody>\n",
       "    <tr>\n",
       "      <th>0</th>\n",
       "      <td>Josmo 8190 Plain Infant Walking Shoes, Navy - ...</td>\n",
       "    </tr>\n",
       "    <tr>\n",
       "      <th>1</th>\n",
       "      <td>Josmo 8190 Plain Infant Walking Shoes, Navy - ...</td>\n",
       "    </tr>\n",
       "    <tr>\n",
       "      <th>2</th>\n",
       "      <td>Servus By Honeywell Shoe Studs Zsr101blmlg</td>\n",
       "    </tr>\n",
       "    <tr>\n",
       "      <th>3</th>\n",
       "      <td>Servus By Honeywell Shoe Studs Zsr101blmlg</td>\n",
       "    </tr>\n",
       "    <tr>\n",
       "      <th>4</th>\n",
       "      <td>Servus By Honeywell Shoe Studs Zsr101blmlg</td>\n",
       "    </tr>\n",
       "    <tr>\n",
       "      <th>...</th>\n",
       "      <td>...</td>\n",
       "    </tr>\n",
       "    <tr>\n",
       "      <th>19382</th>\n",
       "      <td>New Xray Hester Men's Lace Up Boots - Black - ...</td>\n",
       "    </tr>\n",
       "    <tr>\n",
       "      <th>19383</th>\n",
       "      <td>Fila Men's Original Tennis Navy/white/gold Fas...</td>\n",
       "    </tr>\n",
       "    <tr>\n",
       "      <th>19384</th>\n",
       "      <td>Seek Optics New Seek Polarized Replacement Len...</td>\n",
       "    </tr>\n",
       "    <tr>\n",
       "      <th>19385</th>\n",
       "      <td>Seek Optics New Seek Polarized Replacement Len...</td>\n",
       "    </tr>\n",
       "    <tr>\n",
       "      <th>19386</th>\n",
       "      <td>Seek Optics New Seek Polarized Replacement Len...</td>\n",
       "    </tr>\n",
       "  </tbody>\n",
       "</table>\n",
       "<p>18524 rows × 1 columns</p>\n",
       "</div>"
      ],
      "text/plain": [
       "                                             description\n",
       "0      Josmo 8190 Plain Infant Walking Shoes, Navy - ...\n",
       "1      Josmo 8190 Plain Infant Walking Shoes, Navy - ...\n",
       "2             Servus By Honeywell Shoe Studs Zsr101blmlg\n",
       "3             Servus By Honeywell Shoe Studs Zsr101blmlg\n",
       "4             Servus By Honeywell Shoe Studs Zsr101blmlg\n",
       "...                                                  ...\n",
       "19382  New Xray Hester Men's Lace Up Boots - Black - ...\n",
       "19383  Fila Men's Original Tennis Navy/white/gold Fas...\n",
       "19384  Seek Optics New Seek Polarized Replacement Len...\n",
       "19385  Seek Optics New Seek Polarized Replacement Len...\n",
       "19386  Seek Optics New Seek Polarized Replacement Len...\n",
       "\n",
       "[18524 rows x 1 columns]"
      ]
     },
     "execution_count": 24,
     "metadata": {},
     "output_type": "execute_result"
    }
   ],
   "source": [
    "shoes[['description']] # Take a look at how descriptive the name is.\n",
    "# The 2 through 4 index shoes are not shoes - they're shoe studs."
   ]
  },
  {
   "cell_type": "code",
   "execution_count": 25,
   "metadata": {
    "ExecuteTime": {
     "end_time": "2021-01-04T00:13:28.735799Z",
     "start_time": "2021-01-04T00:13:28.728263Z"
    }
   },
   "outputs": [
    {
     "data": {
      "text/plain": [
       "description         Seek Optics New Seek Polarized Replacement Len...\n",
       "categories          Women's Sunglasses,Sunglasses,Bags & Accessori...\n",
       "prices_amountmin                                                32.48\n",
       "prices_amountmax                                                32.48\n",
       "features            [{\"key\":\"Gender\",\"value\":[\"Unisex\"]},{\"key\":\"F...\n",
       "merchants                                                         NaN\n",
       "brands                                                            NaN\n",
       "Name: 19384, dtype: object"
      ]
     },
     "execution_count": 25,
     "metadata": {},
     "output_type": "execute_result"
    }
   ],
   "source": [
    "shoes.loc[19384] # This cannot be a shoe (from it's description)\n",
    "# It looks like it is sunglasses.\n",
    "# So this dataset contains things other than shoes.\n",
    "# We will have to find out how to extract shoes from it."
   ]
  },
  {
   "cell_type": "code",
   "execution_count": 26,
   "metadata": {
    "ExecuteTime": {
     "end_time": "2021-01-04T00:13:28.996776Z",
     "start_time": "2021-01-04T00:13:28.740800Z"
    }
   },
   "outputs": [
    {
     "name": "stdout",
     "output_type": "stream",
     "text": [
      "Fraction of names containing shoes: 0.510310947959404\n"
     ]
    }
   ],
   "source": [
    "# Let's see how many of the names have \"shoes\" or related in them\n",
    "shoe_or_boot = shoes.description.str.contains(\"shoe\", case=False) | \\\n",
    "                shoes.description.str.contains(\"boot\", case=False) | \\\n",
    "                shoes.description.str.contains(\"loafer\", case=False) | \\\n",
    "                shoes.description.str.contains(\"sneaker\", case=False) | \\\n",
    "                shoes.description.str.contains(\"trainer\", case=False) | \\\n",
    "                shoes.description.str.contains(\"step\", case=False) | \\\n",
    "                shoes.description.str.contains(\"oxford\", case=False) | \\\n",
    "                shoes.description.str.contains(\"canvas\", case=False)\n",
    "\n",
    "                # We should not consider slippers, sandals, etc as shoes.\n",
    "                # If we want, we could look at them as well,\n",
    "                # to see the price ranges of each type of footwear.\n",
    "                # shoes.description.str.contains(\"sandal\", case=False) | \\\n",
    "                # shoes.description.str.contains(\"slipper\", case=False) | \\\n",
    "                # shoes.description.str.contains(\"croc\", case=False)\n",
    "\n",
    "print(f'Fraction of names containing shoes: {len(shoes[shoe_or_boot]) / shoes.shape[0]}')\n",
    "# Half of the dataset items do not have anything to do with shoes"
   ]
  },
  {
   "cell_type": "code",
   "execution_count": 27,
   "metadata": {
    "ExecuteTime": {
     "end_time": "2021-01-04T00:13:29.007438Z",
     "start_time": "2021-01-04T00:13:29.000504Z"
    }
   },
   "outputs": [],
   "source": [
    "# Let's see what those other items are\n",
    "other_than_shoes = shoes[~shoe_or_boot][['description']].squeeze().values"
   ]
  },
  {
   "cell_type": "code",
   "execution_count": 28,
   "metadata": {
    "ExecuteTime": {
     "end_time": "2021-01-04T00:13:29.016486Z",
     "start_time": "2021-01-04T00:13:29.009710Z"
    }
   },
   "outputs": [
    {
     "data": {
      "text/plain": [
       "array(['Carrera 90/s Sunglasses', 'Carrera 90/s Sunglasses',\n",
       "       'Carrera 90/s Sunglasses', 'Carrera 90/s Sunglasses',\n",
       "       'Carrera 90/s Sunglasses', 'Carrera 90/s Sunglasses',\n",
       "       'Carrera 90/s Sunglasses', 'Carrera 90/s Sunglasses',\n",
       "       'Carrera 90/s Sunglasses', 'Carrera 90/s Sunglasses',\n",
       "       'Carrera 90/s Sunglasses', 'Carrera 90/s Sunglasses',\n",
       "       'Carrera 90/s Sunglasses', 'Carrera 90/s Sunglasses',\n",
       "       'Carrera 90/s Sunglasses', 'Carrera 90/s Sunglasses',\n",
       "       'Carrera 90/s Sunglasses', 'Carrera 90/s Sunglasses',\n",
       "       'Carrera 90/s Sunglasses', 'Carrera 90/s Sunglasses',\n",
       "       'Carrera 90/s Sunglasses', 'Carrera 90/s Sunglasses',\n",
       "       \"Dockers Men's 810093 Comfort Waistband Khaki Flat Front D3 Black W38 X L34\",\n",
       "       \"Brioni Men's Blazer Jacket 1011palv-4257\",\n",
       "       \"Brioni Men's Blazer Jacket 1011palv-4257\",\n",
       "       'Fuse Lenses For Electric Gauge Brown Tint Replacement Lenses',\n",
       "       'Fuse Lenses For Electric Gauge Brown Tint Replacement Lenses',\n",
       "       'Medline 620nthl-cm Top Cap Reversible Ciel Blue Angelstat Medline Color-coding - Large',\n",
       "       'Medline 620nthl-cm Top Cap Reversible Ciel Blue Angelstat Medline Color-coding - Large',\n",
       "       \"Fossa Apparel 2203-olive-2xl 2x-large Ladies' Sequoia Thermo-fleece Jacket In Olive\",\n",
       "       \"Fossa Apparel 2203-olive-2xl 2x-large Ladies' Sequoia Thermo-fleece Jacket In Olive\",\n",
       "       \"Nike Air Up '14 Style: 630929-001 Size: 11\",\n",
       "       'Adidas F5 Trx Fg Soccer Futbol Cleats -orange/white',\n",
       "       \"Rider Men's Bay V Slide Sandal\",\n",
       "       'Men���s Fudge Brown Weatherproof Slippers Extra Large Size',\n",
       "       \"Hayabusa Men's Spirit of The Fighter Mma Shorts 36 Waist Black\",\n",
       "       'Nike Alpha Pro 2 3/4 Mid Td Football Lacrosse Cleats Sz 10.5 Varsity Maize Black',\n",
       "       'Jewelry Adviser Nfl Gifts Nfl Carolina Panthers Cabernet 8-piece Boxed Wine Set',\n",
       "       'Jewelry Adviser Nfl Gifts Nfl Carolina Panthers Cabernet 8-piece Boxed Wine Set',\n",
       "       \"Andrew Marc Varick Men's Removable Hooded Leather Jacket Coat\",\n",
       "       \"Andrew Marc Varick Men's Removable Hooded Leather Jacket Coat\",\n",
       "       \"Nwt Levi's Men's Big & Tall Carpenter Jeans 52 X 32 Medium Blue Wash #17451-0000\",\n",
       "       \"Bgood Men's Personalized Knit Stitching Sided Oblique Zipper Jacket Coat\",\n",
       "       'Nike Stadium Cushioned Soccer Crew Socks Black/grey/white Sx4854-010 L (8-12)',\n",
       "       'Nike Stadium Cushioned Soccer Crew Socks Black/grey/white Sx4854-010 L (8-12)',\n",
       "       'Nwt Tommy Bahama Denim Mens 42 X 30 Standard Fit Black Stretch Jeans Td1650',\n",
       "       '\"Nike Mens Roshe Nm Flyknit Prm \"gym Red\" Gym Red/crimson 746825-600\"',\n",
       "       \"Kinco 7182w Pvc Waterproof Women's Glove Work (pack of 12 Pairs)\",\n",
       "       \"Kinco 7182w Pvc Waterproof Women's Glove Work (pack of 12 Pairs)\",\n",
       "       'Costa Del Mar Corbina Cb01 Matte Black 580 Blue Mirror Polarized Sunglasses',\n",
       "       'Hush Puppies Mens Glen',\n",
       "       'Oakley Batwolf Oo9101-01 127 Matte Black/black Iridium (204)',\n",
       "       'Oakley Batwolf Oo9101-01 127 Matte Black/black Iridium (204)',\n",
       "       'Kinco 198hk Heatkeep Thermal Lined Grain Cowhide Leather Driver Glove Work Large Golden (pack of 6 Pairs)',\n",
       "       'Kinco 198hk Heatkeep Thermal Lined Grain Cowhide Leather Driver Glove Work Large Golden (pack of 6 Pairs)',\n",
       "       'New / Authentic Maui Jim Stone Crushers 429-26m Matte Rootbeer / Hcl Bronze Lens',\n",
       "       'Unique Bargains Plastic Elastic Coil Lanyard Mobile Phone Cord Spring Key Chain',\n",
       "       'Unique Bargains Plastic Elastic Coil Lanyard Mobile Phone Cord Spring Key Chain',\n",
       "       \"Sockbin 12 Pairs of Men's Excell Diabetic Crew Socks Ringpun Cotton Neuropathy Edem...\",\n",
       "       'Weatherproof 761561 Men Us 11 Brown Slipper',\n",
       "       'Weatherproof 761561 Men Us 11 Brown Slipper',\n",
       "       'Carhartt B13 Denim Work Pant (34 X 30) - Deepstone',\n",
       "       'Carhartt B13 Denim Work Pant (34 X 30) - Deepstone',\n",
       "       'Azzuro Men Double Slant Pockets Zip Fly Camouflage Prints Thin Jacket Blue M',\n",
       "       'Azzuro Men Double Slant Pockets Zip Fly Camouflage Prints Thin Jacket Blue M',\n",
       "       '\"Nike Mens Air Huarache \"3m\" Anthracite/grey-black 318429-028\"',\n",
       "       'Top-flite Mens Cotton American Made Golf Socks',\n",
       "       'Top-flite Mens Cotton American Made Golf Socks',\n",
       "       'Tallia New Khaki Beige Mens Size 32x32 Flat Front Suit Separate Pants $79 #159',\n",
       "       'Mens Genuine Vintage Leather Messenger Man Handbag Laptop Briefcase Satchel Bag',\n",
       "       'Kinco 90 Unlined Grain Deerskin Leather Driver Glove Work Small Golden (pack of 6 Pairs)',\n",
       "       'Kinco 90 Unlined Grain Deerskin Leather Driver Glove Work Small Golden (pack of 6 Pairs)',\n",
       "       \"Propet Jackson - Casual - Men's Rejuve - Gunsmoke/gold\",\n",
       "       'Tooloud Cute Little Chick - White Hoodie Sweatshirt',\n",
       "       'Asics Gel Nimbus 17 Lite Show Men Us 11.5 Silver Pre Owned 1695',\n",
       "       'Nike Mens Lab Roshe Two Leather Prm Black/sail 876521-001',\n",
       "       'Nike Mens Lab Roshe Two Leather Prm Black/sail 876521-001',\n",
       "       'Cestus Temp Series Hm Gauntlet Winter Insulated Glove Work Large Black (pack of 1 Pair)',\n",
       "       'Cestus Temp Series Hm Gauntlet Winter Insulated Glove Work Large Black (pack of 1 Pair)',\n",
       "       \"'belmont' Bicycle Toe Derby\",\n",
       "       'Adidas F30 Fg Soccer Cleats Messi Suarez Villa Silva Solar Red - Mens 8.5',\n",
       "       'Micro Flex Midknight Black Powder-free Nitrile Examination Gloves - Large - Isn',\n",
       "       'Micro Flex Midknight Black Powder-free Nitrile Examination Gloves - Large - Isn',\n",
       "       \"Ocean Pacific (op) 100% Polyester Mesh Brief Board Short Men's Sz. 3xl\",\n",
       "       \"New Nike 396238-001 Super Speed Black / White Men's Football Cleats 15 Us\",\n",
       "       'So Chic Jewels - 18k Gold Plated 45 Cm Diamond Cut 1.5 Mm Elongated Cable Chain Necklace',\n",
       "       'So Chic Jewels - 18k Gold Plated 45 Cm Diamond Cut 1.5 Mm Elongated Cable Chain Necklace',\n",
       "       'So Chic Jewels - 18k Gold Plated 45 Cm Diamond Cut 1.5 Mm Elongated Cable Chain Necklace',\n",
       "       \"Reebok Men's White/black Nfl Outsideside Speed Low Football Cleat Us 11\",\n",
       "       \"Reebok Men's White/black Nfl Outsideside Speed Low Football Cleat Us 11\",\n",
       "       \"Reebok Men's White/black Nfl Outsideside Speed Low Football Cleat Us 11\",\n",
       "       \"Reebok Men's White/black Nfl Outsideside Speed Low Football Cleat Us 11\",\n",
       "       'Lencca Logan Mens or Womens Professional Twill Travel Backpack For Both Laptop and Camera Devices Fits Dell Laptops (all Sizes)',\n",
       "       'Lencca Logan Mens or Womens Professional Twill Travel Backpack For Both Laptop and Camera Devices Fits Dell Laptops (all Sizes)',\n",
       "       \"New Men's Adidas F50 Adizero Messi Trx Fg Soccer Cleats ~us 11 Uk 10.5 #m21777\",\n",
       "       \"Vans Red Kap X Khaki Beige 1923 Workwear Men's Work Shorts\",\n",
       "       \"Vans Red Kap X Khaki Beige 1923 Workwear Men's Work Shorts\",\n",
       "       \"Vans Red Kap X Khaki Beige 1923 Workwear Men's Work Shorts\",\n",
       "       \"Vans Red Kap X Khaki Beige 1923 Workwear Men's Work Shorts\",\n",
       "       \"Vans Red Kap X Khaki Beige 1923 Workwear Men's Work Shorts\"],\n",
       "      dtype=object)"
      ]
     },
     "execution_count": 28,
     "metadata": {},
     "output_type": "execute_result"
    }
   ],
   "source": [
    "other_than_shoes[100:200]"
   ]
  },
  {
   "cell_type": "code",
   "execution_count": 29,
   "metadata": {
    "ExecuteTime": {
     "end_time": "2021-01-04T00:13:29.028239Z",
     "start_time": "2021-01-04T00:13:29.018830Z"
    }
   },
   "outputs": [],
   "source": [
    "# Compare shoe names to categories\n",
    "cat_other_than_shoes = shoes[~shoe_or_boot][['categories']].squeeze().values\n",
    "other_than_shoes_names_cat = list(zip(other_than_shoes, cat_other_than_shoes))"
   ]
  },
  {
   "cell_type": "code",
   "execution_count": 30,
   "metadata": {
    "ExecuteTime": {
     "end_time": "2021-01-04T00:13:29.042724Z",
     "start_time": "2021-01-04T00:13:29.030627Z"
    }
   },
   "outputs": [
    {
     "data": {
      "text/plain": [
       "[('Maui and Sons David Men  Open Toe Synthetic  Flip Flop Sandal',\n",
       "  \"All Men's Shoes,Shoes,Men's Shoes,Clothing\"),\n",
       " ('Maui and Sons David Men  Open Toe Synthetic  Flip Flop Sandal',\n",
       "  \"All Men's Shoes,Shoes,Men's Shoes,Clothing\"),\n",
       " ('Maui and Sons David Men  Open Toe Synthetic  Flip Flop Sandal',\n",
       "  \"All Men's Shoes,Shoes,Men's Shoes,Clothing\"),\n",
       " ('Maui and Sons David Men  Open Toe Synthetic  Flip Flop Sandal',\n",
       "  \"All Men's Shoes,Shoes,Men's Shoes,Clothing\"),\n",
       " ('Maui and Sons David Men  Open Toe Synthetic  Flip Flop Sandal',\n",
       "  \"All Men's Shoes,Shoes,Men's Shoes,Clothing\"),\n",
       " ('Rubies Costume Adult Mens Regency Plush Santa Claus Christmas Suit | X-large',\n",
       "  \"Men's Halloween Costumes,Adult Halloween Costumes,Clothing, Shoes & Accessories,Halloween,Men,Costumes, Reenactment, Theater,All Costumes,Costumes,Party & Occasions\"),\n",
       " ('Rubies Costume Adult Mens Regency Plush Santa Claus Christmas Suit | X-large',\n",
       "  \"Men's Halloween Costumes,Adult Halloween Costumes,Clothing, Shoes & Accessories,Halloween,Men,Costumes, Reenactment, Theater,All Costumes,Costumes,Party & Occasions\"),\n",
       " ('Rubies Costume Adult Mens Regency Plush Santa Claus Christmas Suit | X-large',\n",
       "  \"Men's Halloween Costumes,Adult Halloween Costumes,Clothing, Shoes & Accessories,Halloween,Men,Costumes, Reenactment, Theater,All Costumes,Costumes,Party & Occasions\"),\n",
       " ('Men Boxer Underwear Shorts Modal Male Underpants Sexy Briefs Undies Trunks M-xxl',\n",
       "  \"Clothing, Shoes & Accessories,Men's Clothing,Underwear\"),\n",
       " ('American Fighter By Affliction North Creek Board Shorts Black Camo 38 Waist',\n",
       "  \"Clothing, Shoes & Accessories,Men's Clothing,Shorts,Sporting Goods,Boxing, Martial Arts & MMA\"),\n",
       " (\"Venum Men's Koi Compression Pants Spats Mma Black Medium\",\n",
       "  \"Clothing, Shoes & Accessories,Men's Clothing,Shorts,Sporting Goods,Boxing, Martial Arts & MMA\"),\n",
       " ('Azzuro Cozy Fit Notched Lapel Long Sleeve Blazer Jacket For Men Navy Blue Black S',\n",
       "  \"All Men's Clothing,Men's Clothing,Men's Outerwear,Clothing, Shoes & Jewelry,Clothing\"),\n",
       " ('Azzuro Cozy Fit Notched Lapel Long Sleeve Blazer Jacket For Men Navy Blue Black S',\n",
       "  \"All Men's Clothing,Men's Clothing,Men's Outerwear,Clothing, Shoes & Jewelry,Clothing\"),\n",
       " ('Genuine Leather Backpack Chest Pack Daypack Sling Bag Shoulder Bag New',\n",
       "  \"Clothing, Shoes & Accessories,Men's Accessories,Backpacks, Bags & Briefcases\"),\n",
       " ('3 Pc Mens Tie Bar Pinch Clip Set For Regular Ties 2.1 Inch',\n",
       "  'Clothing,Jewellery,Cufflinks & Shirt Accessories,Tie Clips,Clothing, Shoes & Jewelry,Men,Jewelry,Religious,Tie Pins & Clips,Ties & Cummerbunds,Accessories,Bags & Accessories'),\n",
       " (\"New Nike Men's Hypervenom Phelon Ii Fg Soccer Cleat Mtlc Red Bronze 13\",\n",
       "  'Sporting Goods,Team Sports,Soccer,Clothing, Shoes & Accessories,Shoes & Cleats,Men'),\n",
       " (\"New Nike Men's Hypervenom Phelon Ii Fg Soccer Cleat Mtlc Red Bronze 13\",\n",
       "  'Sporting Goods,Team Sports,Soccer,Clothing, Shoes & Accessories,Shoes & Cleats,Men'),\n",
       " (\"New Nike Men's Hypervenom Phelon Ii Fg Soccer Cleat Mtlc Red Bronze 13\",\n",
       "  'Sporting Goods,Team Sports,Soccer,Clothing, Shoes & Accessories,Shoes & Cleats,Men'),\n",
       " ('Lencca Alpaque Crossover Laptop Backpack Fits Aspire S7 13.3 Inch Laptops (all Models)',\n",
       "  \"Luggage & Bags,Juniors Messenger Bags & Backpacks,Home,Backpacks & Bags,Travel Bags,Bags & Accessories,Men's Bags,Juniors Accessories,Office Supplies,School Supplies,Backpacks,Men's Accessories,Clothing, Shoes & Jewelry\"),\n",
       " ('Global Glove S966-lt Latex On Medium Weight Coated Economy Grade String Knit Tagged Glove Work Large (case of 240)',\n",
       "  \"Workwear & Uniforms,Men's Workwear & Uniforms,Men's Coveralls,Clothing, Shoes & Jewelry,Clothing,Men's Clothing\"),\n",
       " ('Nike Jordan 1 Mid', \"All Men's Shoes,Shoes,Men's Shoes,Clothing\"),\n",
       " ('Oakley Blade   Open Toe Synthetic  Flip Flop Sandal',\n",
       "  \"Clothing,Shoes,Men's Shoes,All Men's Shoes\"),\n",
       " ('Oakley Blade   Open Toe Synthetic  Flip Flop Sandal',\n",
       "  \"Clothing,Shoes,Men's Shoes,All Men's Shoes\"),\n",
       " ('Cestus Vibration Series Tremblex-5 Neoprene Polychloroprene Anti-vibration Glove Work Medium Black (pack of 1 Pair)',\n",
       "  \"Workwear & Uniforms,Men's Workwear & Uniforms,Men's Coveralls,Clothing, Shoes & Jewelry,Clothing,Men's Clothing\"),\n",
       " ('Cestus Vibration Series Tremblex-5 Neoprene Polychloroprene Anti-vibration Glove Work Medium Black (pack of 1 Pair)',\n",
       "  \"Workwear & Uniforms,Men's Workwear & Uniforms,Men's Coveralls,Clothing, Shoes & Jewelry,Clothing,Men's Clothing\"),\n",
       " (\"New Adidas Nitrocharge 1.0 Fg Men's Soccer Cleats-orange/black; Size 8 M18429\",\n",
       "  'Clothing, Shoes & Accessories,Team Sports,Men,Soccer,Shoes & Cleats,Sporting Goods'),\n",
       " (\"New Adidas Nitrocharge 1.0 Fg Men's Soccer Cleats-orange/black; Size 8 M18429\",\n",
       "  'Clothing, Shoes & Accessories,Team Sports,Men,Soccer,Shoes & Cleats,Sporting Goods'),\n",
       " (\"New Adidas Nitrocharge 1.0 Fg Men's Soccer Cleats-orange/black; Size 8 M18429\",\n",
       "  'Clothing, Shoes & Accessories,Team Sports,Men,Soccer,Shoes & Cleats,Sporting Goods'),\n",
       " ('Kinco 1500 Unlined Cowhide Leather Glove Work Medium Gray (pack of 6 Pairs)',\n",
       "  \"Men's Work Gloves,Power Tools,Safety Apparel,Women's Workwear & Uniforms,Safety & Shop Gear,Workwear & Uniforms,Hand Tools,Clothing,Tools,Men's Clothing,Office Supplies,Women's Clothing,Women's Work Gloves,Gloves,Women's Workwear Accessories,Clothing, Shoes & Jewelry,Men's Workwear & Uniforms,Men's Workwear Accessories,Office Safety & Security\"),\n",
       " ('Kinco 1500 Unlined Cowhide Leather Glove Work Medium Gray (pack of 6 Pairs)',\n",
       "  \"Men's Work Gloves,Power Tools,Safety Apparel,Women's Workwear & Uniforms,Safety & Shop Gear,Workwear & Uniforms,Hand Tools,Clothing,Tools,Men's Clothing,Office Supplies,Women's Clothing,Women's Work Gloves,Gloves,Women's Workwear Accessories,Clothing, Shoes & Jewelry,Men's Workwear & Uniforms,Men's Workwear Accessories,Office Safety & Security\"),\n",
       " (\"Men's Genuine Leather Cross Body Vintage Shoulder Messenger Satchel Man Bag New\",\n",
       "  \"Clothing, Shoes & Accessories,Men's Accessories,Backpacks, Bags & Briefcases\"),\n",
       " (\"Bgood Men's Western Stand Collar Jacket Coat Slim Thin Woolen Overwear\",\n",
       "  \"All Men's Clothing,Men's Clothing,Clothing, Shoes & Jewelry,Clothing\"),\n",
       " (\"Fruit of The Loom Men's 12-pairs Crew Socks\",\n",
       "  \"All Men's Clothing,Men's Clothing,Men's Socks,Clothing, Shoes & Jewelry,Men's Socks & Underwear,Clothing\"),\n",
       " (\"Nike Men's Air Max Ltd 3 (687977-002) Wolf Grey/black/anthracite Size 7\",\n",
       "  \"Clothing, Shoes & Accessories,Men's Shoes,Athletic\"),\n",
       " (\"Oakley Men's Twoface Sunglasses Oo9189-02 Polished Black / Black Iridium Lens\",\n",
       "  \"Sunglasses,Clothing, Shoes, Accessories,Walmart Vision Centers,Health,Men's Sunglasses\"),\n",
       " (\"Oakley Men's Twoface Sunglasses Oo9189-02 Polished Black / Black Iridium Lens\",\n",
       "  \"Sunglasses,Clothing, Shoes, Accessories,Walmart Vision Centers,Health,Men's Sunglasses\"),\n",
       " ('Dickies Du260rtb 36 32 Mens Relaxed Straight Fit Double Knee Duck Carpenter Jean44 Rinsed Timber 36 - 32',\n",
       "  \"All Men's Clothing,Men's Clothing,Clothing, Shoes & Jewelry,Men's Jeans,Clothing\"),\n",
       " ('Dickies Du260rtb 36 32 Mens Relaxed Straight Fit Double Knee Duck Carpenter Jean44 Rinsed Timber 36 - 32',\n",
       "  \"All Men's Clothing,Men's Clothing,Clothing, Shoes & Jewelry,Men's Jeans,Clothing\"),\n",
       " ('X-loop New Designer Sport Sunglasses Shades Eyewear Men Women Flat Black Xl491b',\n",
       "  \"Clothing, Shoes & Accessories,Men's Accessories,Sunglasses & Fashion Eyewear,Sunglasses,Women's Accessories\"),\n",
       " (\"Edwards 381 Men's Machine Washable Pocket Zipper Long Sleeve Cardigan Sweater\",\n",
       "  \"Men's Activewear,All Men's Clothing,Men's Clothing,Clothing, Shoes & Jewelry,Clothing\"),\n",
       " (\"Edwards 381 Men's Machine Washable Pocket Zipper Long Sleeve Cardigan Sweater\",\n",
       "  \"Men's Activewear,All Men's Clothing,Men's Clothing,Clothing, Shoes & Jewelry,Clothing\"),\n",
       " (\"Edwards 381 Men's Machine Washable Pocket Zipper Long Sleeve Cardigan Sweater\",\n",
       "  \"Men's Activewear,All Men's Clothing,Men's Clothing,Clothing, Shoes & Jewelry,Clothing\"),\n",
       " ('Medline Angelstat Reversible Drawstring Scrub Pant',\n",
       "  'Casual,Men,Scrubs,Home Health Care,Health,Clothing, Shoes & Jewelry,Pants,Clothing'),\n",
       " ('Berne Apparel Wjs300bkr480 X-large Regular Ladies Soft Shell Jacket - Black',\n",
       "  \"All Men's Clothing,Men's Clothing,Men's Outerwear,Clothing, Shoes & Jewelry,Clothing\"),\n",
       " ('Berne Apparel Wjs300bkr480 X-large Regular Ladies Soft Shell Jacket - Black',\n",
       "  \"All Men's Clothing,Men's Clothing,Men's Outerwear,Clothing, Shoes & Jewelry,Clothing\"),\n",
       " (\"Fossa Apparel 5578-white-2xl 2x-large Ladies' Downtown Soft Shell Jacket In White\",\n",
       "  \"All Men's Clothing,Men's Clothing,Men's Outerwear,Clothing, Shoes & Jewelry,Clothing\"),\n",
       " (\"Fossa Apparel 5578-white-2xl 2x-large Ladies' Downtown Soft Shell Jacket In White\",\n",
       "  \"All Men's Clothing,Men's Clothing,Men's Outerwear,Clothing, Shoes & Jewelry,Clothing\"),\n",
       " (\"Philadelphia Eagles Men's Flannel Slide Slipper\",\n",
       "  \"Clothing,Shoes,Men's Shoes,All Men's Shoes\"),\n",
       " ('Campbell Conference 1986 All Star Hat-ochre/black-one Size',\n",
       "  \"Clothing, Shoes & Accessories,Men's Accessories,Hats\"),\n",
       " ('Dvs Landmark', \"Clothing,Shoes,Men's Shoes,All Men's Shoes\"),\n",
       " ('Jewelry Adviser Nfl Gifts Nfl San Francisco 49ers Cabernet 8-piece Boxed Wine Set',\n",
       "  \"Jewelry,Fashion Jewelry,Fashion Rings,Clothing, Shoes & Jewelry,Men's Jewelry,Men's Rings\"),\n",
       " ('Jewelry Adviser Nfl Gifts Nfl San Francisco 49ers Cabernet 8-piece Boxed Wine Set',\n",
       "  \"Jewelry,Fashion Jewelry,Fashion Rings,Clothing, Shoes & Jewelry,Men's Jewelry,Men's Rings\"),\n",
       " ('\"Piercingj 1-5pcs Stainless Steel Bead Ball Chain Necklace For Pendant 19\"-26\" Long 2mm Bead\"',\n",
       "  'Jewelry,Clothing, Shoes & Jewelry,Men,Necklaces'),\n",
       " ('\"Piercingj 1-5pcs Stainless Steel Bead Ball Chain Necklace For Pendant 19\"-26\" Long 2mm Bead\"',\n",
       "  'Jewelry,Clothing, Shoes & Jewelry,Men,Necklaces'),\n",
       " (\"5.11 Tactical 5-72345750lt Men's Pdu L/s Twill Class B Shirt, Tall, Large, Midnight Navy\",\n",
       "  \"All Men's Clothing,Men's Activewear,Men's Clothing,Clothing, Shoes & Jewelry,Clothing\"),\n",
       " ('Jefferies Socks Mens Insect Shield Crew Sock',\n",
       "  \"Clothing, Shoes & Jewelry,Clothing,Men's Clothing,Men's Socks & Underwear,Men's Socks,All Men's Clothing\"),\n",
       " ('Jefferies Socks Mens Insect Shield Crew Sock',\n",
       "  \"Clothing, Shoes & Jewelry,Clothing,Men's Clothing,Men's Socks & Underwear,Men's Socks,All Men's Clothing\"),\n",
       " (\"Berne Apparel Ch377odr560 56''/3x-large Washed Chore Coat - Quilt Lined Regular - Olive Duck\",\n",
       "  \"All Men's Clothing,Men's Clothing,Men's Outerwear,Clothing, Shoes & Jewelry,Clothing\"),\n",
       " (\"Berne Apparel Ch377odr560 56''/3x-large Washed Chore Coat - Quilt Lined Regular - Olive Duck\",\n",
       "  \"All Men's Clothing,Men's Clothing,Men's Outerwear,Clothing, Shoes & Jewelry,Clothing\"),\n",
       " ('14k Co. Sterling Silvadium Dia S/m Engagement Ring, Best Quality Free Gift Box Satisfaction Guaranteed',\n",
       "  \"Men's Jewelry,Men's Rings,Rings,Clothing, Shoes & Jewelry,Jewelry\"),\n",
       " ('14k Co. Sterling Silvadium Dia S/m Engagement Ring, Best Quality Free Gift Box Satisfaction Guaranteed',\n",
       "  \"Men's Jewelry,Men's Rings,Rings,Clothing, Shoes & Jewelry,Jewelry\"),\n",
       " ('Old Friend Size 16 Mens Wide Width Terry Cloth Moccasin Slipper, Chestnut',\n",
       "  \"All Men's Shoes,Shoes,Men's Shoes,Clothing\"),\n",
       " ('Old Friend Size 16 Mens Wide Width Terry Cloth Moccasin Slipper, Chestnut',\n",
       "  \"All Men's Shoes,Shoes,Men's Shoes,Clothing\"),\n",
       " (\"Isotoner  Men's Microterry Memory Foam Indoor/outdoor Slip-on Slippers\",\n",
       "  \"All Men's Shoes,Shoes,Men's Shoes,Clothing\"),\n",
       " (\"Isotoner  Men's Microterry Memory Foam Indoor/outdoor Slip-on Slippers\",\n",
       "  \"All Men's Shoes,Shoes,Men's Shoes,Clothing\"),\n",
       " (\"Isotoner  Men's Microterry Memory Foam Indoor/outdoor Slip-on Slippers\",\n",
       "  \"All Men's Shoes,Shoes,Men's Shoes,Clothing\"),\n",
       " (\"Isotoner  Men's Microterry Memory Foam Indoor/outdoor Slip-on Slippers\",\n",
       "  \"All Men's Shoes,Shoes,Men's Shoes,Clothing\"),\n",
       " (\"Isotoner  Men's Microterry Memory Foam Indoor/outdoor Slip-on Slippers\",\n",
       "  \"All Men's Shoes,Shoes,Men's Shoes,Clothing\"),\n",
       " (\"Isotoner  Men's Microterry Memory Foam Indoor/outdoor Slip-on Slippers\",\n",
       "  \"All Men's Shoes,Shoes,Men's Shoes,Clothing\"),\n",
       " (\"Isotoner  Men's Microterry Memory Foam Indoor/outdoor Slip-on Slippers\",\n",
       "  \"All Men's Shoes,Shoes,Men's Shoes,Clothing\"),\n",
       " ('Kinco 90 Unlined Grain Deerskin Leather Driver Glove Work Medium Golden (pack of 6 Pairs)',\n",
       "  \"Workwear & Uniforms,Men's Workwear & Uniforms,Men's Coveralls,Clothing, Shoes & Jewelry,Clothing,Men's Clothing\"),\n",
       " ('Kinco 90 Unlined Grain Deerskin Leather Driver Glove Work Medium Golden (pack of 6 Pairs)',\n",
       "  \"Workwear & Uniforms,Men's Workwear & Uniforms,Men's Coveralls,Clothing, Shoes & Jewelry,Clothing,Men's Clothing\"),\n",
       " ('Mariner Chain Bracelet In Stainless Steel',\n",
       "  'Men%27s Jewelry,Anniversary Jewelry,Clothing, Shoes & Jewelry,Fashion Bracelets & Charms,Bracelets,Jewelry,Men%27s Bracelets,Fashion Jewelry,Men%27s Anniversary Jewelry'),\n",
       " ('Mariner Chain Bracelet In Stainless Steel',\n",
       "  'Men%27s Jewelry,Anniversary Jewelry,Clothing, Shoes & Jewelry,Fashion Bracelets & Charms,Bracelets,Jewelry,Men%27s Bracelets,Fashion Jewelry,Men%27s Anniversary Jewelry'),\n",
       " (\"Nike Sz L Elite Stripe Men's Basketball Shorts New 545477 415 Blue Green Black\",\n",
       "  \"Clothing, Shoes & Accessories,Men's Clothing,Athletic Apparel\"),\n",
       " ('Soft Touch One Size Terry Velour Hooded Bathrobe White Robe Spa Robe New!!! Unisex',\n",
       "  \"Men's Sleepwear,All Men's Clothing,Home,Men's Clothing,Clothing, Shoes & Jewelry,Bath Robes & Wraps,Personal Care,Bath,Clothing,Bed & Bath,Bath Towels & Rugs\"),\n",
       " ('Soft Touch One Size Terry Velour Hooded Bathrobe White Robe Spa Robe New!!! Unisex',\n",
       "  \"Men's Sleepwear,All Men's Clothing,Home,Men's Clothing,Clothing, Shoes & Jewelry,Bath Robes & Wraps,Personal Care,Bath,Clothing,Bed & Bath,Bath Towels & Rugs\"),\n",
       " (\"New Nwt- Adidas Sz. Men's 8 Scorch Football Cleats Black & White ~\",\n",
       "  'Football,Clothing, Shoes & Accessories,Team Sports,Men,Shoes & Cleats,Sporting Goods'),\n",
       " (\"Nike Men's Air Jordan Future Low Sz 11 Cool Grey/black-white Ret$145 Nib\",\n",
       "  \"Clothing, Shoes & Accessories,Men's Shoes,Athletic,See more Nike Air Jordan Future Low Cool Grey Black Whi...\"),\n",
       " (\"Nike Men's Flex 2016 Rn Running\",\n",
       "  \"Clothing,Shoes,Men's Shoes,All Men's Shoes\"),\n",
       " (\"Muk Luks Paul Men's Printed Berber Suede Moccasin Slippers\",\n",
       "  \"Men's Slippers,Shoes,Men's Shoes,Clothing\"),\n",
       " ('Superior Glove Works Superior 335stig Precision Arc Grain Sheepskin Leather Tig Welders Glove, Work, Medium, White (pack of 1 Dozen)',\n",
       "  \"Men's Work Gloves,Power Tools,Safety Apparel,Women's Workwear & Uniforms,Safety & Shop Gear,Workwear & Uniforms,Hand Tools,Clothing,Tools,Men's Clothing,Office Supplies,Women's Clothing,Women's Work Gloves,Gloves,Women's Workwear Accessories,Clothing, Shoes & Jewelry,Men's Workwear Accessories,Men's Workwear & Uniforms,Office Safety & Security\"),\n",
       " ('Superior Glove Works Superior 335stig Precision Arc Grain Sheepskin Leather Tig Welders Glove, Work, Medium, White (pack of 1 Dozen)',\n",
       "  \"Men's Work Gloves,Power Tools,Safety Apparel,Women's Workwear & Uniforms,Safety & Shop Gear,Workwear & Uniforms,Hand Tools,Clothing,Tools,Men's Clothing,Office Supplies,Women's Clothing,Women's Work Gloves,Gloves,Women's Workwear Accessories,Clothing, Shoes & Jewelry,Men's Workwear Accessories,Men's Workwear & Uniforms,Office Safety & Security\"),\n",
       " (\"New Nike 414986-101 Air Show Elite 2 White / Black Men's Baseball Cleats 6 Us\",\n",
       "  \"Clothing, Shoes & Accessories,Baseball & Softball,Team Sports,Men's,Shoes & Cleats,Sporting Goods\"),\n",
       " (\"New Nike 414986-101 Air Show Elite 2 White / Black Men's Baseball Cleats 6 Us\",\n",
       "  \"Clothing, Shoes & Accessories,Baseball & Softball,Team Sports,Men's,Shoes & Cleats,Sporting Goods\"),\n",
       " (\"New Nike 414986-101 Air Show Elite 2 White / Black Men's Baseball Cleats 6 Us\",\n",
       "  \"Clothing, Shoes & Accessories,Baseball & Softball,Team Sports,Men's,Shoes & Cleats,Sporting Goods\"),\n",
       " ('Superior Glove Works Superior 66brblue Teammate Guncut Split Leather Fitter Glove With Blue Rubberized Safety Cuff and Blue Cotton Back Work (pack of',\n",
       "  \"Men's Work Gloves,Power Tools,Safety Apparel,Women's Workwear & Uniforms,Safety & Shop Gear,Workwear & Uniforms,Hand Tools,Clothing,Tools,Men's Clothing,Office Supplies,Women's Clothing,Women's Work Gloves,Gloves,Women's Workwear Accessories,Clothing, Shoes & Jewelry,Men's Workwear & Uniforms,Men's Workwear Accessories,Office Safety & Security\"),\n",
       " ('Superior Glove Works Superior 66brblue Teammate Guncut Split Leather Fitter Glove With Blue Rubberized Safety Cuff and Blue Cotton Back Work (pack of',\n",
       "  \"Men's Work Gloves,Power Tools,Safety Apparel,Women's Workwear & Uniforms,Safety & Shop Gear,Workwear & Uniforms,Hand Tools,Clothing,Tools,Men's Clothing,Office Supplies,Women's Clothing,Women's Work Gloves,Gloves,Women's Workwear Accessories,Clothing, Shoes & Jewelry,Men's Workwear & Uniforms,Men's Workwear Accessories,Office Safety & Security\"),\n",
       " ('Reebok Breeze Tee Graphic Short Sleeves T-shirt',\n",
       "  \"Clothing, Shoes & Jewelry,Clothing,Men's Clothing,Men's Activewear,All Men's Clothing\"),\n",
       " ('Reebok Breeze Tee Graphic Short Sleeves T-shirt',\n",
       "  \"Clothing, Shoes & Jewelry,Clothing,Men's Clothing,Men's Activewear,All Men's Clothing\"),\n",
       " ('New Nwt Mens Black Wrangler 13mwz Cowboy Original Jeans 42 X 32',\n",
       "  \"Clothing, Shoes & Accessories,Men's Clothing,Jeans\"),\n",
       " ('New Nike Alpha Pro 2 3/4 D Football Cleats Mens 8.5 Black White 705409 010 $100.',\n",
       "  'Football,Clothing, Shoes & Accessories,Team Sports,Men,Shoes & Cleats,Sporting Goods'),\n",
       " ('New Nike Alpha Pro 2 3/4 D Football Cleats Mens 8.5 Black White 705409 010 $100.',\n",
       "  'Football,Clothing, Shoes & Accessories,Team Sports,Men,Shoes & Cleats,Sporting Goods'),\n",
       " (\"Qzunique Men's Novelty Black Hooded Pullover Sweatshirt Black Hoodie\",\n",
       "  'Novelty,Hoodies,Men,Novelty & More,Clothing, Shoes & Jewelry,Clothing'),\n",
       " (\"Qzunique Men's Novelty Black Hooded Pullover Sweatshirt Black Hoodie\",\n",
       "  'Novelty,Hoodies,Men,Novelty & More,Clothing, Shoes & Jewelry,Clothing'),\n",
       " ('Cutthroat Pirate Adult Men Buccaneer R Halloween Costume',\n",
       "  \"Party & Occasions,Halloween,All Costumes,Adult Halloween Costumes,Men's Halloween Costumes,#37662 in,#11998 in,#9810 in,Clothing, Shoes & Accessories,Classics,Men,Holiday Shops,Costumes, Reenactment, Theater,Halloween Store,Mens Costumes,Costumes\"),\n",
       " ('Cutthroat Pirate Adult Men Buccaneer R Halloween Costume',\n",
       "  \"Party & Occasions,Halloween,All Costumes,Adult Halloween Costumes,Men's Halloween Costumes,#37662 in,#11998 in,#9810 in,Clothing, Shoes & Accessories,Classics,Men,Holiday Shops,Costumes, Reenactment, Theater,Halloween Store,Mens Costumes,Costumes\"),\n",
       " ('Cutthroat Pirate Adult Men Buccaneer R Halloween Costume',\n",
       "  \"Party & Occasions,Halloween,All Costumes,Adult Halloween Costumes,Men's Halloween Costumes,#37662 in,#11998 in,#9810 in,Clothing, Shoes & Accessories,Classics,Men,Holiday Shops,Costumes, Reenactment, Theater,Halloween Store,Mens Costumes,Costumes\"),\n",
       " (\"Geox Men's U Xense Moc A Black Leather Slip On Moccasins (eu 44 Us 11)\",\n",
       "  \"All Men's Shoes,Shoes,Men's Shoes,Clothing\"),\n",
       " ('Carrera 90/s Sunglasses',\n",
       "  'Sunglasses,Accessories,Men,Contemporary & Designer,Clothing, Shoes & Jewelry,Sunglasses & Eyewear Accessories,Clothing')]"
      ]
     },
     "execution_count": 30,
     "metadata": {},
     "output_type": "execute_result"
    }
   ],
   "source": [
    "other_than_shoes_names_cat[:100]\n",
    "# This tells us that we cannot use categories to extract shoes from this dataset.\n",
    "# So our use of name to extract shoes is valid.\n",
    "# In fact, categories does not give us anything, so remove it to save\n",
    "# processing time/memory."
   ]
  },
  {
   "cell_type": "code",
   "execution_count": 31,
   "metadata": {
    "ExecuteTime": {
     "end_time": "2021-01-04T00:13:29.062101Z",
     "start_time": "2021-01-04T00:13:29.046137Z"
    }
   },
   "outputs": [
    {
     "data": {
      "text/html": [
       "<div>\n",
       "<style scoped>\n",
       "    .dataframe tbody tr th:only-of-type {\n",
       "        vertical-align: middle;\n",
       "    }\n",
       "\n",
       "    .dataframe tbody tr th {\n",
       "        vertical-align: top;\n",
       "    }\n",
       "\n",
       "    .dataframe thead th {\n",
       "        text-align: right;\n",
       "    }\n",
       "</style>\n",
       "<table border=\"1\" class=\"dataframe\">\n",
       "  <thead>\n",
       "    <tr style=\"text-align: right;\">\n",
       "      <th></th>\n",
       "      <th>description</th>\n",
       "      <th>prices_amountmin</th>\n",
       "      <th>prices_amountmax</th>\n",
       "      <th>features</th>\n",
       "      <th>merchants</th>\n",
       "      <th>brands</th>\n",
       "    </tr>\n",
       "  </thead>\n",
       "  <tbody>\n",
       "    <tr>\n",
       "      <th>0</th>\n",
       "      <td>Josmo 8190 Plain Infant Walking Shoes, Navy - ...</td>\n",
       "      <td>39.89</td>\n",
       "      <td>39.89</td>\n",
       "      <td>[{\"key\":\"Gender\",\"value\":[\"Men\"]},{\"key\":\"Shoe...</td>\n",
       "      <td>Unbeatablesale</td>\n",
       "      <td>josmo</td>\n",
       "    </tr>\n",
       "    <tr>\n",
       "      <th>1</th>\n",
       "      <td>Josmo 8190 Plain Infant Walking Shoes, Navy - ...</td>\n",
       "      <td>51.99</td>\n",
       "      <td>51.99</td>\n",
       "      <td>[{\"key\":\"Gender\",\"value\":[\"Men\"]},{\"key\":\"Shoe...</td>\n",
       "      <td>Unbeatablesale</td>\n",
       "      <td>josmo</td>\n",
       "    </tr>\n",
       "    <tr>\n",
       "      <th>2</th>\n",
       "      <td>Servus By Honeywell Shoe Studs Zsr101blmlg</td>\n",
       "      <td>40.02</td>\n",
       "      <td>40.02</td>\n",
       "      <td>[{\"key\":\"Gender\",\"value\":[\"Men\"]},{\"key\":\"Colo...</td>\n",
       "      <td>Sim Supply Inc</td>\n",
       "      <td>servus by honeywell</td>\n",
       "    </tr>\n",
       "    <tr>\n",
       "      <th>3</th>\n",
       "      <td>Servus By Honeywell Shoe Studs Zsr101blmlg</td>\n",
       "      <td>50.31</td>\n",
       "      <td>50.31</td>\n",
       "      <td>[{\"key\":\"Gender\",\"value\":[\"Men\"]},{\"key\":\"Colo...</td>\n",
       "      <td>Sim Supply Inc</td>\n",
       "      <td>servus by honeywell</td>\n",
       "    </tr>\n",
       "    <tr>\n",
       "      <th>4</th>\n",
       "      <td>Servus By Honeywell Shoe Studs Zsr101blmlg</td>\n",
       "      <td>46.26</td>\n",
       "      <td>46.26</td>\n",
       "      <td>[{\"key\":\"Gender\",\"value\":[\"Men\"]},{\"key\":\"Colo...</td>\n",
       "      <td>Sim Supply Inc</td>\n",
       "      <td>servus by honeywell</td>\n",
       "    </tr>\n",
       "  </tbody>\n",
       "</table>\n",
       "</div>"
      ],
      "text/plain": [
       "                                         description prices_amountmin  \\\n",
       "0  Josmo 8190 Plain Infant Walking Shoes, Navy - ...            39.89   \n",
       "1  Josmo 8190 Plain Infant Walking Shoes, Navy - ...            51.99   \n",
       "2         Servus By Honeywell Shoe Studs Zsr101blmlg            40.02   \n",
       "3         Servus By Honeywell Shoe Studs Zsr101blmlg            50.31   \n",
       "4         Servus By Honeywell Shoe Studs Zsr101blmlg            46.26   \n",
       "\n",
       "  prices_amountmax                                           features  \\\n",
       "0            39.89  [{\"key\":\"Gender\",\"value\":[\"Men\"]},{\"key\":\"Shoe...   \n",
       "1            51.99  [{\"key\":\"Gender\",\"value\":[\"Men\"]},{\"key\":\"Shoe...   \n",
       "2            40.02  [{\"key\":\"Gender\",\"value\":[\"Men\"]},{\"key\":\"Colo...   \n",
       "3            50.31  [{\"key\":\"Gender\",\"value\":[\"Men\"]},{\"key\":\"Colo...   \n",
       "4            46.26  [{\"key\":\"Gender\",\"value\":[\"Men\"]},{\"key\":\"Colo...   \n",
       "\n",
       "        merchants               brands  \n",
       "0  Unbeatablesale                josmo  \n",
       "1  Unbeatablesale                josmo  \n",
       "2  Sim Supply Inc  servus by honeywell  \n",
       "3  Sim Supply Inc  servus by honeywell  \n",
       "4  Sim Supply Inc  servus by honeywell  "
      ]
     },
     "execution_count": 31,
     "metadata": {},
     "output_type": "execute_result"
    }
   ],
   "source": [
    "shoes = shoes.drop('categories', axis='columns')\n",
    "shoes.head()"
   ]
  },
  {
   "cell_type": "code",
   "execution_count": 32,
   "metadata": {
    "ExecuteTime": {
     "end_time": "2021-01-04T00:13:29.081711Z",
     "start_time": "2021-01-04T00:13:29.064981Z"
    },
    "scrolled": true
   },
   "outputs": [
    {
     "name": "stdout",
     "output_type": "stream",
     "text": [
      "Initial shoes shape: (18524, 6)\n",
      "Final shoes shape: (8903, 6)\n"
     ]
    }
   ],
   "source": [
    "print(f'Initial shoes shape: {shoes.shape}')\n",
    "shoes = shoes.dropna(axis='index', how='any') # Drop any row that has NA values in it\n",
    "print(f'Final shoes shape: {shoes.shape}')\n",
    "# There are no nulls in our data"
   ]
  },
  {
   "cell_type": "code",
   "execution_count": 33,
   "metadata": {
    "ExecuteTime": {
     "end_time": "2021-01-04T00:13:29.093293Z",
     "start_time": "2021-01-04T00:13:29.084867Z"
    }
   },
   "outputs": [
    {
     "data": {
      "text/plain": [
       "description         object\n",
       "prices_amountmin    object\n",
       "prices_amountmax    object\n",
       "features            object\n",
       "merchants           object\n",
       "brands              object\n",
       "dtype: object"
      ]
     },
     "execution_count": 33,
     "metadata": {},
     "output_type": "execute_result"
    }
   ],
   "source": [
    "shoes.dtypes"
   ]
  },
  {
   "cell_type": "code",
   "execution_count": 34,
   "metadata": {
    "ExecuteTime": {
     "end_time": "2021-01-04T00:13:29.107129Z",
     "start_time": "2021-01-04T00:13:29.096112Z"
    }
   },
   "outputs": [],
   "source": [
    "# Convert prices to floats\n",
    "shoes.prices_amountmin = shoes.prices_amountmin.astype('float64')\n",
    "shoes.prices_amountmax = shoes.prices_amountmax.astype('float64')"
   ]
  },
  {
   "cell_type": "code",
   "execution_count": 35,
   "metadata": {
    "ExecuteTime": {
     "end_time": "2021-01-04T00:13:29.119123Z",
     "start_time": "2021-01-04T00:13:29.110015Z"
    }
   },
   "outputs": [
    {
     "data": {
      "text/plain": [
       "description          object\n",
       "prices_amountmin    float64\n",
       "prices_amountmax    float64\n",
       "features             object\n",
       "merchants            object\n",
       "brands               object\n",
       "dtype: object"
      ]
     },
     "execution_count": 35,
     "metadata": {},
     "output_type": "execute_result"
    }
   ],
   "source": [
    "shoes.dtypes"
   ]
  },
  {
   "cell_type": "code",
   "execution_count": 36,
   "metadata": {
    "ExecuteTime": {
     "end_time": "2021-01-04T00:13:29.132789Z",
     "start_time": "2021-01-04T00:13:29.121841Z"
    }
   },
   "outputs": [
    {
     "data": {
      "text/plain": [
       "39"
      ]
     },
     "execution_count": 36,
     "metadata": {},
     "output_type": "execute_result"
    }
   ],
   "source": [
    "diff_amounts = shoes[shoes.prices_amountmin != shoes.prices_amountmax]\n",
    "diff_amounts.shape[0]\n",
    "# Only a very small number of columns have differing minimum and maximum amounts"
   ]
  },
  {
   "cell_type": "code",
   "execution_count": 37,
   "metadata": {
    "ExecuteTime": {
     "end_time": "2021-01-04T00:13:29.151998Z",
     "start_time": "2021-01-04T00:13:29.135568Z"
    }
   },
   "outputs": [
    {
     "data": {
      "text/html": [
       "<div>\n",
       "<style scoped>\n",
       "    .dataframe tbody tr th:only-of-type {\n",
       "        vertical-align: middle;\n",
       "    }\n",
       "\n",
       "    .dataframe tbody tr th {\n",
       "        vertical-align: top;\n",
       "    }\n",
       "\n",
       "    .dataframe thead th {\n",
       "        text-align: right;\n",
       "    }\n",
       "</style>\n",
       "<table border=\"1\" class=\"dataframe\">\n",
       "  <thead>\n",
       "    <tr style=\"text-align: right;\">\n",
       "      <th></th>\n",
       "      <th>price_diff</th>\n",
       "      <th>amountmin</th>\n",
       "      <th>amountmax</th>\n",
       "    </tr>\n",
       "  </thead>\n",
       "  <tbody>\n",
       "    <tr>\n",
       "      <th>10737</th>\n",
       "      <td>230.00</td>\n",
       "      <td>69.99</td>\n",
       "      <td>299.99</td>\n",
       "    </tr>\n",
       "    <tr>\n",
       "      <th>11780</th>\n",
       "      <td>225.10</td>\n",
       "      <td>66.90</td>\n",
       "      <td>292.00</td>\n",
       "    </tr>\n",
       "    <tr>\n",
       "      <th>11771</th>\n",
       "      <td>225.10</td>\n",
       "      <td>66.90</td>\n",
       "      <td>292.00</td>\n",
       "    </tr>\n",
       "    <tr>\n",
       "      <th>11776</th>\n",
       "      <td>221.92</td>\n",
       "      <td>70.08</td>\n",
       "      <td>292.00</td>\n",
       "    </tr>\n",
       "    <tr>\n",
       "      <th>11769</th>\n",
       "      <td>200.59</td>\n",
       "      <td>91.41</td>\n",
       "      <td>292.00</td>\n",
       "    </tr>\n",
       "  </tbody>\n",
       "</table>\n",
       "</div>"
      ],
      "text/plain": [
       "       price_diff  amountmin  amountmax\n",
       "10737      230.00      69.99     299.99\n",
       "11780      225.10      66.90     292.00\n",
       "11771      225.10      66.90     292.00\n",
       "11776      221.92      70.08     292.00\n",
       "11769      200.59      91.41     292.00"
      ]
     },
     "execution_count": 37,
     "metadata": {},
     "output_type": "execute_result"
    }
   ],
   "source": [
    "shoes2 = pd.DataFrame({'price_diff': (shoes.prices_amountmax - shoes.prices_amountmin),\n",
    "                       'amountmin': shoes.prices_amountmin,\n",
    "                       'amountmax': shoes.prices_amountmax})\n",
    "shoes2.sort_values('price_diff', ascending=False).head()"
   ]
  },
  {
   "cell_type": "code",
   "execution_count": 38,
   "metadata": {
    "ExecuteTime": {
     "end_time": "2021-01-04T00:13:29.497598Z",
     "start_time": "2021-01-04T00:13:29.154160Z"
    }
   },
   "outputs": [
    {
     "data": {
      "image/png": "[encoded data removed]",
      "text/plain": [
       "<Figure size 432x288 with 1 Axes>"
      ]
     },
     "metadata": {
      "needs_background": "light"
     },
     "output_type": "display_data"
    }
   ],
   "source": [
    "shoes2.price_diff.hist(bins=100);"
   ]
  },
  {
   "cell_type": "code",
   "execution_count": 39,
   "metadata": {
    "ExecuteTime": {
     "end_time": "2021-01-04T00:13:29.505351Z",
     "start_time": "2021-01-04T00:13:29.499919Z"
    }
   },
   "outputs": [
    {
     "name": "stdout",
     "output_type": "stream",
     "text": [
      "% of price differences that are zero: 0.9956194541165899\n"
     ]
    }
   ],
   "source": [
    "print(f'% of price differences that are zero: {len(shoes2[shoes2.price_diff < 0.01]) / len(shoes2)}')"
   ]
  },
  {
   "cell_type": "code",
   "execution_count": 40,
   "metadata": {
    "ExecuteTime": {
     "end_time": "2021-01-04T00:13:29.686985Z",
     "start_time": "2021-01-04T00:13:29.508027Z"
    }
   },
   "outputs": [
    {
     "data": {
      "image/png": "[encoded data removed]",
      "text/plain": [
       "<Figure size 432x288 with 1 Axes>"
      ]
     },
     "metadata": {
      "needs_background": "light"
     },
     "output_type": "display_data"
    }
   ],
   "source": [
    "shoes2[(shoes2.price_diff > 0.01) & \\\n",
    "       (shoes2.price_diff < 80)].price_diff.hist();\n",
    "# Huh! Seems to be some kind of pattern.\n",
    "# This is the pattern I see going upto $80 with default number of bins.\n",
    "#   0-8:   Low\n",
    "#   9-16:  High\n",
    "#   17-24: Much lower\n",
    "# The $8 per column makes since since the default number of bins = 10,\n",
    "# and we're looking at values from 0 - 80.\n",
    "# It also makes sense that the histogram should decrease to the right,\n",
    "# since we don't have as many higher values.\n",
    "# The pattern does change as you go from 0 - 100,\n",
    "# and change the number of bins.\n",
    "# So maybe there is nothing here.\n",
    "# Our minds try to notice patterns all the time."
   ]
  },
  {
   "cell_type": "code",
   "execution_count": 41,
   "metadata": {
    "ExecuteTime": {
     "end_time": "2021-01-04T00:13:29.698355Z",
     "start_time": "2021-01-04T00:13:29.695348Z"
    }
   },
   "outputs": [],
   "source": [
    "# Remove the shoes2 dataframe.\n",
    "del shoes2"
   ]
  },
  {
   "cell_type": "code",
   "execution_count": 42,
   "metadata": {
    "ExecuteTime": {
     "end_time": "2021-01-04T00:13:29.709368Z",
     "start_time": "2021-01-04T00:13:29.704927Z"
    }
   },
   "outputs": [
    {
     "data": {
      "text/plain": [
       "'[{\"key\":\"Gender\",\"value\":[\"Men\"]},{\"key\":\"Shoe Size\",\"value\":[\"M\"]},{\"key\":\"Shoe Category\",\"value\":[\"Men\\'s Shoes\"]},{\"key\":\"Color\",\"value\":[\"Multicolor\"]},{\"key\":\"Manufacturer Part Number\",\"value\":[\"8190-W-NAVY-7.5\"]},{\"key\":\"Brand\",\"value\":[\"Josmo\"]}]'"
      ]
     },
     "execution_count": 42,
     "metadata": {},
     "output_type": "execute_result"
    }
   ],
   "source": [
    "df.features.loc[0]"
   ]
  },
  {
   "cell_type": "code",
   "execution_count": 43,
   "metadata": {
    "ExecuteTime": {
     "end_time": "2021-01-04T00:13:29.738572Z",
     "start_time": "2021-01-04T00:13:29.711899Z"
    }
   },
   "outputs": [
    {
     "data": {
      "text/plain": [
       "Men's Shoes                          0.640565\n",
       "Mens Shoes                           0.088400\n",
       "Men'S Shoes                          0.026924\n",
       "Unisex Shoes                         0.024456\n",
       "Adult                                0.023783\n",
       "                                       ...   \n",
       "Flip Flops                           0.000224\n",
       "Active Sandals                       0.000224\n",
       "women                                0.000224\n",
       "One Size                             0.000224\n",
       "Athletic & Sneakers\",\"Men's Shoes    0.000224\n",
       "Name: categories, Length: 104, dtype: float64"
      ]
     },
     "execution_count": 43,
     "metadata": {},
     "output_type": "execute_result"
    }
   ],
   "source": [
    "shoes['categories'] = shoes.features.str.extract(r'Shoe Category\\\"\\,\\\"value\\\"\\:\\[\\\"(.*?)\\\"\\]').squeeze()\n",
    "shoes.categories.value_counts(normalize=True, ascending=False)"
   ]
  },
  {
   "cell_type": "code",
   "execution_count": 44,
   "metadata": {
    "ExecuteTime": {
     "end_time": "2021-01-04T00:13:29.750449Z",
     "start_time": "2021-01-04T00:13:29.741245Z"
    }
   },
   "outputs": [
    {
     "name": "stdout",
     "output_type": "stream",
     "text": [
      "% NaN in shoes categories: 0.4993822307087499\n"
     ]
    }
   ],
   "source": [
    "cat_list = pd.Series(shoes.categories.unique())\n",
    "cat_list = cat_list.str.replace('\\'', '')\n",
    "print(f'% NaN in shoes categories: {shoes.categories.isnull().sum() / len(shoes)}')\n",
    "# Since there are so many NaN values,\n",
    "# maybe we can use the categories feature instead."
   ]
  },
  {
   "cell_type": "code",
   "execution_count": 45,
   "metadata": {
    "ExecuteTime": {
     "end_time": "2021-01-04T00:13:29.765556Z",
     "start_time": "2021-01-04T00:13:29.753235Z"
    }
   },
   "outputs": [
    {
     "data": {
      "text/plain": [
       "All Men's Shoes,Shoes,Men's Shoes,Clothing                                                                                    0.191726\n",
       "Clothing,Shoes,Men's Shoes,All Men's Shoes                                                                                    0.084799\n",
       "Men's Casual Shoes,Shoes,Men's Shoes,Clothing                                                                                 0.036055\n",
       "All Men's Clothing,Men's Clothing,Men's Outerwear,Clothing, Shoes & Jewelry,Clothing                                          0.030330\n",
       "Clothing, Shoes & Accessories,Men's Shoes,Athletic                                                                            0.020632\n",
       "                                                                                                                                ...   \n",
       "All Action Sports,Outlet,Shoes Outlet,All Shoes,Men's Shoes,Action Sports Outlet                                              0.000052\n",
       "Shoes,Clothing, Shoes & Jewelry,Men,Sandals                                                                                   0.000052\n",
       "Clothing, Shoes & Accessories,Men's Shoes,Sandals & Flip Flops,See more Crocs Classic Realtree Clogs Unisex Khaki Mens...     0.000052\n",
       "Young Men's Clothing,All Men's Clothing,Men's Clothing,Clothing, Shoes & Jewelry,Men's Shorts,Young Men's Shorts,Clothing     0.000052\n",
       "Clothing, Shoes & Accessories,Athletic,Outdoor Sports,Skateboarding & Longboarding,Footwear,Men,Men's Shoes,Sporting Goods    0.000052\n",
       "Name: categories, Length: 1264, dtype: float64"
      ]
     },
     "execution_count": 45,
     "metadata": {},
     "output_type": "execute_result"
    }
   ],
   "source": [
    "df.categories.value_counts(normalize=True, ascending=False)\n",
    "# The category names combine clothing and shoes etc.\n",
    "# It doesn't look like a good way to judge what the item is.\n",
    "# We will stick with our categories based on shoe category\n",
    "# from the features column."
   ]
  },
  {
   "cell_type": "code",
   "execution_count": 46,
   "metadata": {
    "ExecuteTime": {
     "end_time": "2021-01-04T00:13:29.780567Z",
     "start_time": "2021-01-04T00:13:29.767794Z"
    }
   },
   "outputs": [
    {
     "data": {
      "text/plain": [
       "array(['Servus By Honeywell Shoe Studs Zsr101blmlg',\n",
       "       'Native Miller Men Us 10 Gray Loafer Uk 9 Eu 43',\n",
       "       'Rubies Costume Adult Mens Regency Plush Santa Claus Christmas Suit | X-large',\n",
       "       ..., 'Sanuk Vagabond Chill   Moc Toe Canvas  Loafer',\n",
       "       'Tretorn Racket H Low Men  Round Toe Canvas Blue Sneakers',\n",
       "       'Stacy Adams Tremain Men  Round Toe Suede  Oxford'], dtype=object)"
      ]
     },
     "execution_count": 46,
     "metadata": {},
     "output_type": "execute_result"
    }
   ],
   "source": [
    "# Let's check what items have a feature with NaN\n",
    "# as the shoe category. Maybe they're not shoes.\n",
    "shoe_categories_nan_names = shoes[shoes.categories.isnull()].description.unique()\n",
    "shoe_categories_nan_names"
   ]
  },
  {
   "cell_type": "code",
   "execution_count": 47,
   "metadata": {
    "ExecuteTime": {
     "end_time": "2021-01-04T00:13:29.844787Z",
     "start_time": "2021-01-04T00:13:29.783292Z"
    }
   },
   "outputs": [
    {
     "name": "stdout",
     "output_type": "stream",
     "text": [
      "ignore_idx: [158, 418, 636, 637, 703, 704, 758, 1192, 2159, 2160, 2599, 2746, 3491, 4936, 5609, 5610, 6178, 6633, 6736, 7909, 8147, 8148, 8321, 8699, 8700, 9822, 11210, 11211, 11688, 11689, 11690, 11691, 11692, 11693, 12989, 12990, 13047, 13050, 13120, 13121, 13122, 13302, 13303, 13444, 14211, 14703, 16171, 16172, 17018, 17019, 17020, 17021, 17022, 17023, 17024, 17328, 17329, 18037, 18515, 18516, 18517, 18728, 815, 8670, 9120, 9121, 10319, 10320, 2119, 2120, 6468, 16376, 16377, 138, 139, 140, 141, 142, 138, 139, 140, 141, 142, 990, 2063, 2064, 2198, 2385, 2386, 2390, 2408, 2447, 2448, 2604, 2605, 2753, 2769, 2770, 2771, 2772, 2857, 2907, 2908, 2909, 2910, 2911, 2912, 3304, 3305, 3306, 3551, 3608, 3692, 3896, 3897, 3898, 3899, 3915, 3916, 3917, 3918, 4320, 4391, 4594, 4864, 4865, 4866, 4867, 4868, 4869, 4870, 4871, 4872, 4955, 4956, 4957, 4958, 4959, 4960, 5317, 5348, 5451, 5589, 5590, 5591, 5592, 5593, 5595, 5769, 5804, 5904, 6352, 6516, 6524, 6525, 6903, 6904, 7046, 7047, 7499, 7500, 7542, 7543, 7558, 7559, 7634, 7635, 7944, 8834, 9029, 9030, 9094, 9653, 9654, 9655, 9656, 9783, 9915, 9916, 10052, 10053, 10054, 10055, 10056, 10057, 10081, 10082, 10142, 10143, 10144, 10189, 10445, 10446, 10851, 10852, 10853, 10854, 10855, 10856, 10857, 10858, 10859, 10860, 11005, 11116, 11117, 11235, 11439, 11440, 12054, 12055, 12112, 12734, 12944, 12945, 12972, 12973, 13005, 13250, 13945, 13946, 13947, 14166, 14464, 14554, 14754, 14899, 14900, 14901, 14902, 15582, 15583, 15584, 15585, 15788, 15796, 15797, 15836, 15837, 15862, 15863, 15864, 15865, 15866, 16069, 16070, 16287, 16288, 16466, 16467, 16667, 16997, 16998, 17088, 17089, 17175, 17176, 17177, 17178, 17179, 17216, 18063, 18064, 18065, 18066, 18067, 18068, 18311, 18312, 18313, 18408, 18409, 18531, 18585, 18586, 19306, 19307, 15268]\n"
     ]
    },
    {
     "data": {
      "text/html": [
       "<div>\n",
       "<style scoped>\n",
       "    .dataframe tbody tr th:only-of-type {\n",
       "        vertical-align: middle;\n",
       "    }\n",
       "\n",
       "    .dataframe tbody tr th {\n",
       "        vertical-align: top;\n",
       "    }\n",
       "\n",
       "    .dataframe thead th {\n",
       "        text-align: right;\n",
       "    }\n",
       "</style>\n",
       "<table border=\"1\" class=\"dataframe\">\n",
       "  <thead>\n",
       "    <tr style=\"text-align: right;\">\n",
       "      <th></th>\n",
       "      <th>description</th>\n",
       "      <th>prices_amountmin</th>\n",
       "      <th>prices_amountmax</th>\n",
       "      <th>merchants</th>\n",
       "      <th>brands</th>\n",
       "      <th>categories</th>\n",
       "    </tr>\n",
       "  </thead>\n",
       "  <tbody>\n",
       "    <tr>\n",
       "      <th>0</th>\n",
       "      <td>Josmo 8190 Plain Infant Walking Shoes, Navy - ...</td>\n",
       "      <td>39.89</td>\n",
       "      <td>39.89</td>\n",
       "      <td>Unbeatablesale</td>\n",
       "      <td>josmo</td>\n",
       "      <td>Men's Shoes</td>\n",
       "    </tr>\n",
       "    <tr>\n",
       "      <th>1</th>\n",
       "      <td>Josmo 8190 Plain Infant Walking Shoes, Navy - ...</td>\n",
       "      <td>51.99</td>\n",
       "      <td>51.99</td>\n",
       "      <td>Unbeatablesale</td>\n",
       "      <td>josmo</td>\n",
       "      <td>Men's Shoes</td>\n",
       "    </tr>\n",
       "    <tr>\n",
       "      <th>2</th>\n",
       "      <td>Servus By Honeywell Shoe Studs Zsr101blmlg</td>\n",
       "      <td>40.02</td>\n",
       "      <td>40.02</td>\n",
       "      <td>Sim Supply Inc</td>\n",
       "      <td>servus by honeywell</td>\n",
       "      <td>NaN</td>\n",
       "    </tr>\n",
       "    <tr>\n",
       "      <th>3</th>\n",
       "      <td>Servus By Honeywell Shoe Studs Zsr101blmlg</td>\n",
       "      <td>50.31</td>\n",
       "      <td>50.31</td>\n",
       "      <td>Sim Supply Inc</td>\n",
       "      <td>servus by honeywell</td>\n",
       "      <td>NaN</td>\n",
       "    </tr>\n",
       "    <tr>\n",
       "      <th>4</th>\n",
       "      <td>Servus By Honeywell Shoe Studs Zsr101blmlg</td>\n",
       "      <td>46.26</td>\n",
       "      <td>46.26</td>\n",
       "      <td>Sim Supply Inc</td>\n",
       "      <td>servus by honeywell</td>\n",
       "      <td>NaN</td>\n",
       "    </tr>\n",
       "    <tr>\n",
       "      <th>...</th>\n",
       "      <td>...</td>\n",
       "      <td>...</td>\n",
       "      <td>...</td>\n",
       "      <td>...</td>\n",
       "      <td>...</td>\n",
       "      <td>...</td>\n",
       "    </tr>\n",
       "    <tr>\n",
       "      <th>19374</th>\n",
       "      <td>Easy Usa M8818 Men Slide Sport Sandals - 36 Pairs</td>\n",
       "      <td>168.60</td>\n",
       "      <td>168.60</td>\n",
       "      <td>Unbeatablesale</td>\n",
       "      <td>easy usa</td>\n",
       "      <td>Men's Shoes</td>\n",
       "    </tr>\n",
       "    <tr>\n",
       "      <th>19375</th>\n",
       "      <td>Easy Usa M8818 Men Slide Sport Sandals - 36 Pairs</td>\n",
       "      <td>129.59</td>\n",
       "      <td>129.59</td>\n",
       "      <td>Unbeatablesale</td>\n",
       "      <td>easy usa</td>\n",
       "      <td>Men's Shoes</td>\n",
       "    </tr>\n",
       "    <tr>\n",
       "      <th>19380</th>\n",
       "      <td>Roper Western Shoes Mens Wide Slip On Brown 09...</td>\n",
       "      <td>34.99</td>\n",
       "      <td>34.99</td>\n",
       "      <td>Apparelsave</td>\n",
       "      <td>roper</td>\n",
       "      <td>Men's Shoes</td>\n",
       "    </tr>\n",
       "    <tr>\n",
       "      <th>19381</th>\n",
       "      <td>Roper Western Shoes Mens Wide Slip On Brown 09...</td>\n",
       "      <td>94.00</td>\n",
       "      <td>94.00</td>\n",
       "      <td>Apparelsave</td>\n",
       "      <td>roper</td>\n",
       "      <td>Men's Shoes</td>\n",
       "    </tr>\n",
       "    <tr>\n",
       "      <th>19383</th>\n",
       "      <td>Fila Men's Original Tennis Navy/white/gold Fas...</td>\n",
       "      <td>64.95</td>\n",
       "      <td>64.95</td>\n",
       "      <td>Ultimate Shoe Zone</td>\n",
       "      <td>fila</td>\n",
       "      <td>Men's Shoes</td>\n",
       "    </tr>\n",
       "  </tbody>\n",
       "</table>\n",
       "<p>8630 rows × 6 columns</p>\n",
       "</div>"
      ],
      "text/plain": [
       "                                             description  prices_amountmin  \\\n",
       "0      Josmo 8190 Plain Infant Walking Shoes, Navy - ...             39.89   \n",
       "1      Josmo 8190 Plain Infant Walking Shoes, Navy - ...             51.99   \n",
       "2             Servus By Honeywell Shoe Studs Zsr101blmlg             40.02   \n",
       "3             Servus By Honeywell Shoe Studs Zsr101blmlg             50.31   \n",
       "4             Servus By Honeywell Shoe Studs Zsr101blmlg             46.26   \n",
       "...                                                  ...               ...   \n",
       "19374  Easy Usa M8818 Men Slide Sport Sandals - 36 Pairs            168.60   \n",
       "19375  Easy Usa M8818 Men Slide Sport Sandals - 36 Pairs            129.59   \n",
       "19380  Roper Western Shoes Mens Wide Slip On Brown 09...             34.99   \n",
       "19381  Roper Western Shoes Mens Wide Slip On Brown 09...             94.00   \n",
       "19383  Fila Men's Original Tennis Navy/white/gold Fas...             64.95   \n",
       "\n",
       "       prices_amountmax           merchants               brands   categories  \n",
       "0                 39.89      Unbeatablesale                josmo  Men's Shoes  \n",
       "1                 51.99      Unbeatablesale                josmo  Men's Shoes  \n",
       "2                 40.02      Sim Supply Inc  servus by honeywell          NaN  \n",
       "3                 50.31      Sim Supply Inc  servus by honeywell          NaN  \n",
       "4                 46.26      Sim Supply Inc  servus by honeywell          NaN  \n",
       "...                 ...                 ...                  ...          ...  \n",
       "19374            168.60      Unbeatablesale             easy usa  Men's Shoes  \n",
       "19375            129.59      Unbeatablesale             easy usa  Men's Shoes  \n",
       "19380             34.99         Apparelsave                roper  Men's Shoes  \n",
       "19381             94.00         Apparelsave                roper  Men's Shoes  \n",
       "19383             64.95  Ultimate Shoe Zone                 fila  Men's Shoes  \n",
       "\n",
       "[8630 rows x 6 columns]"
      ]
     },
     "execution_count": 47,
     "metadata": {},
     "output_type": "execute_result"
    }
   ],
   "source": [
    "# Looks like we missed some shoes that do not have their\n",
    "# categories labeled in the features column.\n",
    "# If the category is not labeled, we can check the name\n",
    "# for the type and create a category using the same type:\n",
    "# Let's consider the types based on the values in our mapping table below.\n",
    "\n",
    "# Since we're only considering mens shoes, ignore the rest\n",
    "ignore_categories = ['girl', 'no category', 'pumps', 'baby', \n",
    "                     'youth', 'unisex', 'children']\n",
    "shoes_not_null = shoes[shoes.categories.notnull()]\n",
    "ignore_idx = []\n",
    "for cat in ignore_categories:\n",
    "    ignore_idx.extend(shoes_not_null[shoes_not_null.categories.str.contains(cat, case=False)].index)\n",
    "print(f'ignore_idx: {ignore_idx}')\n",
    "\n",
    "shoes_required = shoes.drop(ignore_idx)  # Only shoes with categories we want\n",
    "mapping = {   # Unusual shoe types are at the top since a shoe name may contain 'cleated shoe',\n",
    "              # which matches both cleated and shoe. But we want to use the more precise label,\n",
    "              # and we will search for those precise labels first.\n",
    "              # Once it is found, and replaced, we don't compare any further.\n",
    "            'cleated': 'cleated', \n",
    "            'spiked': 'cleated',\n",
    "            'running': 'running',\n",
    "            'athletic': 'athletic',\n",
    "            'training': 'trainer',\n",
    "            'trainer': 'trainer',\n",
    "            'step': 'step',\n",
    "            'skate': 'skate',\n",
    "            'waterproof boot': 'waterproof boot',\n",
    "            'skateboarding': 'skateboarding',\n",
    "\n",
    "            'boat': 'boat',\n",
    "            'water': 'boat',\n",
    "            'winter and rain boot': 'winter and rain boot',\n",
    "            'basketball': 'basketball',\n",
    "            'oxford': 'oxford',\n",
    "            'dress': 'dress',\n",
    "            'fashion': 'dress',\n",
    "            'dress boot': 'dress boot',\n",
    "            'leather boot': 'leather boot',\n",
    "            'work boot': 'work boot',\n",
    "\n",
    "            'boot': 'boot',\n",
    "            'casual': 'casual',\n",
    "            'lifestyle': 'casual',\n",
    "            'loafer': 'casual',\n",
    "            'slip-on': 'casual',\n",
    "            'hiking': 'hiking',\n",
    "            'slipper': 'slipper',\n",
    "            'sliipper': 'slipper',\n",
    "            'flat': 'slipper',\n",
    "            'flip flop': 'slipper',\n",
    "            'sandal': 'sandal',\n",
    "            'sneaker': 'sneaker',\n",
    "            'shoe': 'shoe',\n",
    "         }\n",
    "\n",
    "# We don't need the features column any more\n",
    "shoes_required = shoes_required.drop('features', axis=1)\n",
    "\n",
    "shoes_required"
   ]
  },
  {
   "cell_type": "code",
   "execution_count": 48,
   "metadata": {
    "ExecuteTime": {
     "end_time": "2021-01-04T00:13:30.776653Z",
     "start_time": "2021-01-04T00:13:29.847288Z"
    }
   },
   "outputs": [
    {
     "data": {
      "text/html": [
       "<div>\n",
       "<style scoped>\n",
       "    .dataframe tbody tr th:only-of-type {\n",
       "        vertical-align: middle;\n",
       "    }\n",
       "\n",
       "    .dataframe tbody tr th {\n",
       "        vertical-align: top;\n",
       "    }\n",
       "\n",
       "    .dataframe thead th {\n",
       "        text-align: right;\n",
       "    }\n",
       "</style>\n",
       "<table border=\"1\" class=\"dataframe\">\n",
       "  <thead>\n",
       "    <tr style=\"text-align: right;\">\n",
       "      <th></th>\n",
       "      <th>description</th>\n",
       "      <th>prices_amountmin</th>\n",
       "      <th>prices_amountmax</th>\n",
       "      <th>merchants</th>\n",
       "      <th>brands</th>\n",
       "      <th>categories</th>\n",
       "    </tr>\n",
       "  </thead>\n",
       "  <tbody>\n",
       "    <tr>\n",
       "      <th>0</th>\n",
       "      <td>Josmo 8190 Plain Infant Walking Shoes, Navy - ...</td>\n",
       "      <td>39.89</td>\n",
       "      <td>39.89</td>\n",
       "      <td>Unbeatablesale</td>\n",
       "      <td>josmo</td>\n",
       "      <td>Men's Shoes</td>\n",
       "    </tr>\n",
       "    <tr>\n",
       "      <th>1</th>\n",
       "      <td>Josmo 8190 Plain Infant Walking Shoes, Navy - ...</td>\n",
       "      <td>51.99</td>\n",
       "      <td>51.99</td>\n",
       "      <td>Unbeatablesale</td>\n",
       "      <td>josmo</td>\n",
       "      <td>Men's Shoes</td>\n",
       "    </tr>\n",
       "    <tr>\n",
       "      <th>2</th>\n",
       "      <td>Servus By Honeywell Shoe Studs Zsr101blmlg</td>\n",
       "      <td>40.02</td>\n",
       "      <td>40.02</td>\n",
       "      <td>Sim Supply Inc</td>\n",
       "      <td>servus by honeywell</td>\n",
       "      <td>shoe</td>\n",
       "    </tr>\n",
       "    <tr>\n",
       "      <th>3</th>\n",
       "      <td>Servus By Honeywell Shoe Studs Zsr101blmlg</td>\n",
       "      <td>50.31</td>\n",
       "      <td>50.31</td>\n",
       "      <td>Sim Supply Inc</td>\n",
       "      <td>servus by honeywell</td>\n",
       "      <td>shoe</td>\n",
       "    </tr>\n",
       "    <tr>\n",
       "      <th>4</th>\n",
       "      <td>Servus By Honeywell Shoe Studs Zsr101blmlg</td>\n",
       "      <td>46.26</td>\n",
       "      <td>46.26</td>\n",
       "      <td>Sim Supply Inc</td>\n",
       "      <td>servus by honeywell</td>\n",
       "      <td>shoe</td>\n",
       "    </tr>\n",
       "    <tr>\n",
       "      <th>...</th>\n",
       "      <td>...</td>\n",
       "      <td>...</td>\n",
       "      <td>...</td>\n",
       "      <td>...</td>\n",
       "      <td>...</td>\n",
       "      <td>...</td>\n",
       "    </tr>\n",
       "    <tr>\n",
       "      <th>19374</th>\n",
       "      <td>Easy Usa M8818 Men Slide Sport Sandals - 36 Pairs</td>\n",
       "      <td>168.60</td>\n",
       "      <td>168.60</td>\n",
       "      <td>Unbeatablesale</td>\n",
       "      <td>easy usa</td>\n",
       "      <td>Men's Shoes</td>\n",
       "    </tr>\n",
       "    <tr>\n",
       "      <th>19375</th>\n",
       "      <td>Easy Usa M8818 Men Slide Sport Sandals - 36 Pairs</td>\n",
       "      <td>129.59</td>\n",
       "      <td>129.59</td>\n",
       "      <td>Unbeatablesale</td>\n",
       "      <td>easy usa</td>\n",
       "      <td>Men's Shoes</td>\n",
       "    </tr>\n",
       "    <tr>\n",
       "      <th>19380</th>\n",
       "      <td>Roper Western Shoes Mens Wide Slip On Brown 09...</td>\n",
       "      <td>34.99</td>\n",
       "      <td>34.99</td>\n",
       "      <td>Apparelsave</td>\n",
       "      <td>roper</td>\n",
       "      <td>Men's Shoes</td>\n",
       "    </tr>\n",
       "    <tr>\n",
       "      <th>19381</th>\n",
       "      <td>Roper Western Shoes Mens Wide Slip On Brown 09...</td>\n",
       "      <td>94.00</td>\n",
       "      <td>94.00</td>\n",
       "      <td>Apparelsave</td>\n",
       "      <td>roper</td>\n",
       "      <td>Men's Shoes</td>\n",
       "    </tr>\n",
       "    <tr>\n",
       "      <th>19383</th>\n",
       "      <td>Fila Men's Original Tennis Navy/white/gold Fas...</td>\n",
       "      <td>64.95</td>\n",
       "      <td>64.95</td>\n",
       "      <td>Ultimate Shoe Zone</td>\n",
       "      <td>fila</td>\n",
       "      <td>Men's Shoes</td>\n",
       "    </tr>\n",
       "  </tbody>\n",
       "</table>\n",
       "<p>8630 rows × 6 columns</p>\n",
       "</div>"
      ],
      "text/plain": [
       "                                             description  prices_amountmin  \\\n",
       "0      Josmo 8190 Plain Infant Walking Shoes, Navy - ...             39.89   \n",
       "1      Josmo 8190 Plain Infant Walking Shoes, Navy - ...             51.99   \n",
       "2             Servus By Honeywell Shoe Studs Zsr101blmlg             40.02   \n",
       "3             Servus By Honeywell Shoe Studs Zsr101blmlg             50.31   \n",
       "4             Servus By Honeywell Shoe Studs Zsr101blmlg             46.26   \n",
       "...                                                  ...               ...   \n",
       "19374  Easy Usa M8818 Men Slide Sport Sandals - 36 Pairs            168.60   \n",
       "19375  Easy Usa M8818 Men Slide Sport Sandals - 36 Pairs            129.59   \n",
       "19380  Roper Western Shoes Mens Wide Slip On Brown 09...             34.99   \n",
       "19381  Roper Western Shoes Mens Wide Slip On Brown 09...             94.00   \n",
       "19383  Fila Men's Original Tennis Navy/white/gold Fas...             64.95   \n",
       "\n",
       "       prices_amountmax           merchants               brands   categories  \n",
       "0                 39.89      Unbeatablesale                josmo  Men's Shoes  \n",
       "1                 51.99      Unbeatablesale                josmo  Men's Shoes  \n",
       "2                 40.02      Sim Supply Inc  servus by honeywell         shoe  \n",
       "3                 50.31      Sim Supply Inc  servus by honeywell         shoe  \n",
       "4                 46.26      Sim Supply Inc  servus by honeywell         shoe  \n",
       "...                 ...                 ...                  ...          ...  \n",
       "19374            168.60      Unbeatablesale             easy usa  Men's Shoes  \n",
       "19375            129.59      Unbeatablesale             easy usa  Men's Shoes  \n",
       "19380             34.99         Apparelsave                roper  Men's Shoes  \n",
       "19381             94.00         Apparelsave                roper  Men's Shoes  \n",
       "19383             64.95  Ultimate Shoe Zone                 fila  Men's Shoes  \n",
       "\n",
       "[8630 rows x 6 columns]"
      ]
     },
     "execution_count": 48,
     "metadata": {},
     "output_type": "execute_result"
    }
   ],
   "source": [
    "mapping_keys = mapping.keys()\n",
    "mapping_values = mapping.values()\n",
    "\n",
    "def update_categories(x):\n",
    "    # Here x is a series of column values for a row.\n",
    "    if pd.notna(x.categories):\n",
    "        return x.categories\n",
    "    \n",
    "    for key in mapping_keys:\n",
    "        if key in x.description.lower():\n",
    "            return mapping[key]\n",
    "\n",
    "shoes_required.categories = shoes_required.apply(update_categories, axis=1)\n",
    "shoes_required"
   ]
  },
  {
   "cell_type": "code",
   "execution_count": 49,
   "metadata": {
    "ExecuteTime": {
     "end_time": "2021-01-04T00:13:30.782450Z",
     "start_time": "2021-01-04T00:13:30.779521Z"
    }
   },
   "outputs": [],
   "source": [
    "# Notice that the values of the updated dataframe above shows\n",
    "# 'Servus By Honeywell Shoe Studs Zsr101blmlg' as the description\n",
    "# of the item, but we update the categories column to shoe.\n",
    "# That is because we find 'shoe' in the description of that item.\n",
    "# This cannot be helped - we can do a better job by removing those\n",
    "# values by hand. If we were working on this as real data for\n",
    "# a real company, we would definitely have to do that.\n",
    "# For now, we will ignore it"
   ]
  },
  {
   "cell_type": "code",
   "execution_count": 50,
   "metadata": {
    "ExecuteTime": {
     "end_time": "2021-01-04T00:13:30.793980Z",
     "start_time": "2021-01-04T00:13:30.785480Z"
    }
   },
   "outputs": [
    {
     "data": {
      "text/plain": [
       "8006"
      ]
     },
     "execution_count": 50,
     "metadata": {},
     "output_type": "execute_result"
    }
   ],
   "source": [
    "# The copy() is done to prevent a setting-from-copy warning.\n",
    "# This warning means that a view could have been created on the \n",
    "# dataframe, and updates to it could update the view, and\n",
    "# not the actual dataframe. So if you refer to the dataframe\n",
    "# thinking it has been updated, you will be surprised.\n",
    "# To prevent surprises, the copy() function will create a\n",
    "# separate copy of the shoes_required dataframe.\n",
    "shoes_required = shoes_required[shoes_required.categories.notna()].copy()\n",
    "shoes_required.shape[0]"
   ]
  },
  {
   "cell_type": "code",
   "execution_count": 51,
   "metadata": {
    "ExecuteTime": {
     "end_time": "2021-01-04T00:13:32.392841Z",
     "start_time": "2021-01-04T00:13:30.796237Z"
    }
   },
   "outputs": [
    {
     "data": {
      "text/plain": [
       "array([None, 'shoe', 'casual', 'sneaker', 'skate', 'running', 'boot',\n",
       "       'oxford', 'slipper', 'work boot', 'trainer', 'boat',\n",
       "       'waterproof boot', 'athletic', 'dress', 'hiking', 'basketball',\n",
       "       'sandal', 'step', 'leather boot', 'cleated'], dtype=object)"
      ]
     },
     "execution_count": 51,
     "metadata": {},
     "output_type": "execute_result"
    }
   ],
   "source": [
    "def update_values(x):\n",
    "    for search_value in mapping_values:\n",
    "        if search_value in x.categories:\n",
    "            return search_value\n",
    "    \n",
    "shoes_required.categories = shoes_required.apply(update_values, axis=1)    \n",
    "shoes_required.categories.unique()"
   ]
  },
  {
   "cell_type": "code",
   "execution_count": 52,
   "metadata": {
    "ExecuteTime": {
     "end_time": "2021-01-04T00:13:32.560670Z",
     "start_time": "2021-01-04T00:13:32.395599Z"
    }
   },
   "outputs": [
    {
     "data": {
      "text/html": [
       "<div>\n",
       "<style scoped>\n",
       "    .dataframe tbody tr th:only-of-type {\n",
       "        vertical-align: middle;\n",
       "    }\n",
       "\n",
       "    .dataframe tbody tr th {\n",
       "        vertical-align: top;\n",
       "    }\n",
       "\n",
       "    .dataframe thead tr th {\n",
       "        text-align: left;\n",
       "    }\n",
       "\n",
       "    .dataframe thead tr:last-of-type th {\n",
       "        text-align: right;\n",
       "    }\n",
       "</style>\n",
       "<table border=\"1\" class=\"dataframe\">\n",
       "  <thead>\n",
       "    <tr>\n",
       "      <th></th>\n",
       "      <th colspan=\"8\" halign=\"left\">prices_amountmin</th>\n",
       "      <th colspan=\"8\" halign=\"left\">prices_amountmax</th>\n",
       "    </tr>\n",
       "    <tr>\n",
       "      <th></th>\n",
       "      <th>count</th>\n",
       "      <th>mean</th>\n",
       "      <th>std</th>\n",
       "      <th>min</th>\n",
       "      <th>25%</th>\n",
       "      <th>50%</th>\n",
       "      <th>75%</th>\n",
       "      <th>max</th>\n",
       "      <th>count</th>\n",
       "      <th>mean</th>\n",
       "      <th>std</th>\n",
       "      <th>min</th>\n",
       "      <th>25%</th>\n",
       "      <th>50%</th>\n",
       "      <th>75%</th>\n",
       "      <th>max</th>\n",
       "    </tr>\n",
       "    <tr>\n",
       "      <th>categories</th>\n",
       "      <th></th>\n",
       "      <th></th>\n",
       "      <th></th>\n",
       "      <th></th>\n",
       "      <th></th>\n",
       "      <th></th>\n",
       "      <th></th>\n",
       "      <th></th>\n",
       "      <th></th>\n",
       "      <th></th>\n",
       "      <th></th>\n",
       "      <th></th>\n",
       "      <th></th>\n",
       "      <th></th>\n",
       "      <th></th>\n",
       "      <th></th>\n",
       "    </tr>\n",
       "  </thead>\n",
       "  <tbody>\n",
       "    <tr>\n",
       "      <th>athletic</th>\n",
       "      <td>62.0</td>\n",
       "      <td>79.169516</td>\n",
       "      <td>32.701870</td>\n",
       "      <td>21.99</td>\n",
       "      <td>65.1850</td>\n",
       "      <td>68.580</td>\n",
       "      <td>85.9675</td>\n",
       "      <td>165.00</td>\n",
       "      <td>62.0</td>\n",
       "      <td>79.169516</td>\n",
       "      <td>32.701870</td>\n",
       "      <td>21.99</td>\n",
       "      <td>65.1850</td>\n",
       "      <td>68.580</td>\n",
       "      <td>85.9675</td>\n",
       "      <td>165.00</td>\n",
       "    </tr>\n",
       "    <tr>\n",
       "      <th>basketball</th>\n",
       "      <td>70.0</td>\n",
       "      <td>95.550857</td>\n",
       "      <td>55.853476</td>\n",
       "      <td>33.99</td>\n",
       "      <td>59.2400</td>\n",
       "      <td>80.000</td>\n",
       "      <td>113.7425</td>\n",
       "      <td>340.00</td>\n",
       "      <td>70.0</td>\n",
       "      <td>95.550857</td>\n",
       "      <td>55.853476</td>\n",
       "      <td>33.99</td>\n",
       "      <td>59.2400</td>\n",
       "      <td>80.000</td>\n",
       "      <td>113.7425</td>\n",
       "      <td>340.00</td>\n",
       "    </tr>\n",
       "    <tr>\n",
       "      <th>boat</th>\n",
       "      <td>151.0</td>\n",
       "      <td>66.310861</td>\n",
       "      <td>50.011138</td>\n",
       "      <td>12.99</td>\n",
       "      <td>31.9900</td>\n",
       "      <td>45.000</td>\n",
       "      <td>94.1800</td>\n",
       "      <td>350.00</td>\n",
       "      <td>151.0</td>\n",
       "      <td>66.310861</td>\n",
       "      <td>50.011138</td>\n",
       "      <td>12.99</td>\n",
       "      <td>31.9900</td>\n",
       "      <td>45.000</td>\n",
       "      <td>94.1800</td>\n",
       "      <td>350.00</td>\n",
       "    </tr>\n",
       "    <tr>\n",
       "      <th>boot</th>\n",
       "      <td>700.0</td>\n",
       "      <td>116.836186</td>\n",
       "      <td>116.930870</td>\n",
       "      <td>0.00</td>\n",
       "      <td>49.9650</td>\n",
       "      <td>91.350</td>\n",
       "      <td>150.0000</td>\n",
       "      <td>1275.00</td>\n",
       "      <td>700.0</td>\n",
       "      <td>116.836186</td>\n",
       "      <td>116.930870</td>\n",
       "      <td>0.00</td>\n",
       "      <td>49.9650</td>\n",
       "      <td>91.350</td>\n",
       "      <td>150.0000</td>\n",
       "      <td>1275.00</td>\n",
       "    </tr>\n",
       "    <tr>\n",
       "      <th>casual</th>\n",
       "      <td>319.0</td>\n",
       "      <td>100.435862</td>\n",
       "      <td>110.002959</td>\n",
       "      <td>6.99</td>\n",
       "      <td>41.4900</td>\n",
       "      <td>67.980</td>\n",
       "      <td>110.0000</td>\n",
       "      <td>695.00</td>\n",
       "      <td>319.0</td>\n",
       "      <td>100.435862</td>\n",
       "      <td>110.002959</td>\n",
       "      <td>6.99</td>\n",
       "      <td>41.4900</td>\n",
       "      <td>67.980</td>\n",
       "      <td>110.0000</td>\n",
       "      <td>695.00</td>\n",
       "    </tr>\n",
       "    <tr>\n",
       "      <th>cleated</th>\n",
       "      <td>3.0</td>\n",
       "      <td>126.910000</td>\n",
       "      <td>95.153924</td>\n",
       "      <td>17.29</td>\n",
       "      <td>96.2700</td>\n",
       "      <td>175.250</td>\n",
       "      <td>181.7200</td>\n",
       "      <td>188.19</td>\n",
       "      <td>3.0</td>\n",
       "      <td>126.910000</td>\n",
       "      <td>95.153924</td>\n",
       "      <td>17.29</td>\n",
       "      <td>96.2700</td>\n",
       "      <td>175.250</td>\n",
       "      <td>181.7200</td>\n",
       "      <td>188.19</td>\n",
       "    </tr>\n",
       "    <tr>\n",
       "      <th>dress</th>\n",
       "      <td>90.0</td>\n",
       "      <td>60.885333</td>\n",
       "      <td>30.473840</td>\n",
       "      <td>15.99</td>\n",
       "      <td>37.2475</td>\n",
       "      <td>60.000</td>\n",
       "      <td>77.2500</td>\n",
       "      <td>180.00</td>\n",
       "      <td>90.0</td>\n",
       "      <td>60.885333</td>\n",
       "      <td>30.473840</td>\n",
       "      <td>15.99</td>\n",
       "      <td>37.2475</td>\n",
       "      <td>60.000</td>\n",
       "      <td>77.2500</td>\n",
       "      <td>180.00</td>\n",
       "    </tr>\n",
       "    <tr>\n",
       "      <th>hiking</th>\n",
       "      <td>23.0</td>\n",
       "      <td>72.280435</td>\n",
       "      <td>33.885940</td>\n",
       "      <td>18.99</td>\n",
       "      <td>53.4900</td>\n",
       "      <td>65.000</td>\n",
       "      <td>89.4950</td>\n",
       "      <td>150.00</td>\n",
       "      <td>23.0</td>\n",
       "      <td>72.280435</td>\n",
       "      <td>33.885940</td>\n",
       "      <td>18.99</td>\n",
       "      <td>53.4900</td>\n",
       "      <td>65.000</td>\n",
       "      <td>89.4950</td>\n",
       "      <td>150.00</td>\n",
       "    </tr>\n",
       "    <tr>\n",
       "      <th>leather boot</th>\n",
       "      <td>7.0</td>\n",
       "      <td>120.330000</td>\n",
       "      <td>19.131012</td>\n",
       "      <td>97.99</td>\n",
       "      <td>108.2950</td>\n",
       "      <td>117.840</td>\n",
       "      <td>129.9700</td>\n",
       "      <td>149.95</td>\n",
       "      <td>7.0</td>\n",
       "      <td>120.330000</td>\n",
       "      <td>19.131012</td>\n",
       "      <td>97.99</td>\n",
       "      <td>108.2950</td>\n",
       "      <td>117.840</td>\n",
       "      <td>129.9700</td>\n",
       "      <td>149.95</td>\n",
       "    </tr>\n",
       "    <tr>\n",
       "      <th>oxford</th>\n",
       "      <td>248.0</td>\n",
       "      <td>110.967177</td>\n",
       "      <td>131.423630</td>\n",
       "      <td>3.99</td>\n",
       "      <td>56.7325</td>\n",
       "      <td>85.000</td>\n",
       "      <td>120.9975</td>\n",
       "      <td>1149.00</td>\n",
       "      <td>248.0</td>\n",
       "      <td>110.967177</td>\n",
       "      <td>131.423630</td>\n",
       "      <td>3.99</td>\n",
       "      <td>56.7325</td>\n",
       "      <td>85.000</td>\n",
       "      <td>120.9975</td>\n",
       "      <td>1149.00</td>\n",
       "    </tr>\n",
       "    <tr>\n",
       "      <th>running</th>\n",
       "      <td>233.0</td>\n",
       "      <td>79.676009</td>\n",
       "      <td>35.317635</td>\n",
       "      <td>9.98</td>\n",
       "      <td>54.9900</td>\n",
       "      <td>71.990</td>\n",
       "      <td>101.9900</td>\n",
       "      <td>215.00</td>\n",
       "      <td>233.0</td>\n",
       "      <td>80.663133</td>\n",
       "      <td>38.146677</td>\n",
       "      <td>9.98</td>\n",
       "      <td>54.9900</td>\n",
       "      <td>72.990</td>\n",
       "      <td>103.9900</td>\n",
       "      <td>299.99</td>\n",
       "    </tr>\n",
       "    <tr>\n",
       "      <th>sandal</th>\n",
       "      <td>147.0</td>\n",
       "      <td>72.791156</td>\n",
       "      <td>77.348728</td>\n",
       "      <td>6.99</td>\n",
       "      <td>31.4700</td>\n",
       "      <td>47.980</td>\n",
       "      <td>86.4850</td>\n",
       "      <td>450.00</td>\n",
       "      <td>147.0</td>\n",
       "      <td>72.791156</td>\n",
       "      <td>77.348728</td>\n",
       "      <td>6.99</td>\n",
       "      <td>31.4700</td>\n",
       "      <td>47.980</td>\n",
       "      <td>86.4850</td>\n",
       "      <td>450.00</td>\n",
       "    </tr>\n",
       "    <tr>\n",
       "      <th>shoe</th>\n",
       "      <td>297.0</td>\n",
       "      <td>71.286936</td>\n",
       "      <td>64.557330</td>\n",
       "      <td>7.99</td>\n",
       "      <td>45.9500</td>\n",
       "      <td>54.990</td>\n",
       "      <td>83.3200</td>\n",
       "      <td>554.88</td>\n",
       "      <td>297.0</td>\n",
       "      <td>71.286936</td>\n",
       "      <td>64.557330</td>\n",
       "      <td>7.99</td>\n",
       "      <td>45.9500</td>\n",
       "      <td>54.990</td>\n",
       "      <td>83.3200</td>\n",
       "      <td>554.88</td>\n",
       "    </tr>\n",
       "    <tr>\n",
       "      <th>skate</th>\n",
       "      <td>107.0</td>\n",
       "      <td>45.954579</td>\n",
       "      <td>18.899842</td>\n",
       "      <td>11.99</td>\n",
       "      <td>30.9900</td>\n",
       "      <td>45.000</td>\n",
       "      <td>59.9850</td>\n",
       "      <td>115.00</td>\n",
       "      <td>107.0</td>\n",
       "      <td>45.954579</td>\n",
       "      <td>18.899842</td>\n",
       "      <td>11.99</td>\n",
       "      <td>30.9900</td>\n",
       "      <td>45.000</td>\n",
       "      <td>59.9850</td>\n",
       "      <td>115.00</td>\n",
       "    </tr>\n",
       "    <tr>\n",
       "      <th>slipper</th>\n",
       "      <td>386.0</td>\n",
       "      <td>43.295130</td>\n",
       "      <td>75.599814</td>\n",
       "      <td>2.86</td>\n",
       "      <td>18.9900</td>\n",
       "      <td>23.995</td>\n",
       "      <td>40.0000</td>\n",
       "      <td>1165.00</td>\n",
       "      <td>386.0</td>\n",
       "      <td>43.295130</td>\n",
       "      <td>75.599814</td>\n",
       "      <td>2.86</td>\n",
       "      <td>18.9900</td>\n",
       "      <td>23.995</td>\n",
       "      <td>40.0000</td>\n",
       "      <td>1165.00</td>\n",
       "    </tr>\n",
       "    <tr>\n",
       "      <th>sneaker</th>\n",
       "      <td>673.0</td>\n",
       "      <td>69.963938</td>\n",
       "      <td>53.518397</td>\n",
       "      <td>7.99</td>\n",
       "      <td>38.9900</td>\n",
       "      <td>60.000</td>\n",
       "      <td>80.0000</td>\n",
       "      <td>595.00</td>\n",
       "      <td>673.0</td>\n",
       "      <td>70.030862</td>\n",
       "      <td>53.634080</td>\n",
       "      <td>7.99</td>\n",
       "      <td>38.9900</td>\n",
       "      <td>60.000</td>\n",
       "      <td>80.0000</td>\n",
       "      <td>595.00</td>\n",
       "    </tr>\n",
       "    <tr>\n",
       "      <th>step</th>\n",
       "      <td>18.0</td>\n",
       "      <td>87.456667</td>\n",
       "      <td>82.565412</td>\n",
       "      <td>29.94</td>\n",
       "      <td>43.2400</td>\n",
       "      <td>66.190</td>\n",
       "      <td>96.7425</td>\n",
       "      <td>395.00</td>\n",
       "      <td>18.0</td>\n",
       "      <td>87.456667</td>\n",
       "      <td>82.565412</td>\n",
       "      <td>29.94</td>\n",
       "      <td>43.2400</td>\n",
       "      <td>66.190</td>\n",
       "      <td>96.7425</td>\n",
       "      <td>395.00</td>\n",
       "    </tr>\n",
       "    <tr>\n",
       "      <th>trainer</th>\n",
       "      <td>62.0</td>\n",
       "      <td>70.096774</td>\n",
       "      <td>25.323706</td>\n",
       "      <td>23.99</td>\n",
       "      <td>52.4675</td>\n",
       "      <td>66.985</td>\n",
       "      <td>79.7525</td>\n",
       "      <td>160.00</td>\n",
       "      <td>62.0</td>\n",
       "      <td>70.096774</td>\n",
       "      <td>25.323706</td>\n",
       "      <td>23.99</td>\n",
       "      <td>52.4675</td>\n",
       "      <td>66.985</td>\n",
       "      <td>79.7525</td>\n",
       "      <td>160.00</td>\n",
       "    </tr>\n",
       "    <tr>\n",
       "      <th>waterproof boot</th>\n",
       "      <td>28.0</td>\n",
       "      <td>127.731786</td>\n",
       "      <td>57.256868</td>\n",
       "      <td>32.98</td>\n",
       "      <td>105.8100</td>\n",
       "      <td>117.905</td>\n",
       "      <td>128.4475</td>\n",
       "      <td>275.95</td>\n",
       "      <td>28.0</td>\n",
       "      <td>127.731786</td>\n",
       "      <td>57.256868</td>\n",
       "      <td>32.98</td>\n",
       "      <td>105.8100</td>\n",
       "      <td>117.905</td>\n",
       "      <td>128.4475</td>\n",
       "      <td>275.95</td>\n",
       "    </tr>\n",
       "    <tr>\n",
       "      <th>work boot</th>\n",
       "      <td>273.0</td>\n",
       "      <td>131.623956</td>\n",
       "      <td>54.287921</td>\n",
       "      <td>19.99</td>\n",
       "      <td>89.2700</td>\n",
       "      <td>139.950</td>\n",
       "      <td>167.4700</td>\n",
       "      <td>283.24</td>\n",
       "      <td>273.0</td>\n",
       "      <td>131.623956</td>\n",
       "      <td>54.287921</td>\n",
       "      <td>19.99</td>\n",
       "      <td>89.2700</td>\n",
       "      <td>139.950</td>\n",
       "      <td>167.4700</td>\n",
       "      <td>283.24</td>\n",
       "    </tr>\n",
       "  </tbody>\n",
       "</table>\n",
       "</div>"
      ],
      "text/plain": [
       "                prices_amountmin                                           \\\n",
       "                           count        mean         std    min       25%   \n",
       "categories                                                                  \n",
       "athletic                    62.0   79.169516   32.701870  21.99   65.1850   \n",
       "basketball                  70.0   95.550857   55.853476  33.99   59.2400   \n",
       "boat                       151.0   66.310861   50.011138  12.99   31.9900   \n",
       "boot                       700.0  116.836186  116.930870   0.00   49.9650   \n",
       "casual                     319.0  100.435862  110.002959   6.99   41.4900   \n",
       "cleated                      3.0  126.910000   95.153924  17.29   96.2700   \n",
       "dress                       90.0   60.885333   30.473840  15.99   37.2475   \n",
       "hiking                      23.0   72.280435   33.885940  18.99   53.4900   \n",
       "leather boot                 7.0  120.330000   19.131012  97.99  108.2950   \n",
       "oxford                     248.0  110.967177  131.423630   3.99   56.7325   \n",
       "running                    233.0   79.676009   35.317635   9.98   54.9900   \n",
       "sandal                     147.0   72.791156   77.348728   6.99   31.4700   \n",
       "shoe                       297.0   71.286936   64.557330   7.99   45.9500   \n",
       "skate                      107.0   45.954579   18.899842  11.99   30.9900   \n",
       "slipper                    386.0   43.295130   75.599814   2.86   18.9900   \n",
       "sneaker                    673.0   69.963938   53.518397   7.99   38.9900   \n",
       "step                        18.0   87.456667   82.565412  29.94   43.2400   \n",
       "trainer                     62.0   70.096774   25.323706  23.99   52.4675   \n",
       "waterproof boot             28.0  127.731786   57.256868  32.98  105.8100   \n",
       "work boot                  273.0  131.623956   54.287921  19.99   89.2700   \n",
       "\n",
       "                                            prices_amountmax              \\\n",
       "                     50%       75%      max            count        mean   \n",
       "categories                                                                 \n",
       "athletic          68.580   85.9675   165.00             62.0   79.169516   \n",
       "basketball        80.000  113.7425   340.00             70.0   95.550857   \n",
       "boat              45.000   94.1800   350.00            151.0   66.310861   \n",
       "boot              91.350  150.0000  1275.00            700.0  116.836186   \n",
       "casual            67.980  110.0000   695.00            319.0  100.435862   \n",
       "cleated          175.250  181.7200   188.19              3.0  126.910000   \n",
       "dress             60.000   77.2500   180.00             90.0   60.885333   \n",
       "hiking            65.000   89.4950   150.00             23.0   72.280435   \n",
       "leather boot     117.840  129.9700   149.95              7.0  120.330000   \n",
       "oxford            85.000  120.9975  1149.00            248.0  110.967177   \n",
       "running           71.990  101.9900   215.00            233.0   80.663133   \n",
       "sandal            47.980   86.4850   450.00            147.0   72.791156   \n",
       "shoe              54.990   83.3200   554.88            297.0   71.286936   \n",
       "skate             45.000   59.9850   115.00            107.0   45.954579   \n",
       "slipper           23.995   40.0000  1165.00            386.0   43.295130   \n",
       "sneaker           60.000   80.0000   595.00            673.0   70.030862   \n",
       "step              66.190   96.7425   395.00             18.0   87.456667   \n",
       "trainer           66.985   79.7525   160.00             62.0   70.096774   \n",
       "waterproof boot  117.905  128.4475   275.95             28.0  127.731786   \n",
       "work boot        139.950  167.4700   283.24            273.0  131.623956   \n",
       "\n",
       "                                                                          \n",
       "                        std    min       25%      50%       75%      max  \n",
       "categories                                                                \n",
       "athletic          32.701870  21.99   65.1850   68.580   85.9675   165.00  \n",
       "basketball        55.853476  33.99   59.2400   80.000  113.7425   340.00  \n",
       "boat              50.011138  12.99   31.9900   45.000   94.1800   350.00  \n",
       "boot             116.930870   0.00   49.9650   91.350  150.0000  1275.00  \n",
       "casual           110.002959   6.99   41.4900   67.980  110.0000   695.00  \n",
       "cleated           95.153924  17.29   96.2700  175.250  181.7200   188.19  \n",
       "dress             30.473840  15.99   37.2475   60.000   77.2500   180.00  \n",
       "hiking            33.885940  18.99   53.4900   65.000   89.4950   150.00  \n",
       "leather boot      19.131012  97.99  108.2950  117.840  129.9700   149.95  \n",
       "oxford           131.423630   3.99   56.7325   85.000  120.9975  1149.00  \n",
       "running           38.146677   9.98   54.9900   72.990  103.9900   299.99  \n",
       "sandal            77.348728   6.99   31.4700   47.980   86.4850   450.00  \n",
       "shoe              64.557330   7.99   45.9500   54.990   83.3200   554.88  \n",
       "skate             18.899842  11.99   30.9900   45.000   59.9850   115.00  \n",
       "slipper           75.599814   2.86   18.9900   23.995   40.0000  1165.00  \n",
       "sneaker           53.634080   7.99   38.9900   60.000   80.0000   595.00  \n",
       "step              82.565412  29.94   43.2400   66.190   96.7425   395.00  \n",
       "trainer           25.323706  23.99   52.4675   66.985   79.7525   160.00  \n",
       "waterproof boot   57.256868  32.98  105.8100  117.905  128.4475   275.95  \n",
       "work boot         54.287921  19.99   89.2700  139.950  167.4700   283.24  "
      ]
     },
     "execution_count": 52,
     "metadata": {},
     "output_type": "execute_result"
    }
   ],
   "source": [
    "shoes_required.groupby('categories').describe()"
   ]
  },
  {
   "cell_type": "code",
   "execution_count": 53,
   "metadata": {
    "ExecuteTime": {
     "end_time": "2021-01-04T00:13:34.065751Z",
     "start_time": "2021-01-04T00:13:32.563445Z"
    }
   },
   "outputs": [
    {
     "data": {
      "image/png": "[encoded data removed]",
      "text/plain": [
       "<Figure size 1080x648 with 1 Axes>"
      ]
     },
     "metadata": {
      "needs_background": "light"
     },
     "output_type": "display_data"
    }
   ],
   "source": [
    "# There is a large difference between the min and max values for each category.\n",
    "# Also, some max values are very high (2900 for boots, 2800 for oxfords),\n",
    "# while some max values are low (124 for skating) shoes.\n",
    "# We should use a log-log scatter plot colored by categories\n",
    "# to allow us to see all data on one chart.\n",
    "import seaborn as sns\n",
    "fig = plt.figure(figsize=(15, 9))\n",
    "sns.scatterplot(x='prices_amountmin', y='prices_amountmax',\n",
    "                data=shoes_required, \n",
    "                hue='categories');"
   ]
  },
  {
   "cell_type": "code",
   "execution_count": 54,
   "metadata": {
    "ExecuteTime": {
     "end_time": "2021-01-04T00:13:34.853175Z",
     "start_time": "2021-01-04T00:13:34.068555Z"
    }
   },
   "outputs": [
    {
     "data": {
      "image/png": "[encoded data removed]",
      "text/plain": [
       "<Figure size 1080x792 with 2 Axes>"
      ]
     },
     "metadata": {
      "needs_background": "light"
     },
     "output_type": "display_data"
    }
   ],
   "source": [
    "# The single diagonal line in the plot above is due to\n",
    "# the prices_amountmin and prices_amountmax being the same.\n",
    "\n",
    "# It's still very difficult to see the relationships between prices\n",
    "# for each type of shoe. Let's try a stripplot.\n",
    "fig, axes = plt.subplots(1, 2, figsize=(15, 11))\n",
    "# fig.suptitle('Prices per shoe category')\n",
    "axes[0].set_title('Minimum amount ranges per shoe category')\n",
    "axes[1].set_title('Maximum amount ranges per shoe category')\n",
    "sns.stripplot(ax=axes[0], x='prices_amountmin', y='categories', data=shoes_required);\n",
    "sns.stripplot(ax=axes[1], x='prices_amountmax', y='categories', data=shoes_required);\n",
    "# It's better, but we cannot compare the min/max prices."
   ]
  },
  {
   "cell_type": "code",
   "execution_count": 55,
   "metadata": {
    "ExecuteTime": {
     "end_time": "2021-01-04T00:13:34.877430Z",
     "start_time": "2021-01-04T00:13:34.856014Z"
    }
   },
   "outputs": [
    {
     "data": {
      "text/html": [
       "<div>\n",
       "<style scoped>\n",
       "    .dataframe tbody tr th:only-of-type {\n",
       "        vertical-align: middle;\n",
       "    }\n",
       "\n",
       "    .dataframe tbody tr th {\n",
       "        vertical-align: top;\n",
       "    }\n",
       "\n",
       "    .dataframe thead th {\n",
       "        text-align: right;\n",
       "    }\n",
       "</style>\n",
       "<table border=\"1\" class=\"dataframe\">\n",
       "  <thead>\n",
       "    <tr style=\"text-align: right;\">\n",
       "      <th></th>\n",
       "      <th>description</th>\n",
       "      <th>prices</th>\n",
       "      <th>categories</th>\n",
       "      <th>brands</th>\n",
       "      <th>price_type</th>\n",
       "    </tr>\n",
       "  </thead>\n",
       "  <tbody>\n",
       "    <tr>\n",
       "      <th>16007</th>\n",
       "      <td>Easy Usa M8818 Men Slide Sport Sandals - 36 Pairs</td>\n",
       "      <td>168.60</td>\n",
       "      <td>None</td>\n",
       "      <td>easy usa</td>\n",
       "      <td>max</td>\n",
       "    </tr>\n",
       "    <tr>\n",
       "      <th>16008</th>\n",
       "      <td>Easy Usa M8818 Men Slide Sport Sandals - 36 Pairs</td>\n",
       "      <td>129.59</td>\n",
       "      <td>None</td>\n",
       "      <td>easy usa</td>\n",
       "      <td>max</td>\n",
       "    </tr>\n",
       "    <tr>\n",
       "      <th>16009</th>\n",
       "      <td>Roper Western Shoes Mens Wide Slip On Brown 09...</td>\n",
       "      <td>34.99</td>\n",
       "      <td>None</td>\n",
       "      <td>roper</td>\n",
       "      <td>max</td>\n",
       "    </tr>\n",
       "    <tr>\n",
       "      <th>16010</th>\n",
       "      <td>Roper Western Shoes Mens Wide Slip On Brown 09...</td>\n",
       "      <td>94.00</td>\n",
       "      <td>None</td>\n",
       "      <td>roper</td>\n",
       "      <td>max</td>\n",
       "    </tr>\n",
       "    <tr>\n",
       "      <th>16011</th>\n",
       "      <td>Fila Men's Original Tennis Navy/white/gold Fas...</td>\n",
       "      <td>64.95</td>\n",
       "      <td>None</td>\n",
       "      <td>fila</td>\n",
       "      <td>max</td>\n",
       "    </tr>\n",
       "  </tbody>\n",
       "</table>\n",
       "</div>"
      ],
      "text/plain": [
       "                                             description  prices categories  \\\n",
       "16007  Easy Usa M8818 Men Slide Sport Sandals - 36 Pairs  168.60       None   \n",
       "16008  Easy Usa M8818 Men Slide Sport Sandals - 36 Pairs  129.59       None   \n",
       "16009  Roper Western Shoes Mens Wide Slip On Brown 09...   34.99       None   \n",
       "16010  Roper Western Shoes Mens Wide Slip On Brown 09...   94.00       None   \n",
       "16011  Fila Men's Original Tennis Navy/white/gold Fas...   64.95       None   \n",
       "\n",
       "         brands price_type  \n",
       "16007  easy usa        max  \n",
       "16008  easy usa        max  \n",
       "16009     roper        max  \n",
       "16010     roper        max  \n",
       "16011      fila        max  "
      ]
     },
     "execution_count": 55,
     "metadata": {},
     "output_type": "execute_result"
    }
   ],
   "source": [
    "# This is a little better, but we cannot compare the min/max\n",
    "# prices for a category.\n",
    "# Let's create a different dataframe where there is only one price column.\n",
    "# An additional column (price_type) will tell us if this is a min/max price.\n",
    "# This will allow us to show both min/max prices per category\n",
    "# next to each other.\n",
    "df2 = pd.DataFrame(data={'description': shoes_required.description,\n",
    "                         'prices': shoes_required.prices_amountmin,\n",
    "                         'categories': shoes_required.categories,\n",
    "                         'brands': shoes_required.brands,\n",
    "                         'price_type': ['min']*len(shoes_required)})\n",
    "df3 = pd.DataFrame(data={'description': shoes_required.description,\n",
    "                         'prices': shoes_required.prices_amountmax,\n",
    "                         'categories': shoes_required.categories,\n",
    "                         'brands': shoes_required.brands,\n",
    "                         'price_type': ['max']*len(shoes_required)})\n",
    "shoes_alt = pd.concat([df2, df3], axis=0, join='outer', ignore_index=True)\n",
    "shoes_alt.tail()"
   ]
  },
  {
   "cell_type": "code",
   "execution_count": 95,
   "metadata": {
    "ExecuteTime": {
     "end_time": "2021-01-04T02:37:38.199124Z",
     "start_time": "2021-01-04T02:37:35.309992Z"
    }
   },
   "outputs": [
    {
     "data": {
      "image/png": "[encoded data removed]",
      "text/plain": [
       "<Figure size 1008x576 with 1 Axes>"
      ]
     },
     "metadata": {
      "needs_background": "light"
     },
     "output_type": "display_data"
    }
   ],
   "source": [
    "fig = plt.figure(figsize=(14, 8))\n",
    "fig.suptitle('Min/Max prices per category', \n",
    "             y=0.93,\n",
    "             fontsize='xx-large')\n",
    "sns.stripplot(data=shoes_alt, x='prices', y='categories', \n",
    "              jitter=True,\n",
    "              hue='price_type', dodge=True, # dodge = True separates points for each hue type.\n",
    "                                            # This is how we get two rows per price type.\n",
    "              alpha=0.25);"
   ]
  },
  {
   "cell_type": "code",
   "execution_count": 57,
   "metadata": {
    "ExecuteTime": {
     "end_time": "2021-01-04T00:13:37.608908Z",
     "start_time": "2021-01-04T00:13:37.606018Z"
    }
   },
   "outputs": [],
   "source": [
    "# Looks like the min/max prices are close together for almost all of the items.\n",
    "# There are some large prices in the boot and oxford categories.\n",
    "# Also, leather boots and skates have short price ranges.\n",
    "# Casual and boots have longer price ranges."
   ]
  },
  {
   "cell_type": "code",
   "execution_count": 58,
   "metadata": {
    "ExecuteTime": {
     "end_time": "2021-01-04T00:13:37.625813Z",
     "start_time": "2021-01-04T00:13:37.611698Z"
    }
   },
   "outputs": [
    {
     "data": {
      "text/html": [
       "<div>\n",
       "<style scoped>\n",
       "    .dataframe tbody tr th:only-of-type {\n",
       "        vertical-align: middle;\n",
       "    }\n",
       "\n",
       "    .dataframe tbody tr th {\n",
       "        vertical-align: top;\n",
       "    }\n",
       "\n",
       "    .dataframe thead th {\n",
       "        text-align: right;\n",
       "    }\n",
       "</style>\n",
       "<table border=\"1\" class=\"dataframe\">\n",
       "  <thead>\n",
       "    <tr style=\"text-align: right;\">\n",
       "      <th></th>\n",
       "      <th>description</th>\n",
       "      <th>prices_amountmin</th>\n",
       "      <th>prices_amountmax</th>\n",
       "      <th>features</th>\n",
       "      <th>merchants</th>\n",
       "      <th>brands</th>\n",
       "      <th>categories</th>\n",
       "    </tr>\n",
       "  </thead>\n",
       "  <tbody>\n",
       "    <tr>\n",
       "      <th>0</th>\n",
       "      <td>Josmo 8190 Plain Infant Walking Shoes, Navy - ...</td>\n",
       "      <td>39.89</td>\n",
       "      <td>39.89</td>\n",
       "      <td>[{\"key\":\"Gender\",\"value\":[\"Men\"]},{\"key\":\"Shoe...</td>\n",
       "      <td>Unbeatablesale</td>\n",
       "      <td>josmo</td>\n",
       "      <td>Men's Shoes</td>\n",
       "    </tr>\n",
       "    <tr>\n",
       "      <th>1</th>\n",
       "      <td>Josmo 8190 Plain Infant Walking Shoes, Navy - ...</td>\n",
       "      <td>51.99</td>\n",
       "      <td>51.99</td>\n",
       "      <td>[{\"key\":\"Gender\",\"value\":[\"Men\"]},{\"key\":\"Shoe...</td>\n",
       "      <td>Unbeatablesale</td>\n",
       "      <td>josmo</td>\n",
       "      <td>Men's Shoes</td>\n",
       "    </tr>\n",
       "    <tr>\n",
       "      <th>2</th>\n",
       "      <td>Servus By Honeywell Shoe Studs Zsr101blmlg</td>\n",
       "      <td>40.02</td>\n",
       "      <td>40.02</td>\n",
       "      <td>[{\"key\":\"Gender\",\"value\":[\"Men\"]},{\"key\":\"Colo...</td>\n",
       "      <td>Sim Supply Inc</td>\n",
       "      <td>servus by honeywell</td>\n",
       "      <td>NaN</td>\n",
       "    </tr>\n",
       "    <tr>\n",
       "      <th>3</th>\n",
       "      <td>Servus By Honeywell Shoe Studs Zsr101blmlg</td>\n",
       "      <td>50.31</td>\n",
       "      <td>50.31</td>\n",
       "      <td>[{\"key\":\"Gender\",\"value\":[\"Men\"]},{\"key\":\"Colo...</td>\n",
       "      <td>Sim Supply Inc</td>\n",
       "      <td>servus by honeywell</td>\n",
       "      <td>NaN</td>\n",
       "    </tr>\n",
       "    <tr>\n",
       "      <th>4</th>\n",
       "      <td>Servus By Honeywell Shoe Studs Zsr101blmlg</td>\n",
       "      <td>46.26</td>\n",
       "      <td>46.26</td>\n",
       "      <td>[{\"key\":\"Gender\",\"value\":[\"Men\"]},{\"key\":\"Colo...</td>\n",
       "      <td>Sim Supply Inc</td>\n",
       "      <td>servus by honeywell</td>\n",
       "      <td>NaN</td>\n",
       "    </tr>\n",
       "  </tbody>\n",
       "</table>\n",
       "</div>"
      ],
      "text/plain": [
       "                                         description  prices_amountmin  \\\n",
       "0  Josmo 8190 Plain Infant Walking Shoes, Navy - ...             39.89   \n",
       "1  Josmo 8190 Plain Infant Walking Shoes, Navy - ...             51.99   \n",
       "2         Servus By Honeywell Shoe Studs Zsr101blmlg             40.02   \n",
       "3         Servus By Honeywell Shoe Studs Zsr101blmlg             50.31   \n",
       "4         Servus By Honeywell Shoe Studs Zsr101blmlg             46.26   \n",
       "\n",
       "   prices_amountmax                                           features  \\\n",
       "0             39.89  [{\"key\":\"Gender\",\"value\":[\"Men\"]},{\"key\":\"Shoe...   \n",
       "1             51.99  [{\"key\":\"Gender\",\"value\":[\"Men\"]},{\"key\":\"Shoe...   \n",
       "2             40.02  [{\"key\":\"Gender\",\"value\":[\"Men\"]},{\"key\":\"Colo...   \n",
       "3             50.31  [{\"key\":\"Gender\",\"value\":[\"Men\"]},{\"key\":\"Colo...   \n",
       "4             46.26  [{\"key\":\"Gender\",\"value\":[\"Men\"]},{\"key\":\"Colo...   \n",
       "\n",
       "        merchants               brands   categories  \n",
       "0  Unbeatablesale                josmo  Men's Shoes  \n",
       "1  Unbeatablesale                josmo  Men's Shoes  \n",
       "2  Sim Supply Inc  servus by honeywell          NaN  \n",
       "3  Sim Supply Inc  servus by honeywell          NaN  \n",
       "4  Sim Supply Inc  servus by honeywell          NaN  "
      ]
     },
     "execution_count": 58,
     "metadata": {},
     "output_type": "execute_result"
    }
   ],
   "source": [
    "shoes.head()"
   ]
  },
  {
   "cell_type": "code",
   "execution_count": 59,
   "metadata": {
    "ExecuteTime": {
     "end_time": "2021-01-04T00:13:37.637671Z",
     "start_time": "2021-01-04T00:13:37.628115Z"
    }
   },
   "outputs": [
    {
     "data": {
      "text/plain": [
       "nike              0.070538\n",
       "puma              0.061889\n",
       "vans              0.037852\n",
       "new balance       0.035269\n",
       "reebok            0.025946\n",
       "                    ...   \n",
       "coronado          0.000112\n",
       "smoky             0.000112\n",
       "wood n' stream    0.000112\n",
       "ameta             0.000112\n",
       "rbx               0.000112\n",
       "Name: brands, Length: 737, dtype: float64"
      ]
     },
     "execution_count": 59,
     "metadata": {},
     "output_type": "execute_result"
    }
   ],
   "source": [
    "shoes.brands.value_counts(normalize=True, ascending=False)\n",
    "# Nike and Puma are leading in the number of items listed.\n",
    "# Let's compare the price ranges of these two brands."
   ]
  },
  {
   "cell_type": "code",
   "execution_count": 60,
   "metadata": {
    "ExecuteTime": {
     "end_time": "2021-01-04T00:13:37.654526Z",
     "start_time": "2021-01-04T00:13:37.640152Z"
    }
   },
   "outputs": [
    {
     "data": {
      "text/html": [
       "<div>\n",
       "<style scoped>\n",
       "    .dataframe tbody tr th:only-of-type {\n",
       "        vertical-align: middle;\n",
       "    }\n",
       "\n",
       "    .dataframe tbody tr th {\n",
       "        vertical-align: top;\n",
       "    }\n",
       "\n",
       "    .dataframe thead th {\n",
       "        text-align: right;\n",
       "    }\n",
       "</style>\n",
       "<table border=\"1\" class=\"dataframe\">\n",
       "  <thead>\n",
       "    <tr style=\"text-align: right;\">\n",
       "      <th></th>\n",
       "      <th>description</th>\n",
       "      <th>prices_amountmin</th>\n",
       "      <th>prices_amountmax</th>\n",
       "      <th>features</th>\n",
       "      <th>merchants</th>\n",
       "      <th>brands</th>\n",
       "      <th>categories</th>\n",
       "    </tr>\n",
       "  </thead>\n",
       "  <tbody>\n",
       "    <tr>\n",
       "      <th>0</th>\n",
       "      <td>Josmo 8190 Plain Infant Walking Shoes, Navy - ...</td>\n",
       "      <td>39.89</td>\n",
       "      <td>39.89</td>\n",
       "      <td>[{\"key\":\"Gender\",\"value\":[\"Men\"]},{\"key\":\"Shoe...</td>\n",
       "      <td>Unbeatablesale</td>\n",
       "      <td>josmo</td>\n",
       "      <td>Men's Shoes</td>\n",
       "    </tr>\n",
       "    <tr>\n",
       "      <th>1</th>\n",
       "      <td>Josmo 8190 Plain Infant Walking Shoes, Navy - ...</td>\n",
       "      <td>51.99</td>\n",
       "      <td>51.99</td>\n",
       "      <td>[{\"key\":\"Gender\",\"value\":[\"Men\"]},{\"key\":\"Shoe...</td>\n",
       "      <td>Unbeatablesale</td>\n",
       "      <td>josmo</td>\n",
       "      <td>Men's Shoes</td>\n",
       "    </tr>\n",
       "    <tr>\n",
       "      <th>2</th>\n",
       "      <td>Servus By Honeywell Shoe Studs Zsr101blmlg</td>\n",
       "      <td>40.02</td>\n",
       "      <td>40.02</td>\n",
       "      <td>[{\"key\":\"Gender\",\"value\":[\"Men\"]},{\"key\":\"Colo...</td>\n",
       "      <td>Sim Supply Inc</td>\n",
       "      <td>servus by honeywell</td>\n",
       "      <td>NaN</td>\n",
       "    </tr>\n",
       "    <tr>\n",
       "      <th>3</th>\n",
       "      <td>Servus By Honeywell Shoe Studs Zsr101blmlg</td>\n",
       "      <td>50.31</td>\n",
       "      <td>50.31</td>\n",
       "      <td>[{\"key\":\"Gender\",\"value\":[\"Men\"]},{\"key\":\"Colo...</td>\n",
       "      <td>Sim Supply Inc</td>\n",
       "      <td>servus by honeywell</td>\n",
       "      <td>NaN</td>\n",
       "    </tr>\n",
       "    <tr>\n",
       "      <th>4</th>\n",
       "      <td>Servus By Honeywell Shoe Studs Zsr101blmlg</td>\n",
       "      <td>46.26</td>\n",
       "      <td>46.26</td>\n",
       "      <td>[{\"key\":\"Gender\",\"value\":[\"Men\"]},{\"key\":\"Colo...</td>\n",
       "      <td>Sim Supply Inc</td>\n",
       "      <td>servus by honeywell</td>\n",
       "      <td>NaN</td>\n",
       "    </tr>\n",
       "  </tbody>\n",
       "</table>\n",
       "</div>"
      ],
      "text/plain": [
       "                                         description  prices_amountmin  \\\n",
       "0  Josmo 8190 Plain Infant Walking Shoes, Navy - ...             39.89   \n",
       "1  Josmo 8190 Plain Infant Walking Shoes, Navy - ...             51.99   \n",
       "2         Servus By Honeywell Shoe Studs Zsr101blmlg             40.02   \n",
       "3         Servus By Honeywell Shoe Studs Zsr101blmlg             50.31   \n",
       "4         Servus By Honeywell Shoe Studs Zsr101blmlg             46.26   \n",
       "\n",
       "   prices_amountmax                                           features  \\\n",
       "0             39.89  [{\"key\":\"Gender\",\"value\":[\"Men\"]},{\"key\":\"Shoe...   \n",
       "1             51.99  [{\"key\":\"Gender\",\"value\":[\"Men\"]},{\"key\":\"Shoe...   \n",
       "2             40.02  [{\"key\":\"Gender\",\"value\":[\"Men\"]},{\"key\":\"Colo...   \n",
       "3             50.31  [{\"key\":\"Gender\",\"value\":[\"Men\"]},{\"key\":\"Colo...   \n",
       "4             46.26  [{\"key\":\"Gender\",\"value\":[\"Men\"]},{\"key\":\"Colo...   \n",
       "\n",
       "        merchants               brands   categories  \n",
       "0  Unbeatablesale                josmo  Men's Shoes  \n",
       "1  Unbeatablesale                josmo  Men's Shoes  \n",
       "2  Sim Supply Inc  servus by honeywell          NaN  \n",
       "3  Sim Supply Inc  servus by honeywell          NaN  \n",
       "4  Sim Supply Inc  servus by honeywell          NaN  "
      ]
     },
     "execution_count": 60,
     "metadata": {},
     "output_type": "execute_result"
    }
   ],
   "source": [
    "shoes.head()"
   ]
  },
  {
   "cell_type": "code",
   "execution_count": 82,
   "metadata": {
    "ExecuteTime": {
     "end_time": "2021-01-04T00:34:26.930793Z",
     "start_time": "2021-01-04T00:34:26.401312Z"
    }
   },
   "outputs": [
    {
     "data": {
      "image/png": "[encoded data removed]",
      "text/plain": [
       "<Figure size 792x576 with 2 Axes>"
      ]
     },
     "metadata": {
      "needs_background": "light"
     },
     "output_type": "display_data"
    }
   ],
   "source": [
    "selected_brands = shoes_alt[(shoes_alt.brands == 'nike') | (shoes_alt.brands == 'puma')]\n",
    "\n",
    "fig, axes = plt.subplots(1, 2, figsize=(11, 8))\n",
    "\n",
    "# Left hand side plot with points dimmed to show\n",
    "# violin plot peaks\n",
    "sns.stripplot(ax= axes[0], data=selected_brands,\n",
    "              x='prices', y='brands',\n",
    "              jitter=True,\n",
    "              hue='price_type', dodge=True,\n",
    "              alpha=0.01);\n",
    "sns.violinplot(ax= axes[0], data=selected_brands,\n",
    "              x='prices', y='brands',\n",
    "              inner=None, color='0.8');\n",
    "axes[0].axvline(80);\n",
    "axes[0].axvline(160);\n",
    "\n",
    "# Right hand side plot with all points shown\n",
    "sns.stripplot(ax= axes[1], data=selected_brands,\n",
    "              x='prices', y='brands',\n",
    "              jitter=True,\n",
    "              hue='price_type', dodge=True,\n",
    "              alpha=0.2);\n",
    "sns.violinplot(ax= axes[1], data=selected_brands,\n",
    "              x='prices', y='brands',\n",
    "              inner=None, color='0.8');\n",
    "\n",
    "# You can see that although Puma has a similar number of items listed for sale,\n",
    "# the Nike brand item value range is higher. The Nike distribution peak\n",
    "# is around 80, while the Puma distribution peak is below 80.\n",
    "# The violinplot ends for Puma around 160, while it goes on for\n",
    "# some more time after that for Nike.\n",
    "# This just means that the prices listed online for Nike are higher\n",
    "# than those listed for Puma.\n",
    "# Surprisingly, the lower price point for Puma is higher\n",
    "# than the lower price point for Nike."
   ]
  },
  {
   "cell_type": "code",
   "execution_count": 90,
   "metadata": {
    "ExecuteTime": {
     "end_time": "2021-01-04T00:40:49.037706Z",
     "start_time": "2021-01-04T00:40:48.163540Z"
    }
   },
   "outputs": [
    {
     "data": {
      "image/png": "[encoded data removed]",
      "text/plain": [
       "<Figure size 792x576 with 1 Axes>"
      ]
     },
     "metadata": {
      "needs_background": "light"
     },
     "output_type": "display_data"
    }
   ],
   "source": [
    "plt.figure(figsize=(11, 8))\n",
    "sns.histplot(selected_brands, x='prices', hue='brands');\n",
    "# Another way to see the same two Nike/Puma prices"
   ]
  },
  {
   "cell_type": "code",
   "execution_count": null,
   "metadata": {},
   "outputs": [],
   "source": []
  }
 ],
 "metadata": {
  "kernelspec": {
   "display_name": "Python 3",
   "language": "python",
   "name": "python3"
  },
  "language_info": {
   "codemirror_mode": {
    "name": "ipython",
    "version": 3
   },
   "file_extension": ".py",
   "mimetype": "text/x-python",
   "name": "python",
   "nbconvert_exporter": "python",
   "pygments_lexer": "ipython3",
   "version": "3.8.5"
  },
  "toc": {
   "base_numbering": 1,
   "nav_menu": {},
   "number_sections": true,
   "sideBar": true,
   "skip_h1_title": false,
   "title_cell": "Table of Contents",
   "title_sidebar": "Contents",
   "toc_cell": false,
   "toc_position": {},
   "toc_section_display": true,
   "toc_window_display": false
  },
  "varInspector": {
   "cols": {
    "lenName": 16,
    "lenType": 16,
    "lenVar": 40
   },
   "kernels_config": {
    "python": {
     "delete_cmd_postfix": "",
     "delete_cmd_prefix": "del ",
     "library": "var_list.py",
     "varRefreshCmd": "print(var_dic_list())"
    },
    "r": {
     "delete_cmd_postfix": ") ",
     "delete_cmd_prefix": "rm(",
     "library": "var_list.r",
     "varRefreshCmd": "cat(var_dic_list()) "
    }
   },
   "types_to_exclude": [
    "module",
    "function",
    "builtin_function_or_method",
    "instance",
    "_Feature"
   ],
   "window_display": false
  }
 },
 "nbformat": 4,
 "nbformat_minor": 4
}
